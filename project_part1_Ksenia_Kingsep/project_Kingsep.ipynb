{
 "cells": [
  {
   "cell_type": "markdown",
   "metadata": {},
   "source": [
    "## <center> Дополнительное профессиональное <br> образование НИУ ВШЭ </center>\n",
    "#### <center>Программа \"Практический анализ данных и машинное обучение\" </center>\n",
    "### <center> Задание выполнила: Ксения Кингсеп </center>"
   ]
  },
  {
   "cell_type": "markdown",
   "metadata": {},
   "source": [
    "## <center> Индивидуальный проект по анализу данных </center>"
   ]
  },
  {
   "cell_type": "markdown",
   "metadata": {},
   "source": [
    "**План исследования**\n",
    " - Описание набора данных и признаков\n",
    " - Первичный анализ признаков\n",
    " - Первичный визуальный анализ признаков\n",
    " - Закономерности, \"инсайты\", особенности данных\n",
    " - Предобработка данных\n",
    " - Построение признаков\n",
    " - Отбор признаков\n",
    " - Построение модели\n",
    " - Кросс-валидация, подбор параметров\n",
    " - Кривые валидации и обучения\n",
    " - Прогноз для тестовой (или отложенной) выборки\n",
    " - Оценка модели с описанием выбранной метрики\n",
    " - Выводы"
   ]
  },
  {
   "cell_type": "code",
   "execution_count": 2,
   "metadata": {},
   "outputs": [
    {
     "name": "stdout",
     "output_type": "stream",
     "text": [
      "Populating the interactive namespace from numpy and matplotlib\n"
     ]
    }
   ],
   "source": [
    "from __future__ import division, print_function\n",
    "# отключим всякие предупреждения Anaconda\n",
    "import warnings\n",
    "warnings.filterwarnings('ignore')\n",
    "import numpy as np\n",
    "import pandas as pd\n",
    "import seaborn as sns\n",
    "%pylab inline"
   ]
  },
  {
   "cell_type": "code",
   "execution_count": 3,
   "metadata": {},
   "outputs": [],
   "source": [
    "from sklearn import preprocessing\n",
    "from sklearn.linear_model import LogisticRegression\n",
    "from sklearn.neighbors import KNeighborsClassifier\n",
    "from sklearn.ensemble import RandomForestClassifier\n",
    "from sklearn.ensemble import GradientBoostingClassifier\n",
    "from sklearn.svm import SVC\n",
    "\n",
    "from sklearn.model_selection import GridSearchCV\n",
    "from sklearn.model_selection import validation_curve\n",
    "from sklearn.model_selection import learning_curve\n",
    "from sklearn.metrics import accuracy_score, roc_auc_score"
   ]
  },
  {
   "cell_type": "markdown",
   "metadata": {},
   "source": [
    "### Импорт данных"
   ]
  },
  {
   "cell_type": "code",
   "execution_count": 3,
   "metadata": {},
   "outputs": [],
   "source": [
    "data = pd.read_csv('credit_train.csv', sep = ';', encoding='cp1251', index_col='client_id')\n",
    "test = pd.read_csv('credit_test.csv', sep = ';', encoding='cp1251', index_col='client_id')"
   ]
  },
  {
   "cell_type": "markdown",
   "metadata": {},
   "source": [
    "<img src=\"TinkoffBank_simple_logo_5.png\", width = 100>"
   ]
  },
  {
   "cell_type": "markdown",
   "metadata": {},
   "source": [
    "###  Часть 1. Описание набора данных и признаков"
   ]
  },
  {
   "cell_type": "markdown",
   "metadata": {},
   "source": [
    "Данные были взяты из только что прошедшего <a href=\"https://boosters.pro/champ_3#\">соревнования</a> банка Тинькофф. \n",
    "\n",
    "#### Постановка задачи\n",
    "\n",
    "   Tinkoff.ru работает с сетью магазинов электроники, в которой присутствуют и другие банки. Заявка на кредит от покупателя поступает сразу в несколько банков, часть из них заявку одобряют. После этого покупатель выбирает, в каком банке взять кредит. Датасет содержит данные о кредитах на покупку электроники, которые были одобрены Tinkoff.ru. Необходимо предсказать, выберет ли покупатель кредит от Tinkoff.ru.  Файлы `credit_train.csv` и `credit_test.csv` представляет собой набор данных о клиентах, которым был одобрен кредит. Целевой бинарный признак `open_account_flg` содержит `1` если клиент выбрал Тинькофф и `0` в противном случае. \n",
    "\n",
    "#### Обзор данных"
   ]
  },
  {
   "cell_type": "code",
   "execution_count": null,
   "metadata": {},
   "outputs": [],
   "source": [
    "data.head().T"
   ]
  },
  {
   "cell_type": "code",
   "execution_count": null,
   "metadata": {},
   "outputs": [],
   "source": [
    "test.head().T"
   ]
  },
  {
   "cell_type": "code",
   "execution_count": null,
   "metadata": {},
   "outputs": [],
   "source": [
    "data.shape"
   ]
  },
  {
   "cell_type": "markdown",
   "metadata": {},
   "source": [
    "Всего в обучающей выборке 170746 объектов (клиентов) и 14 признаков, в том числе целевой:\n",
    "- `client_id`: идентификатор клиента (выбран в качестве индекса)\n",
    "- `gender`: пол клиента (M/F)\n",
    "- `age`: возраст клиента\n",
    "- `marital_status`: семейное положение клиента (`UNM` - холост/не замужем, `DIV` - разведен(а), `MAR` - женат/замужем, `WID` - вдовец/вдова, `CIV` - сожительство)\n",
    "- `job_position`: работа клиента (`SPC` - неруководящий сотрудник - специалист, `DIR` - руководитель организации, `HSK` - домохозяйка, `INV` - не работает (инвалидность), `WOI` - работает на ИП, `WRK` - неруководящих сотрудник - рабочий, `ATP` - неруководящий сотрудник - обслуживающий персонал, `WRP` - работающий пенсионер, `UMN` - руководитель подразделения, `NOR` - не работает, `PNS` - пенсионер, `BIS` - собственный бизнес, `INP` - индивидуальный предприниматель)\n",
    "- `credit_sum`: сумма кредита\n",
    "- `credit_month`: срок кредитования в месяцах\n",
    "- `tariff_id`: номер предлагаемого тарифа\n",
    "- `score_shk`: неизвестный признак\n",
    "- `education`: образование клиента (`SCH` - начальное, среднее, `PGR` - второе высшее, `GRD` - высшее, `UGR` - неполное высшее, `ACD` - ученая степень)\n",
    "- `living_region`: регион проживания\n",
    "- `monthly_income`: месячный заработок\n",
    "- `credit_count`: количество кредитов у клиента\n",
    "- `overdue_credit_count`: количество просроченных кредитов у клиента\n",
    "- `open_account_flg`: выбрал ли клиент кредит от Тинькофф (целевой признак)\n"
   ]
  },
  {
   "cell_type": "code",
   "execution_count": null,
   "metadata": {},
   "outputs": [],
   "source": [
    "test.shape"
   ]
  },
  {
   "cell_type": "markdown",
   "metadata": {},
   "source": [
    "В тестовой выборке содержится 91940 объектов с 13 признаками. "
   ]
  },
  {
   "cell_type": "markdown",
   "metadata": {},
   "source": [
    "###  Часть 2. Первичный анализ и предварительная обработка признаков"
   ]
  },
  {
   "cell_type": "code",
   "execution_count": null,
   "metadata": {},
   "outputs": [],
   "source": [
    "data.info()"
   ]
  },
  {
   "cell_type": "code",
   "execution_count": null,
   "metadata": {},
   "outputs": [],
   "source": [
    "test.info()"
   ]
  },
  {
   "cell_type": "markdown",
   "metadata": {},
   "source": [
    "Несколько признаков являются текстовыми (тип `object`: пол, семейное положение, должность, сумма кредита, образование, регион проживания). Их необходимо будет предобработать и прерватить в бинарные или числовые признаки. Признак `tariff_id`, представленныей количественном виде, потребуется превратить в категориальный, как и йелевой признак `open_account_flg`."
   ]
  },
  {
   "cell_type": "markdown",
   "metadata": {},
   "source": [
    "Изменим типы признаков, чтобы в дальнейшем можно было грамотно провести их числовой и визуальный анализ: "
   ]
  },
  {
   "cell_type": "code",
   "execution_count": 4,
   "metadata": {},
   "outputs": [],
   "source": [
    "data['tariff_id'] = data['tariff_id'].astype('category')\n",
    "data['gender'] = data['gender'].astype('category')\n",
    "data['marital_status'] = data['marital_status'].astype('category')\n",
    "data['job_position'] = data['job_position'].astype('category')\n",
    "data['education'] = data['education'].astype('category')\n",
    "data['open_account_flg'] = data['open_account_flg'].astype('category')\n",
    "data['score_shk'] = [x.replace(',', '.') for x in data['score_shk']]\n",
    "data['score_shk'] = data['score_shk'].astype(float)\n",
    "data['credit_sum'] = [x.replace(',', '.') for x in data['credit_sum']]\n",
    "data['credit_sum'] = data['credit_sum'].astype(float)"
   ]
  },
  {
   "cell_type": "markdown",
   "metadata": {},
   "source": [
    "Аналогично трансформируем тестовую выборку. "
   ]
  },
  {
   "cell_type": "code",
   "execution_count": 5,
   "metadata": {},
   "outputs": [],
   "source": [
    "test['tariff_id'] = test['tariff_id'].astype('category')\n",
    "test['gender'] = test['gender'].astype('category')\n",
    "test['marital_status'] = test['marital_status'].astype('category')\n",
    "test['job_position'] = test['job_position'].astype('category')\n",
    "test['education'] = test['education'].astype('category')\n",
    "test['score_shk'] = [x.replace(',', '.') for x in test['score_shk']]\n",
    "test['score_shk'] = test['score_shk'].astype(float)\n",
    "test['credit_sum'] = [x.replace(',', '.') for x in test['credit_sum']]\n",
    "test['credit_sum'] = test['credit_sum'].astype(float)\n",
    "test['monthly_income'] = test['monthly_income'].astype(float)"
   ]
  },
  {
   "cell_type": "code",
   "execution_count": null,
   "metadata": {},
   "outputs": [],
   "source": [
    "print(data.info(), test.info())"
   ]
  },
  {
   "cell_type": "markdown",
   "metadata": {},
   "source": [
    "Все признаки (кроме \"сложного\" и требующего дополнительной обработки `living_region` теперь имеют правильные типы.   \n",
    "Посмотрим на *пропуски* в данных:"
   ]
  },
  {
   "cell_type": "code",
   "execution_count": null,
   "metadata": {},
   "outputs": [],
   "source": [
    "data.isnull().sum()"
   ]
  },
  {
   "cell_type": "code",
   "execution_count": null,
   "metadata": {},
   "outputs": [],
   "source": [
    "test.isnull().sum()"
   ]
  },
  {
   "cell_type": "markdown",
   "metadata": {},
   "source": [
    "Имеются признаки с пропущенными данными (количество кредитов и просроченных кредитов, регион проживания, годовой доход), которые потребуется заполнить. "
   ]
  },
  {
   "cell_type": "markdown",
   "metadata": {},
   "source": [
    "Общая статистика по количественным признакам: "
   ]
  },
  {
   "cell_type": "code",
   "execution_count": null,
   "metadata": {},
   "outputs": [],
   "source": [
    "data.describe()"
   ]
  },
  {
   "cell_type": "code",
   "execution_count": null,
   "metadata": {},
   "outputs": [],
   "source": [
    "test.describe()"
   ]
  },
  {
   "cell_type": "markdown",
   "metadata": {},
   "source": [
    "На основании этой статистики мы можем составить представление о распределении возрастов (от 18 до 71 года в обеих выборках), сроков кредита (от 3 до 36 месяцев), сумм кредита (от 2736 до 200000 у.е.), ежемесячном доходе клиентов (от 5000 до 950000 у.е. в обучающей выборке и  от 0 до 700000 у.е. в тестовой) и количестве имеющихся (максимум 22) и просроченных (максимум 3) кредитов. \n",
    "В целом статистика по обеим выборкам очень близка, скорее всего они взяты из одного распределения. "
   ]
  },
  {
   "cell_type": "markdown",
   "metadata": {},
   "source": [
    "Распределение категориальных признаков:"
   ]
  },
  {
   "cell_type": "code",
   "execution_count": null,
   "metadata": {
    "scrolled": true
   },
   "outputs": [],
   "source": [
    "categorical = ['gender', 'marital_status', 'job_position', 'education', 'tariff_id']\n",
    "for each_var in categorical:\n",
    "    print('--------')\n",
    "    print(each_var)\n",
    "    print(data[each_var].value_counts())"
   ]
  },
  {
   "cell_type": "markdown",
   "metadata": {},
   "source": [
    "То же самое для тестовой выборки:"
   ]
  },
  {
   "cell_type": "code",
   "execution_count": null,
   "metadata": {
    "scrolled": false
   },
   "outputs": [],
   "source": [
    "for each_var in categorical:\n",
    "    print('--------')\n",
    "    print(each_var)\n",
    "    print(test[each_var].value_counts())"
   ]
  },
  {
   "cell_type": "markdown",
   "metadata": {},
   "source": [
    "Изучим признак `living_region`:"
   ]
  },
  {
   "cell_type": "code",
   "execution_count": null,
   "metadata": {
    "scrolled": false
   },
   "outputs": [],
   "source": [
    "data['living_region'].nunique(), data['living_region'].unique()"
   ]
  },
  {
   "cell_type": "markdown",
   "metadata": {},
   "source": [
    "Количество кодировок субъектов Российской Федерации в несколько раз превышает их реальное количество, поэтому для корректного учета данного признака в модели потребуется предобработка данных."
   ]
  },
  {
   "cell_type": "markdown",
   "metadata": {},
   "source": [
    "###  Часть 3. Первичный визуальный анализ признаков"
   ]
  },
  {
   "cell_type": "markdown",
   "metadata": {
    "collapsed": true
   },
   "source": [
    "Для начала посмотрим на распределение целевого признака:"
   ]
  },
  {
   "cell_type": "code",
   "execution_count": null,
   "metadata": {},
   "outputs": [],
   "source": [
    "sns.countplot(data['open_account_flg']);\n",
    "data['open_account_flg'].value_counts()"
   ]
  },
  {
   "cell_type": "code",
   "execution_count": null,
   "metadata": {},
   "outputs": [],
   "source": [
    "data['open_account_flg'].value_counts()[1]/(data['open_account_flg'].value_counts()[0] \\\n",
    "                                            +data['open_account_flg'].value_counts()[1])"
   ]
  },
  {
   "cell_type": "markdown",
   "metadata": {},
   "source": [
    "В представленной выборке 17.6% клиентов выбрали кредит от Tinkoff.ru. "
   ]
  },
  {
   "cell_type": "markdown",
   "metadata": {},
   "source": [
    "Построим гистограммы для количественных признаков для обучающей и тестовой выборки:"
   ]
  },
  {
   "cell_type": "code",
   "execution_count": null,
   "metadata": {},
   "outputs": [],
   "source": [
    "figsize(20, 20)\n",
    "predictors = list(set(data.columns))\n",
    "plots = data[predictors].hist(bins=20)"
   ]
  },
  {
   "cell_type": "code",
   "execution_count": null,
   "metadata": {},
   "outputs": [],
   "source": [
    "predictors = list(set(test.columns))\n",
    "plots = test[predictors].hist(bins=20)"
   ]
  },
  {
   "cell_type": "markdown",
   "metadata": {},
   "source": [
    "Распределения количественных признаков также очень близки для обеих выборок."
   ]
  },
  {
   "cell_type": "markdown",
   "metadata": {},
   "source": [
    "Данные по доходам и просроченным кредитам рассмотрим поближе. Сначала посмотрим на гистограмму доходов и их логарифмов:"
   ]
  },
  {
   "cell_type": "code",
   "execution_count": null,
   "metadata": {},
   "outputs": [],
   "source": [
    "fig, axs = plt.subplots(1,2)\n",
    "figsize(16,8)\n",
    "data['monthly_income'].hist(bins=100, ax=axs[0]);\n",
    "data['monthly_income'].apply(np.log).hist(bins=30, ax=axs[1]);"
   ]
  },
  {
   "cell_type": "code",
   "execution_count": null,
   "metadata": {},
   "outputs": [],
   "source": [
    "fig, axs = plt.subplots(1,2)\n",
    "test['monthly_income'].hist(bins=100, ax=axs[0]);\n",
    "test['monthly_income'] = test['monthly_income'] + 1\n",
    "test['monthly_income'].apply(np.log).hist(bins=30, ax=axs[1]);"
   ]
  },
  {
   "cell_type": "markdown",
   "metadata": {},
   "source": [
    "Большая часть клиентов небольшие зарплаты, однако распределение имеет \"правый хвост\" с отдельными очень крупными значениями. Распределение логарифма доходов ближе к нормальному."
   ]
  },
  {
   "cell_type": "code",
   "execution_count": null,
   "metadata": {},
   "outputs": [],
   "source": [
    "data['overdue_credit_count'].value_counts()"
   ]
  },
  {
   "cell_type": "code",
   "execution_count": null,
   "metadata": {},
   "outputs": [],
   "source": [
    "test['overdue_credit_count'].value_counts()"
   ]
  },
  {
   "cell_type": "markdown",
   "metadata": {},
   "source": [
    "Большая часть клиентов не имеет кредитов, один кредит в обучающей выборке имеет 7326 человек и лишь 55 человек имеют 2-3 кредита. Похожее распределение сохраняется и для тестовой выборки. \n",
    "\n",
    "Теперь рассчитаем долю клиентов, выбравших кредит от Тинькофф, для каждого количества просроченных кредитов. "
   ]
  },
  {
   "cell_type": "code",
   "execution_count": null,
   "metadata": {},
   "outputs": [],
   "source": [
    "ratio_by_od_credit = pd.crosstab(data['overdue_credit_count'], data['open_account_flg'])[1]/ \\\n",
    "(pd.crosstab(data['overdue_credit_count'], data['open_account_flg'])[0] + \\\n",
    " pd.crosstab(data['overdue_credit_count'], data['open_account_flg'])[1])\n",
    "figsize(5,5)\n",
    "sns.barplot(x=ratio_by_od_credit.index, y = ratio_by_od_credit);"
   ]
  },
  {
   "cell_type": "markdown",
   "metadata": {},
   "source": [
    "Видим тенденцию: клиенты с просроченными кредитами несколько чаще выбирают кредиты от Тинькофф, чем  клиенты без просроченных кредитов. \n",
    "\n",
    "Теперь рассчитаем долю клиентов, выбравших кредит от Тинькофф, для людей с разным количеством кредитов."
   ]
  },
  {
   "cell_type": "code",
   "execution_count": null,
   "metadata": {},
   "outputs": [],
   "source": [
    "ratio_by_credit = pd.crosstab(data['credit_count'], data['open_account_flg'])[1]/ \\\n",
    "(pd.crosstab(data['credit_count'], data['open_account_flg'])[0] + \\\n",
    " pd.crosstab(data['credit_count'], data['open_account_flg'])[1])\n",
    "\n",
    "figsize(8, 6)\n",
    "sns.barplot(x=ratio_by_credit.index, y = ratio_by_credit);"
   ]
  },
  {
   "cell_type": "markdown",
   "metadata": {},
   "source": [
    "График выше показывает, что доля клиентов, выбравших кредит от Тинькофф имеет тенденцию к возрастаню при увеличении количества имеющихся кредитов. \n",
    "\n",
    "Посмотрим, какое влияние оказывает предложенный тариф:"
   ]
  },
  {
   "cell_type": "code",
   "execution_count": null,
   "metadata": {},
   "outputs": [],
   "source": [
    "ratio_by_tariff = pd.crosstab(data['tariff_id'], data['open_account_flg'])[1]/ \\\n",
    "(pd.crosstab(data['tariff_id'], data['open_account_flg'])[0] + \\\n",
    " pd.crosstab(data['tariff_id'], data['open_account_flg'])[1])\n",
    "figsize(16, 6)\n",
    "sns.barplot(x=ratio_by_tariff.index.astype('float64'), y = ratio_by_tariff);"
   ]
  },
  {
   "cell_type": "markdown",
   "metadata": {},
   "source": [
    "По графику мы видим, что доля клиентов, выбравших кредит от Тинькофф, также сильно изменяется в зависимости от предложенного им тарифа. \n",
    "  \n",
    "Изучим сами тарифы:"
   ]
  },
  {
   "cell_type": "code",
   "execution_count": null,
   "metadata": {},
   "outputs": [],
   "source": [
    "sns.factorplot(data=data, x=\"tariff_id\", y=\"credit_sum\", kind=\"violin\", size = 10);"
   ]
  },
  {
   "cell_type": "markdown",
   "metadata": {},
   "source": [
    "Можно предположить, что сумма кредита является одной из характеристик для ряда тарифов. "
   ]
  },
  {
   "cell_type": "code",
   "execution_count": null,
   "metadata": {},
   "outputs": [],
   "source": [
    "sns.factorplot(data=data, x=\"tariff_id\", y=\"age\", kind=\"violin\", size = 10);"
   ]
  },
  {
   "cell_type": "markdown",
   "metadata": {},
   "source": [
    "Несколько тарифов скорее всего не рассчитаны на покупателей старшей возрастной группы. "
   ]
  },
  {
   "cell_type": "markdown",
   "metadata": {},
   "source": [
    "Построим график выбора кредита от Тинькофф в зависимости от срока кредитования:"
   ]
  },
  {
   "cell_type": "code",
   "execution_count": null,
   "metadata": {},
   "outputs": [],
   "source": [
    "ratio_by_len = pd.crosstab(data['credit_month'], data['open_account_flg'])[1]/ \\\n",
    "(pd.crosstab(data['credit_month'], data['open_account_flg'])[0] + \\\n",
    " pd.crosstab(data['credit_month'], data['open_account_flg'])[1])\n",
    "\n",
    "figsize(8, 4)\n",
    "sns.barplot(x=ratio_by_len.index, y = ratio_by_len);"
   ]
  },
  {
   "cell_type": "markdown",
   "metadata": {},
   "source": [
    "Разброс доли клиентов, выбравших Тинькофф, в зависимости от срока кредитования, довольно большой. "
   ]
  },
  {
   "cell_type": "markdown",
   "metadata": {},
   "source": [
    "Попробуем найти иные закономерности в данных. "
   ]
  },
  {
   "cell_type": "code",
   "execution_count": null,
   "metadata": {},
   "outputs": [],
   "source": [
    "sns.pairplot(data[['age', 'monthly_income', 'credit_sum', 'credit_month', 'score_shk', 'open_account_flg']], hue='open_account_flg');"
   ]
  },
  {
   "cell_type": "markdown",
   "metadata": {},
   "source": [
    "Отдельно посмотрим на график зарплат и сумм кредита. "
   ]
  },
  {
   "cell_type": "code",
   "execution_count": null,
   "metadata": {},
   "outputs": [],
   "source": [
    "sns.lmplot(x='monthly_income', y= 'credit_sum', data=data, hue = 'open_account_flg', fit_reg=False, scatter_kws={'alpha': 0.6});"
   ]
  },
  {
   "cell_type": "code",
   "execution_count": null,
   "metadata": {},
   "outputs": [],
   "source": [
    "sns.lmplot(x='monthly_income', y= 'credit_sum', data=test, fit_reg=False, scatter_kws={'alpha': 0.6});"
   ]
  },
  {
   "cell_type": "markdown",
   "metadata": {},
   "source": [
    "Клиенты, имеющие наиболее высокий доход или наибольшую сумму кредита, выбирают кредиты других банков. Также отметим, что самые крупные кредиты берут покупатели с невысокой и средней зарплатой. Наоборот, покупатели, имеющие высокий доход, берут средние и небольшие кредиты. "
   ]
  },
  {
   "cell_type": "markdown",
   "metadata": {},
   "source": [
    "Возраст и сумма кредита:"
   ]
  },
  {
   "cell_type": "code",
   "execution_count": null,
   "metadata": {},
   "outputs": [],
   "source": [
    "sns.lmplot(x='age', y= 'credit_sum', data=data, hue = 'open_account_flg', fit_reg=False);"
   ]
  },
  {
   "cell_type": "code",
   "execution_count": null,
   "metadata": {},
   "outputs": [],
   "source": [
    "sns.lmplot(x='age', y= 'credit_sum', data=test, fit_reg=False);"
   ]
  },
  {
   "cell_type": "markdown",
   "metadata": {},
   "source": [
    "Самые большие суммы кредитов берут молодые покупатели от 20 до 50 лет. Они чаще отдают предпочтение предложениям других банков. "
   ]
  },
  {
   "cell_type": "markdown",
   "metadata": {},
   "source": [
    "Построим матрицу корреляций:"
   ]
  },
  {
   "cell_type": "code",
   "execution_count": null,
   "metadata": {},
   "outputs": [],
   "source": [
    "corr = data[predictors].corr()\n",
    "figsize(12, 8)\n",
    "sns.heatmap(corr);"
   ]
  },
  {
   "cell_type": "code",
   "execution_count": null,
   "metadata": {},
   "outputs": [],
   "source": [
    "corr = test[predictors].corr()\n",
    "figsize(12, 8)\n",
    "sns.heatmap(corr);"
   ]
  },
  {
   "cell_type": "markdown",
   "metadata": {},
   "source": [
    "В целом корреляции между количественными призаками довольно слабые. Наиболее сильна корреляция между ежемесячным доходом и суммой кредита (0.35). Как показал график выше, эта зависимость неоднозначна. Коллинеарность признаков не наблюдается. "
   ]
  },
  {
   "cell_type": "markdown",
   "metadata": {},
   "source": [
    "Еще несколько любопытных графиков:"
   ]
  },
  {
   "cell_type": "code",
   "execution_count": null,
   "metadata": {},
   "outputs": [],
   "source": [
    "figsize(8,8)\n",
    "sns.stripplot(x=\"marital_status\", y=\"monthly_income\", data=data, jitter=True);"
   ]
  },
  {
   "cell_type": "code",
   "execution_count": null,
   "metadata": {},
   "outputs": [],
   "source": [
    "sns.stripplot(x=\"marital_status\", y=\"monthly_income\", data=test, jitter=True);"
   ]
  },
  {
   "cell_type": "markdown",
   "metadata": {},
   "source": [
    "Наиболее высокие доходы характерны для состоящих в браке клиентов. Наиболее низкие в среднем - для вдовцов и состоящих в незарегистрированных отношениях (т.н. \"гражданский брак\"). В тестовой выборке наблюдаем единичный более высокий доход (500000) для клиентовнескольких групп. "
   ]
  },
  {
   "cell_type": "code",
   "execution_count": null,
   "metadata": {},
   "outputs": [],
   "source": [
    "sns.stripplot(x=\"marital_status\", y=\"age\", data=data, jitter=True);"
   ]
  },
  {
   "cell_type": "markdown",
   "metadata": {},
   "source": [
    "Логичная закономерность: среди людей старшей возрастной группы меньше тех, кто состоит в \"гражданском браке\", а среди вдовцов меньше представителей младщей возрастной групппы. "
   ]
  },
  {
   "cell_type": "code",
   "execution_count": null,
   "metadata": {},
   "outputs": [],
   "source": [
    "sns.violinplot(x=\"marital_status\", y=\"credit_sum\", hue=\"gender\", data=data, split=True);"
   ]
  },
  {
   "cell_type": "code",
   "execution_count": null,
   "metadata": {},
   "outputs": [],
   "source": [
    "sns.violinplot(x=\"marital_status\", y=\"credit_sum\", hue=\"gender\", data=test, split=True);"
   ]
  },
  {
   "cell_type": "code",
   "execution_count": null,
   "metadata": {},
   "outputs": [],
   "source": [
    "sns.violinplot(x=\"gender\", y=\"age\", hue = \"open_account_flg\", data=data, split=True);"
   ]
  },
  {
   "cell_type": "markdown",
   "metadata": {},
   "source": [
    "Отметим, что среди старшей возрастной группы женщин, берущих кредит, больше. Вероятно, это объясняется большей долей женского населения среди пенсионеров в целом. На графике зависимости дохода от должности (ниже) также хорошо выделяется по преобладанию женщин группа пенсионеров. "
   ]
  },
  {
   "cell_type": "code",
   "execution_count": null,
   "metadata": {},
   "outputs": [],
   "source": [
    "figsize(20,10)\n",
    "sns.violinplot(x=\"job_position\", y=\"monthly_income\", hue=\"gender\", data=data, split=True);"
   ]
  },
  {
   "cell_type": "code",
   "execution_count": null,
   "metadata": {},
   "outputs": [],
   "source": [
    "sns.jointplot(\"age\", \"credit_sum\", data=data, kind='kde');"
   ]
  },
  {
   "cell_type": "code",
   "execution_count": null,
   "metadata": {},
   "outputs": [],
   "source": [
    "sns.jointplot(\"age\", \"credit_sum\", data=test, kind='kde');"
   ]
  },
  {
   "cell_type": "markdown",
   "metadata": {},
   "source": [
    "График выше демонстрирует, что большая часть покупателей берут в кредит суммы до 25000. Возраст основной массы покупателей - от 25 до 40 лет. "
   ]
  },
  {
   "cell_type": "markdown",
   "metadata": {},
   "source": [
    "###  Часть 4. Закономерности, \"инсайты\", особенности данных"
   ]
  },
  {
   "cell_type": "markdown",
   "metadata": {
    "collapsed": true
   },
   "source": [
    "1. Категории большей части признаков были определены неверно, поэтому их требуется изменить, а некоторые - перекодировать для обучения моделей. Наиболее сложной представляется задача приведения к рабочему виду признака `living_region`. \n",
    "2. Визуальный анализ данных позволил предположить, что такие признаки как количество кредитов и просроченных кредитов имеют некоторое влияние на выбор клиентов предложения от Тинькофф. Вероятно, это связано с тем, что таким клиентам в целом поступает меньшее количество предложений от других банков. \n",
    "3. Клиенты, имеющие наиболее высокий доход и/или большую сумму кредита, предпочитают кредиты других банков. \n",
    "4. Тарифы банка предположительно сильно различаются по своим характеристикам, некоторые имеют явную \"специализацию\" на определенный клиентский сектор. Визуальный анализ показал, что доля клиентов, выбравших Тинькофф существенно различается в зависимости от тарифа. \n",
    "5. Скорее всего, исходные данные были грамотно разбиты, обучающая и тестовая выборка были взяты из одного распределения, о чем говорит близое распределение признаков, средние и медианные значения, а также визуальный анализ. "
   ]
  },
  {
   "cell_type": "markdown",
   "metadata": {},
   "source": [
    "###  Часть 5. Предобработка данных "
   ]
  },
  {
   "cell_type": "markdown",
   "metadata": {
    "collapsed": true
   },
   "source": [
    "В первую очередь заполним пропуски в данных. Для единственного пропущенного значения ежемесясного дохода возьмем медиану. При отсутствии данных о количестве кредитов и просроченных кредитов будет предполагать, что их нет. "
   ]
  },
  {
   "cell_type": "code",
   "execution_count": 6,
   "metadata": {
    "collapsed": true
   },
   "outputs": [],
   "source": [
    "data['monthly_income'].fillna(value=data['monthly_income'].median(), inplace = True)\n",
    "data['credit_count'].fillna(0, inplace = True)\n",
    "data['overdue_credit_count'].fillna(0, inplace = True)"
   ]
  },
  {
   "cell_type": "code",
   "execution_count": 7,
   "metadata": {
    "collapsed": true
   },
   "outputs": [],
   "source": [
    "test['monthly_income'].fillna(value=test['monthly_income'].median(), inplace = True)\n",
    "test['credit_count'].fillna(0, inplace = True)\n",
    "test['overdue_credit_count'].fillna(0, inplace = True)"
   ]
  },
  {
   "cell_type": "markdown",
   "metadata": {},
   "source": [
    "Перейдем к перекодированию регионов проживания. Требуется перекодировать повторяющиеся названия краев, областей, республик и автономных округов, а также встречающиеся названия административных центров регионов, муниципальный районов, устаревшие названия и опечатки."
   ]
  },
  {
   "cell_type": "code",
   "execution_count": 8,
   "metadata": {},
   "outputs": [],
   "source": [
    "stop = ['РЕСПУБЛИКА', 'ОБЛАСТЬ', 'РЕСП.', 'РЕСП', 'КРАЙ', 'АОБЛ', 'ОБЛ\\.', 'ОБЛ', 'АО', 'ЧУВАШИЯ', 'Г\\.', '/', '(', ')', \n",
    "        'АВТОНОМНАЯ', '\\sГ', 'АВТОНОМНЫЙ ОКРУГ - ЮГРА', 'АВТОНОМНЫЙ ОКРУГ - Ю', '- АЛАНИЯ','\\.', '\\s-', 'ОДИНЦОВО', 'Г\\s']\n",
    "data['clean_region'] = data['living_region']\n",
    "for word in stop:\n",
    "    data['clean_region'] = data['clean_region'].str.replace(word, '').str.strip()"
   ]
  },
  {
   "cell_type": "code",
   "execution_count": 9,
   "metadata": {},
   "outputs": [
    {
     "data": {
      "text/plain": [
       "(86, array(['КРАСНОДАРСКИЙ', 'МОСКВА', 'САРАТОВСКАЯ', 'ВОЛГОГРАДСКАЯ',\n",
       "        'ЧЕЛЯБИНСКАЯ', 'СТАВРОПОЛЬСКИЙ', 'НИЖЕГОРОДСКАЯ', 'МОСКОВСКАЯ',\n",
       "        'ХАНТЫ-МАНСИЙСКИЙ', 'САНКТ-ПЕТЕРБУРГ', 'БАШКОРТОСТАН',\n",
       "        'АРХАНГЕЛЬСКАЯ', 'ПЕРМСКИЙ', 'КАРАЧАЕВО-ЧЕРКЕССКАЯ', 'КАЛУЖСКАЯ',\n",
       "        'ВОЛОГОДСКАЯ', 'РОСТОВСКАЯ', 'УДМУРТСКАЯ', 'ИРКУТСКАЯ',\n",
       "        'ПРИВОЛЖСКИЙ ФЕДЕРАЛЬНЫЙ ОКРУГ', 'ТЮМЕНСКАЯ', 'БЕЛГОРОДСКАЯ',\n",
       "        'КОСТРОМСКАЯ', 'ХАКАСИЯ', 'ТАТАРСТАН', 'СВЕРДЛОВСКАЯ', 'ПСКОВСКАЯ',\n",
       "        'ЗАБАЙКАЛЬСКИЙ', 'ОРЕНБУРГСКАЯ', 'ВОРОНЕЖСКАЯ', 'АСТРАХАНСКАЯ',\n",
       "        'НОВОСИБИРСКАЯ', 'КУРГАНСКАЯ', 'УЛЬЯНОВСКАЯ', 'МУРМАНСКАЯ',\n",
       "        'КРАСНОЯРСКИЙ', 'БУРЯТИЯ', 'ЯКУТИЯ', 'АМУРСКАЯ', 'ХАБАРОВСКИЙ',\n",
       "        'ЯМАЛО-НЕНЕЦКИЙ', 'САМАРСКАЯ', 'ТВЕРСКАЯ', 'ЯРОСЛАВСКАЯ',\n",
       "        'ВЛАДИМИРСКАЯ', 'ЛЕНИНГРАДСКАЯ', 'ОРЛОВСКАЯ', 'КЕМЕРОВСКАЯ',\n",
       "        'ОМСКАЯ', 'ЧЕЧЕНСКАЯ', 'КУРСКАЯ', 'ТУЛЬСКАЯ', 'АДЫГЕЯ', 'КОМИ',\n",
       "        'ПРИМОРСКИЙ', 'СМОЛЕНСКАЯ', 'КИРОВСКАЯ', 'ДАГЕСТАН', 'ПЕНЗЕНСКАЯ',\n",
       "        'КАРЕЛИЯ', 'ТОМСКАЯ', 'МАГАДАНСКАЯ', 'МАРИЙ ЭЛ', 'ИВАНОВСКАЯ',\n",
       "        'ЕВРЕЙСКАЯ', 'АЛТАЙСКИЙ', 'КАБАРДИНО-БАЛКАРСКАЯ', 'ТАМБОВСКАЯ',\n",
       "        'ТЫВА', 'НОВГОРОДСКАЯ', 'ЛИПЕЦКАЯ', 'СЕВЕРНАЯ ОСЕТИЯ', 'РЯЗАНСКАЯ',\n",
       "        'САХАЛИНСКАЯ', 'ЧУВАШСКАЯ', 'РОССИЯ', 'КАМЧАТСКИЙ', 'МОРДОВИЯ',\n",
       "        'КАЛМЫКИЯ', 'АЛТАЙ', 'БРЯНСКАЯ', 'КАЛИНИНГРАДСКАЯ', 'НЕНЕЦКИЙ',\n",
       "        'ЧУКОТСКИЙ', 'ИНГУШЕТИЯ', 'ДАЛЬНИЙ ВОСТОК'], dtype=object))"
      ]
     },
     "execution_count": 9,
     "metadata": {},
     "output_type": "execute_result"
    }
   ],
   "source": [
    "data['clean_region'] = data['living_region']\n",
    "for word in stop:\n",
    "    data['clean_region'] = data['clean_region'].str.replace(word, '').str.strip()\n",
    "data['clean_region'].replace(to_replace = 'САХА ЯКУТИЯ', value = 'ЯКУТИЯ', inplace = True)\n",
    "data['clean_region'].replace(to_replace = 'ОРЁЛ', value = 'ОРЛОВСКАЯ', inplace = True)\n",
    "data['clean_region'].replace(to_replace = 'ГУСЬ-ХРУСТАЛЬНЫЙ Р-Н', value = 'ВЛАДИМИРСКАЯ', inplace = True)\n",
    "data['clean_region'].replace(to_replace = 'СЕВ ОСЕТИЯ', value = 'СЕВЕРНАЯ ОСЕТИЯ', inplace = True)\n",
    "data['clean_region'].replace(to_replace = 'САХА', value = 'ЯКУТИЯ', inplace = True)\n",
    "data['clean_region'].replace(to_replace = 'ПЕРМСКАЯ', value = 'ПЕРМСКИЙ', inplace = True)\n",
    "data['clean_region'].replace(to_replace = 'КАМЧАТСКАЯ', value = 'КАМЧАТСКИЙ', inplace = True)\n",
    "data['clean_region'].replace(to_replace = 'МОСКВОСКАЯ', value = 'МОСКОВСКАЯ', inplace = True)\n",
    "data['clean_region'].replace(to_replace = 'ЧИТИНСКАЯ', value = 'ЗАБАЙКАЛЬСКИЙ', inplace = True)\n",
    "data['clean_region'].replace(to_replace = 'ЭВЕНКИЙСКИЙ', value = 'КРАСНОЯРСКИЙ', inplace = True)\n",
    "data['clean_region'].replace(to_replace = 'МЫТИЩИНСКИЙ Р-Н', value = 'МОСКОВСКАЯ', inplace = True)\n",
    "data['clean_region'].replace(to_replace = 'БРЯНСКИЙ', value = 'БРЯНСКАЯ', inplace = True)\n",
    "data['clean_region'].replace(to_replace = 'ГОРЬКОВСКАЯ', value = 'НИЖЕГОРОДСКАЯ', inplace = True)\n",
    "data['clean_region'].replace(to_replace = '98', value = 'САНКТ-ПЕТЕРБУРГ', inplace = True)\n",
    "data['clean_region'].replace(to_replace = '74', value = 'ЧЕЛЯБИНСКАЯ', inplace = True)\n",
    "data['clean_region'].fillna('РОССИЯ', inplace=True)\n",
    "\n",
    "data['clean_region'].nunique(), data['clean_region'].unique()"
   ]
  },
  {
   "cell_type": "code",
   "execution_count": 10,
   "metadata": {},
   "outputs": [
    {
     "data": {
      "text/plain": [
       "(84, array(['КРАСНОДАРСКИЙ', 'МОСКВА', 'САРАТОВСКАЯ', 'ВОЛГОГРАДСКАЯ',\n",
       "        'ЧЕЛЯБИНСКАЯ', 'СТАВРОПОЛЬСКИЙ', 'НИЖЕГОРОДСКАЯ', 'МОСКОВСКАЯ',\n",
       "        'ХАНТЫ-МАНСИЙСКИЙ', 'САНКТ-ПЕТЕРБУРГ', 'БАШКОРТОСТАН',\n",
       "        'АРХАНГЕЛЬСКАЯ', 'ПЕРМСКИЙ', 'КАРАЧАЕВО-ЧЕРКЕССКАЯ', 'КАЛУЖСКАЯ',\n",
       "        'ВОЛОГОДСКАЯ', 'РОСТОВСКАЯ', 'УДМУРТСКАЯ', 'ИРКУТСКАЯ',\n",
       "        'ПРИВОЛЖСКИЙ ФЕДЕРАЛЬНЫЙ ОКРУГ', 'ТЮМЕНСКАЯ', 'БЕЛГОРОДСКАЯ',\n",
       "        'КОСТРОМСКАЯ', 'ХАКАСИЯ', 'ТАТАРСТАН', 'СВЕРДЛОВСКАЯ', 'ПСКОВСКАЯ',\n",
       "        'ЗАБАЙКАЛЬСКИЙ', 'ОРЕНБУРГСКАЯ', 'ВОРОНЕЖСКАЯ', 'АСТРАХАНСКАЯ',\n",
       "        'НОВОСИБИРСКАЯ', 'КУРГАНСКАЯ', 'УЛЬЯНОВСКАЯ', 'МУРМАНСКАЯ',\n",
       "        'КРАСНОЯРСКИЙ', 'БУРЯТИЯ', 'ЯКУТИЯ', 'АМУРСКАЯ', 'ХАБАРОВСКИЙ',\n",
       "        'ЯМАЛО-НЕНЕЦКИЙ', 'САМАРСКАЯ', 'ТВЕРСКАЯ', 'ЯРОСЛАВСКАЯ',\n",
       "        'ВЛАДИМИРСКАЯ', 'ЛЕНИНГРАДСКАЯ', 'ОРЛОВСКАЯ', 'КЕМЕРОВСКАЯ',\n",
       "        'ОМСКАЯ', 'ЧЕЧЕНСКАЯ', 'КУРСКАЯ', 'ТУЛЬСКАЯ', 'АДЫГЕЯ', 'КОМИ',\n",
       "        'ПРИМОРСКИЙ', 'СМОЛЕНСКАЯ', 'КИРОВСКАЯ', 'ДАГЕСТАН', 'ПЕНЗЕНСКАЯ',\n",
       "        'КАРЕЛИЯ', 'ТОМСКАЯ', 'МАГАДАНСКАЯ', 'МАРИЙ ЭЛ', 'ИВАНОВСКАЯ',\n",
       "        'ЕВРЕЙСКАЯ', 'АЛТАЙСКИЙ', 'КАБАРДИНО-БАЛКАРСКАЯ', 'ТАМБОВСКАЯ',\n",
       "        'ТЫВА', 'НОВГОРОДСКАЯ', 'ЛИПЕЦКАЯ', 'СЕВЕРНАЯ ОСЕТИЯ', 'РЯЗАНСКАЯ',\n",
       "        'САХАЛИНСКАЯ', 'ЧУВАШСКАЯ', 'РОССИЯ', 'КАМЧАТСКИЙ', 'МОРДОВИЯ',\n",
       "        'КАЛМЫКИЯ', 'АЛТАЙ', 'БРЯНСКАЯ', 'КАЛИНИНГРАДСКАЯ', 'НЕНЕЦКИЙ',\n",
       "        'ЧУКОТСКИЙ', 'ИНГУШЕТИЯ', 'ДАЛЬНИЙ ВОСТОК'], dtype=object))"
      ]
     },
     "execution_count": 10,
     "metadata": {},
     "output_type": "execute_result"
    }
   ],
   "source": [
    "test['clean_region'] = test['living_region']\n",
    "for word in stop:\n",
    "    test['clean_region'] = test['clean_region'].str.replace(word, '').str.strip()\n",
    "test['clean_region'].replace(to_replace = 'САХА ЯКУТИЯ', value = 'ЯКУТИЯ', inplace = True)\n",
    "test['clean_region'].replace(to_replace = 'ОРЁЛ', value = 'ОРЛОВСКАЯ', inplace = True)\n",
    "test['clean_region'].replace(to_replace = 'ГУСЬ-ХРУСТАЛЬНЫЙ Р-Н', value = 'ВЛАДИМИРСКАЯ', inplace = True)\n",
    "test['clean_region'].replace(to_replace = 'СЕВ ОСЕТИЯ', value = 'СЕВЕРНАЯ ОСЕТИЯ', inplace = True)\n",
    "test['clean_region'].replace(to_replace = 'САХА', value = 'ЯКУТИЯ', inplace = True)\n",
    "test['clean_region'].replace(to_replace = 'ПЕРМСКАЯ', value = 'ПЕРМСКИЙ', inplace = True)\n",
    "test['clean_region'].replace(to_replace = ['КАМЧАТСКАЯ', 'КАМЧАТС??ИЙ КРАЙ'], value = 'КАМЧАТСКИЙ', inplace = True)\n",
    "test['clean_region'].replace(to_replace = 'МОСКВОСКАЯ', value = 'МОСКОВСКАЯ', inplace = True)\n",
    "test['clean_region'].replace(to_replace = 'ЧИТИНСКАЯ', value = 'ЗАБАЙКАЛЬСКИЙ', inplace = True)\n",
    "test['clean_region'].replace(to_replace = 'ЭВЕНКИЙСКИЙ', value = 'КРАСНОЯРСКИЙ', inplace = True)\n",
    "test['clean_region'].replace(to_replace = 'МЫТИЩИНСКИЙ Р-Н', value = 'МОСКОВСКАЯ', inplace = True)\n",
    "test['clean_region'].replace(to_replace = 'БРЯНСКИЙ', value = 'БРЯНСКАЯ', inplace = True)\n",
    "test['clean_region'].replace(to_replace = 'ГОРЬКОВСКАЯ', value = 'НИЖЕГОРОДСКАЯ', inplace = True)\n",
    "test['clean_region'].replace(to_replace = 'ЧУКОТСКИЙ АО', value = 'ЧУКОТСКИЙ', inplace = True)\n",
    "test['clean_region'].replace(to_replace = 'ЧЕЛЯБИНСК', value = 'ЧЕЛЯБИНСКАЯ', inplace = True)\n",
    "test['clean_region'].replace(to_replace = 'МОСКОВСКИЙ П', value = 'МОСКВА', inplace = True)\n",
    "test['clean_region'].replace(to_replace = 'ХАНТЫ-МАНСИЙСКИЙ-ЮГРА', value = 'ХАНТЫ-МАНСИЙСКИЙ', inplace = True)\n",
    "test['clean_region'].replace(to_replace = 'КАМЧАТС??ИЙ', value = 'КАМЧАТСКИЙ', inplace = True)\n",
    "test['clean_region'].replace(to_replace = 'ЧУКОТСКИЙ АO', value = 'ЧУКОТСКИЙ', inplace = True)\n",
    "test['clean_region'].fillna('РОССИЯ', inplace=True)\n",
    "\n",
    "test['clean_region'].nunique(), data['clean_region'].unique()\n"
   ]
  },
  {
   "cell_type": "code",
   "execution_count": 11,
   "metadata": {},
   "outputs": [
    {
     "data": {
      "text/plain": [
       "(МОСКОВСКАЯ         12839\n",
       " МОСКВА              9261\n",
       " КРАСНОДАРСКИЙ       8355\n",
       " САНКТ-ПЕТЕРБУРГ     8303\n",
       " ТАТАРСТАН           7667\n",
       " СВЕРДЛОВСКАЯ        7316\n",
       " БАШКОРТОСТАН        6466\n",
       " ЧЕЛЯБИНСКАЯ         5155\n",
       " САМАРСКАЯ           5104\n",
       " СТАВРОПОЛЬСКИЙ      4617\n",
       " Name: clean_region, dtype: int64, РОССИЯ                           194\n",
       " НЕНЕЦКИЙ                         172\n",
       " МАГАДАНСКАЯ                      159\n",
       " ДАГЕСТАН                          69\n",
       " АЛТАЙ                             54\n",
       " ЧУКОТСКИЙ                         32\n",
       " ЧЕЧЕНСКАЯ                         31\n",
       " ИНГУШЕТИЯ                         19\n",
       " ПРИВОЛЖСКИЙ ФЕДЕРАЛЬНЫЙ ОКРУГ      1\n",
       " ДАЛЬНИЙ ВОСТОК                     1\n",
       " Name: clean_region, dtype: int64)"
      ]
     },
     "execution_count": 11,
     "metadata": {},
     "output_type": "execute_result"
    }
   ],
   "source": [
    "data['clean_region'].value_counts().head(10), data['clean_region'].value_counts().tail(10)"
   ]
  },
  {
   "cell_type": "code",
   "execution_count": 12,
   "metadata": {},
   "outputs": [
    {
     "data": {
      "text/plain": [
       "(МОСКОВСКАЯ         6840\n",
       " МОСКВА             4944\n",
       " КРАСНОДАРСКИЙ      4527\n",
       " САНКТ-ПЕТЕРБУРГ    4413\n",
       " ТАТАРСТАН          4247\n",
       " СВЕРДЛОВСКАЯ       3903\n",
       " БАШКОРТОСТАН       3328\n",
       " САМАРСКАЯ          2859\n",
       " ЧЕЛЯБИНСКАЯ        2787\n",
       " ИРКУТСКАЯ          2437\n",
       " Name: clean_region, dtype: int64, КАЛМЫКИЯ       146\n",
       " ЕВРЕЙСКАЯ      124\n",
       " РОССИЯ         116\n",
       " НЕНЕЦКИЙ        90\n",
       " МАГАДАНСКАЯ     82\n",
       " ДАГЕСТАН        36\n",
       " ЧУКОТСКИЙ       27\n",
       " ЧЕЧЕНСКАЯ       25\n",
       " АЛТАЙ           24\n",
       " ИНГУШЕТИЯ        7\n",
       " Name: clean_region, dtype: int64)"
      ]
     },
     "execution_count": 12,
     "metadata": {},
     "output_type": "execute_result"
    }
   ],
   "source": [
    "test['clean_region'].value_counts().head(10), test['clean_region'].value_counts().tail(10)"
   ]
  },
  {
   "cell_type": "markdown",
   "metadata": {},
   "source": [
    "Теперь в таблице представлено 83 субъекта РФ (все, существовавшие на момент сбора данных в 2011 году). Для пропущенных значений было выбрано значение `'РОССИЯ'`, уже присутствующее в данных.\n",
    "Взгляд на топ-10 вверху и внизу таблицы подтверждает ожидания: в регионах с большим количеством населения было зафиксировано больше заявок на получения кредита. Наименьшее количество заявок поступило из регионов с небольшим населением. \n",
    "Поскольку признак записан в кириллице, перенумеруем его для дальнейшей работы. "
   ]
  },
  {
   "cell_type": "code",
   "execution_count": 13,
   "metadata": {},
   "outputs": [],
   "source": [
    "region_encoder = preprocessing.LabelEncoder()\n",
    "data['clean_region_enc'] = region_encoder.fit_transform(list(data['clean_region']))\n",
    "test['clean_region_enc'] = region_encoder.transform(list(test['clean_region']))"
   ]
  },
  {
   "cell_type": "code",
   "execution_count": 14,
   "metadata": {},
   "outputs": [],
   "source": [
    "data['clean_region_enc'] = data['clean_region_enc'].astype('category')\n",
    "test['clean_region_enc'] = test['clean_region_enc'].astype('category')"
   ]
  },
  {
   "cell_type": "code",
   "execution_count": 15,
   "metadata": {},
   "outputs": [],
   "source": [
    "data['clean_region'] = data['clean_region'].astype('category')\n",
    "test['clean_region'] = test['clean_region'].astype('category')"
   ]
  },
  {
   "cell_type": "code",
   "execution_count": 16,
   "metadata": {},
   "outputs": [],
   "source": [
    "data.drop('living_region', axis=1, inplace=True)"
   ]
  },
  {
   "cell_type": "code",
   "execution_count": 17,
   "metadata": {},
   "outputs": [],
   "source": [
    "test.drop('living_region', axis=1, inplace=True)"
   ]
  },
  {
   "cell_type": "markdown",
   "metadata": {},
   "source": [
    "###  Часть 6. Построение признаков"
   ]
  },
  {
   "cell_type": "markdown",
   "metadata": {},
   "source": [
    "Идеи новых признаков взяты из докладов победителей контеста на <a href='https://events.yandex.ru/events/mltr/11-mar-2017/'>тренировке по машинному обучению</a>. "
   ]
  },
  {
   "cell_type": "markdown",
   "metadata": {},
   "source": [
    "Создадим признак `'fed_reg'`, соответствующий Федеральным округам РФ. "
   ]
  },
  {
   "cell_type": "code",
   "execution_count": 18,
   "metadata": {
    "collapsed": true
   },
   "outputs": [],
   "source": [
    "central = ['Белгородская', 'Брянская', 'Владимирская', 'Воронежская', \n",
    "         'Ивановская', 'Калужская', 'Костромская', 'Курская', 'Липецкая', 'Московская', \n",
    "           'Орловская', 'Рязанская', 'Смоленская', 'Тамбовская', 'Тверская', 'Тульская', \n",
    "           'Ярославская', 'Москва']\n",
    "central = [x.upper() for x in central]\n",
    "\n",
    "sev_zap = ['Карелия', 'Коми', 'Архангельская', 'Ненецкий', 'Вологодская', 'Калининградская', \n",
    "           'Ленинградская', 'Мурманская', 'Новгородская', 'Псковская', 'Санкт-Петербург']\n",
    "sev_zap = [x.upper() for x in sev_zap]\n",
    "\n",
    "yug = ['Адыгея', 'Калмыкия', 'Краснодарский', 'Астраханская', 'Волгоградская', 'Ростовская']\n",
    "yug = [x.upper() for x in yug]\n",
    "\n",
    "kavkaz = ['Ставропольский', 'Ингушетия', 'Дагестан', 'Чеченская', 'Кабардино-Балкарская', \n",
    " 'Карачаево-Черкесская', 'Северная Осетия']\n",
    "kavkaz = [x.upper() for x in kavkaz]\n",
    "\n",
    "volga = ['Башкортостан', 'Марий Эл', 'Мордовия', 'ПРИВОЛЖСКИЙ ФЕДЕРАЛЬНЫЙ ОКРУГ', 'Татарстан', \n",
    "         'Удмуртская', 'Чувашская', 'Кировская', 'Нижегородская', 'Оренбургская', 'Пензенская', \n",
    "         'ПЕРМСКИЙ', 'Самарская', 'Саратовская', 'Ульяновская']\n",
    "volga = [x.upper() for x in volga]\n",
    "\n",
    "ural = ['Курганская', 'Свердловская', 'Тюменская', 'Челябинская', 'Ханты-Мансийский', \n",
    "        'Ямало-Ненецкий']\n",
    "ural = [x.upper() for x in ural]\n",
    "\n",
    "sibir = ['Алтай', 'Бурятия', 'Тыва', 'Хакасия', 'Алтайский', 'Забайкальский', 'Красноярский', \n",
    "         'Иркутская', 'Кемеровская', 'Новосибирская', 'Омская', 'Томская']\n",
    "sibir = [x.upper() for x in sibir]\n",
    "\n",
    "dvostok = ['Якутия', 'камчатский', 'приморский', 'хабаровский', 'амурская', \n",
    "           'магаданская', 'сахалинская', 'еврейская', 'чукотский', 'ДАЛЬНИЙ ВОСТОК']\n",
    "dvostok = [x.upper() for x in dvostok]\n",
    "\n",
    "russia = ['РОССИЯ']"
   ]
  },
  {
   "cell_type": "code",
   "execution_count": 19,
   "metadata": {},
   "outputs": [],
   "source": [
    "data['fed_reg'] = 1\n",
    "test['fed_reg'] = 1\n",
    "def label_fed_reg(x):\n",
    "    if x in central:\n",
    "        return 'central'\n",
    "    if x in sev_zap:\n",
    "        return 'sev_zap'\n",
    "    if x in ural:\n",
    "        return 'ural'\n",
    "    if x in yug:\n",
    "        return 'yug'\n",
    "    if x in kavkaz:\n",
    "        return 'kavkaz'\n",
    "    if x in volga:\n",
    "        return 'volga'\n",
    "    if x in sibir:\n",
    "        return 'sibir'\n",
    "    if x in dvostok:\n",
    "        return 'dvostok'\n",
    "    if x in russia:\n",
    "        return 'russia'\n",
    "    else:\n",
    "        return 'russia'\n",
    "data['fed_reg'] = data['clean_region'].apply(lambda x: label_fed_reg(x))\n",
    "test['fed_reg'] = test['clean_region'].apply(lambda x: label_fed_reg(x))"
   ]
  },
  {
   "cell_type": "code",
   "execution_count": 20,
   "metadata": {},
   "outputs": [],
   "source": [
    "fo_encoder = preprocessing.LabelEncoder()\n",
    "data['fed_reg_enc'] = fo_encoder.fit_transform(list(data['fed_reg'])).astype('int')\n",
    "test['fed_reg_enc'] = fo_encoder.transform(list(test['fed_reg'])).astype('int')"
   ]
  },
  {
   "cell_type": "markdown",
   "metadata": {},
   "source": [
    "Добавим отношение частоты субъекта РФ к частоте федерального округа как признак. "
   ]
  },
  {
   "cell_type": "code",
   "execution_count": 21,
   "metadata": {},
   "outputs": [],
   "source": [
    "data['clean_region_freq'] = data.groupby('clean_region')['clean_region'].transform('count')\n",
    "test['clean_region_freq'] = test.groupby('clean_region')['clean_region'].transform('count')"
   ]
  },
  {
   "cell_type": "code",
   "execution_count": 22,
   "metadata": {},
   "outputs": [],
   "source": [
    "data['fed_reg_freq'] = data.groupby('fed_reg')['fed_reg'].transform('count')\n",
    "test['fed_reg_freq'] = test.groupby('fed_reg')['fed_reg'].transform('count')\n",
    "\n",
    "data['reg_freq_fed_freq'] = data['clean_region_freq']/data['fed_reg_freq']\n",
    "test['reg_freq_fed_freq'] = test['clean_region_freq']/test['fed_reg_freq']"
   ]
  },
  {
   "cell_type": "code",
   "execution_count": 23,
   "metadata": {
    "collapsed": true
   },
   "outputs": [],
   "source": [
    "data.drop(['clean_region_freq', 'fed_reg_freq', 'clean_region', 'fed_reg'], axis=1, inplace=True)\n",
    "test.drop(['clean_region_freq', 'fed_reg_freq', 'clean_region', 'fed_reg'], axis=1, inplace=True)"
   ]
  },
  {
   "cell_type": "markdown",
   "metadata": {},
   "source": [
    "Добавим признаки степени округления суммы кредита. "
   ]
  },
  {
   "cell_type": "code",
   "execution_count": 24,
   "metadata": {
    "collapsed": true
   },
   "outputs": [],
   "source": [
    "data['credit_divide10000'] = (data['credit_sum'] % 1000 == 0).astype('int')\n",
    "test['credit_divide10000'] = (test['credit_sum'] % 1000 == 0).astype('int')"
   ]
  },
  {
   "cell_type": "code",
   "execution_count": 25,
   "metadata": {},
   "outputs": [],
   "source": [
    "data['credit_kopeyka'] = data['credit_sum'].astype('str').map(lambda x: int(x[-1]))\n",
    "data['credit_kopeyka'] = (data['credit_kopeyka'] > 0).astype('int')\n",
    "\n",
    "test['credit_kopeyka'] = test['credit_sum'].astype('str').map(lambda x: int(x[-1]))\n",
    "test['credit_kopeyka'] = (test['credit_kopeyka'] > 0).astype('int')"
   ]
  },
  {
   "cell_type": "code",
   "execution_count": 26,
   "metadata": {
    "collapsed": true
   },
   "outputs": [],
   "source": [
    "test['monthly_income'].replace(0.0, 1.0, inplace=True)"
   ]
  },
  {
   "cell_type": "code",
   "execution_count": 27,
   "metadata": {
    "collapsed": true
   },
   "outputs": [],
   "source": [
    "data['overdue_ratio'] = data['overdue_credit_count']/data['credit_count']\n",
    "data['credit_income_ratio'] = data['credit_sum']/data['monthly_income']\n",
    "data['monthly_payment'] = data['credit_sum']/data['credit_month']\n",
    "\n",
    "test['overdue_ratio'] = test['overdue_credit_count']/test['credit_count']\n",
    "test['credit_income_ratio'] = test['credit_sum']/test['monthly_income']\n",
    "test['monthly_payment'] = test['credit_sum']/test['credit_month']"
   ]
  },
  {
   "cell_type": "code",
   "execution_count": 28,
   "metadata": {},
   "outputs": [],
   "source": [
    "data['overdue_ratio'].fillna(0, inplace=True)"
   ]
  },
  {
   "cell_type": "code",
   "execution_count": 29,
   "metadata": {
    "collapsed": true
   },
   "outputs": [],
   "source": [
    "test['overdue_ratio'].fillna(0, inplace=True)"
   ]
  },
  {
   "cell_type": "markdown",
   "metadata": {},
   "source": [
    "Добавим квадраты зарплат, суммы кредита и возраста как признаки. "
   ]
  },
  {
   "cell_type": "code",
   "execution_count": 30,
   "metadata": {},
   "outputs": [],
   "source": [
    "data['monthly_income_sq'] = pow(data['monthly_income'], 2)\n",
    "test['monthly_income_sq'] = pow(test['monthly_income'], 2)"
   ]
  },
  {
   "cell_type": "code",
   "execution_count": 31,
   "metadata": {},
   "outputs": [],
   "source": [
    "data['age_sq'] = pow(data['age'], 2)\n",
    "test['age_sq'] = pow(test['age'], 2)"
   ]
  },
  {
   "cell_type": "code",
   "execution_count": 32,
   "metadata": {
    "collapsed": true
   },
   "outputs": [],
   "source": [
    "data['credit_sum_sq'] = pow(data['credit_sum'], 2)\n",
    "test['credit_sum_sq'] = pow(test['credit_sum'], 2)"
   ]
  },
  {
   "cell_type": "code",
   "execution_count": 33,
   "metadata": {},
   "outputs": [
    {
     "data": {
      "text/html": [
       "<div>\n",
       "<table border=\"1\" class=\"dataframe\">\n",
       "  <thead>\n",
       "    <tr style=\"text-align: right;\">\n",
       "      <th>client_id</th>\n",
       "      <th>1</th>\n",
       "      <th>2</th>\n",
       "    </tr>\n",
       "  </thead>\n",
       "  <tbody>\n",
       "    <tr>\n",
       "      <th>gender</th>\n",
       "      <td>M</td>\n",
       "      <td>F</td>\n",
       "    </tr>\n",
       "    <tr>\n",
       "      <th>age</th>\n",
       "      <td>48</td>\n",
       "      <td>28</td>\n",
       "    </tr>\n",
       "    <tr>\n",
       "      <th>marital_status</th>\n",
       "      <td>MAR</td>\n",
       "      <td>MAR</td>\n",
       "    </tr>\n",
       "    <tr>\n",
       "      <th>job_position</th>\n",
       "      <td>UMN</td>\n",
       "      <td>UMN</td>\n",
       "    </tr>\n",
       "    <tr>\n",
       "      <th>credit_sum</th>\n",
       "      <td>59998</td>\n",
       "      <td>10889</td>\n",
       "    </tr>\n",
       "    <tr>\n",
       "      <th>credit_month</th>\n",
       "      <td>10</td>\n",
       "      <td>6</td>\n",
       "    </tr>\n",
       "    <tr>\n",
       "      <th>tariff_id</th>\n",
       "      <td>1.6</td>\n",
       "      <td>1.1</td>\n",
       "    </tr>\n",
       "    <tr>\n",
       "      <th>score_shk</th>\n",
       "      <td>0.770249</td>\n",
       "      <td>0.248514</td>\n",
       "    </tr>\n",
       "    <tr>\n",
       "      <th>education</th>\n",
       "      <td>GRD</td>\n",
       "      <td>GRD</td>\n",
       "    </tr>\n",
       "    <tr>\n",
       "      <th>monthly_income</th>\n",
       "      <td>30000</td>\n",
       "      <td>43000</td>\n",
       "    </tr>\n",
       "    <tr>\n",
       "      <th>credit_count</th>\n",
       "      <td>1</td>\n",
       "      <td>2</td>\n",
       "    </tr>\n",
       "    <tr>\n",
       "      <th>overdue_credit_count</th>\n",
       "      <td>1</td>\n",
       "      <td>0</td>\n",
       "    </tr>\n",
       "    <tr>\n",
       "      <th>open_account_flg</th>\n",
       "      <td>0</td>\n",
       "      <td>0</td>\n",
       "    </tr>\n",
       "    <tr>\n",
       "      <th>clean_region_enc</th>\n",
       "      <td>32</td>\n",
       "      <td>41</td>\n",
       "    </tr>\n",
       "    <tr>\n",
       "      <th>fed_reg_enc</th>\n",
       "      <td>8</td>\n",
       "      <td>0</td>\n",
       "    </tr>\n",
       "    <tr>\n",
       "      <th>reg_freq_fed_freq</th>\n",
       "      <td>0.448663</td>\n",
       "      <td>0.237188</td>\n",
       "    </tr>\n",
       "    <tr>\n",
       "      <th>credit_divide10000</th>\n",
       "      <td>0</td>\n",
       "      <td>0</td>\n",
       "    </tr>\n",
       "    <tr>\n",
       "      <th>credit_kopeyka</th>\n",
       "      <td>0</td>\n",
       "      <td>0</td>\n",
       "    </tr>\n",
       "    <tr>\n",
       "      <th>overdue_ratio</th>\n",
       "      <td>1</td>\n",
       "      <td>0</td>\n",
       "    </tr>\n",
       "    <tr>\n",
       "      <th>credit_income_ratio</th>\n",
       "      <td>1.99993</td>\n",
       "      <td>0.253233</td>\n",
       "    </tr>\n",
       "    <tr>\n",
       "      <th>monthly_payment</th>\n",
       "      <td>5999.8</td>\n",
       "      <td>1814.83</td>\n",
       "    </tr>\n",
       "    <tr>\n",
       "      <th>monthly_income_sq</th>\n",
       "      <td>9e+08</td>\n",
       "      <td>1.849e+09</td>\n",
       "    </tr>\n",
       "    <tr>\n",
       "      <th>age_sq</th>\n",
       "      <td>2304</td>\n",
       "      <td>784</td>\n",
       "    </tr>\n",
       "    <tr>\n",
       "      <th>credit_sum_sq</th>\n",
       "      <td>3.59976e+09</td>\n",
       "      <td>1.1857e+08</td>\n",
       "    </tr>\n",
       "  </tbody>\n",
       "</table>\n",
       "</div>"
      ],
      "text/plain": [
       "client_id                       1           2\n",
       "gender                          M           F\n",
       "age                            48          28\n",
       "marital_status                MAR         MAR\n",
       "job_position                  UMN         UMN\n",
       "credit_sum                  59998       10889\n",
       "credit_month                   10           6\n",
       "tariff_id                     1.6         1.1\n",
       "score_shk                0.770249    0.248514\n",
       "education                     GRD         GRD\n",
       "monthly_income              30000       43000\n",
       "credit_count                    1           2\n",
       "overdue_credit_count            1           0\n",
       "open_account_flg                0           0\n",
       "clean_region_enc               32          41\n",
       "fed_reg_enc                     8           0\n",
       "reg_freq_fed_freq        0.448663    0.237188\n",
       "credit_divide10000              0           0\n",
       "credit_kopeyka                  0           0\n",
       "overdue_ratio                   1           0\n",
       "credit_income_ratio       1.99993    0.253233\n",
       "monthly_payment            5999.8     1814.83\n",
       "monthly_income_sq           9e+08   1.849e+09\n",
       "age_sq                       2304         784\n",
       "credit_sum_sq         3.59976e+09  1.1857e+08"
      ]
     },
     "execution_count": 33,
     "metadata": {},
     "output_type": "execute_result"
    }
   ],
   "source": [
    "data.head(2).T"
   ]
  },
  {
   "cell_type": "markdown",
   "metadata": {
    "collapsed": true
   },
   "source": [
    "Категориальные признаки требуется привести к бинарному виду, количественные - нормировать.   \n",
    "Создадим бинарные признаки:"
   ]
  },
  {
   "cell_type": "code",
   "execution_count": 34,
   "metadata": {},
   "outputs": [],
   "source": [
    "data_dummies = pd.concat([\n",
    "                        pd.get_dummies(data.gender, prefix = 'sex'),\n",
    "                        pd.get_dummies(data.marital_status , prefix = 'marital'),\n",
    "                        pd.get_dummies(data.job_position, prefix = 'job'),\n",
    "                        pd.get_dummies(data.tariff_id , prefix = 'tariff'),\n",
    "                        pd.get_dummies(data.education , prefix = 'educ'),\n",
    "                        pd.get_dummies(data.fed_reg_enc , prefix = 'fed_reg'),\n",
    "                        pd.get_dummies(data.clean_region_enc , prefix = 'clean_reg'),\n",
    "                        data.age,\n",
    "                        data.age_sq,\n",
    "                        data.credit_sum,\n",
    "                        data.credit_sum_sq,\n",
    "                        data.credit_month,\n",
    "                        data.score_shk,\n",
    "                        data.monthly_income,\n",
    "                        data.monthly_income_sq,\n",
    "                        data.credit_count,\n",
    "                        data.overdue_credit_count,   \n",
    "                        data.monthly_payment,\n",
    "                        data.credit_income_ratio,\n",
    "                        data.overdue_ratio,\n",
    "                        data.credit_kopeyka,\n",
    "                        data.credit_divide10000,\n",
    "                        data.reg_freq_fed_freq], axis=1)"
   ]
  },
  {
   "cell_type": "code",
   "execution_count": 35,
   "metadata": {},
   "outputs": [
    {
     "data": {
      "text/html": [
       "<div>\n",
       "<table border=\"1\" class=\"dataframe\">\n",
       "  <thead>\n",
       "    <tr style=\"text-align: right;\">\n",
       "      <th></th>\n",
       "      <th>sex_F</th>\n",
       "      <th>sex_M</th>\n",
       "      <th>marital_CIV</th>\n",
       "      <th>marital_DIV</th>\n",
       "      <th>marital_MAR</th>\n",
       "      <th>marital_UNM</th>\n",
       "      <th>marital_WID</th>\n",
       "      <th>job_ATP</th>\n",
       "      <th>job_BIS</th>\n",
       "      <th>job_BIU</th>\n",
       "      <th>...</th>\n",
       "      <th>monthly_income</th>\n",
       "      <th>monthly_income_sq</th>\n",
       "      <th>credit_count</th>\n",
       "      <th>overdue_credit_count</th>\n",
       "      <th>monthly_payment</th>\n",
       "      <th>credit_income_ratio</th>\n",
       "      <th>overdue_ratio</th>\n",
       "      <th>credit_kopeyka</th>\n",
       "      <th>credit_divide10000</th>\n",
       "      <th>reg_freq_fed_freq</th>\n",
       "    </tr>\n",
       "    <tr>\n",
       "      <th>client_id</th>\n",
       "      <th></th>\n",
       "      <th></th>\n",
       "      <th></th>\n",
       "      <th></th>\n",
       "      <th></th>\n",
       "      <th></th>\n",
       "      <th></th>\n",
       "      <th></th>\n",
       "      <th></th>\n",
       "      <th></th>\n",
       "      <th></th>\n",
       "      <th></th>\n",
       "      <th></th>\n",
       "      <th></th>\n",
       "      <th></th>\n",
       "      <th></th>\n",
       "      <th></th>\n",
       "      <th></th>\n",
       "      <th></th>\n",
       "      <th></th>\n",
       "      <th></th>\n",
       "    </tr>\n",
       "  </thead>\n",
       "  <tbody>\n",
       "    <tr>\n",
       "      <th>1</th>\n",
       "      <td>0</td>\n",
       "      <td>1</td>\n",
       "      <td>0</td>\n",
       "      <td>0</td>\n",
       "      <td>1</td>\n",
       "      <td>0</td>\n",
       "      <td>0</td>\n",
       "      <td>0</td>\n",
       "      <td>0</td>\n",
       "      <td>0</td>\n",
       "      <td>...</td>\n",
       "      <td>30000.0</td>\n",
       "      <td>9.000000e+08</td>\n",
       "      <td>1.0</td>\n",
       "      <td>1.0</td>\n",
       "      <td>5999.800000</td>\n",
       "      <td>1.999933</td>\n",
       "      <td>1.0</td>\n",
       "      <td>0</td>\n",
       "      <td>0</td>\n",
       "      <td>0.448663</td>\n",
       "    </tr>\n",
       "    <tr>\n",
       "      <th>2</th>\n",
       "      <td>1</td>\n",
       "      <td>0</td>\n",
       "      <td>0</td>\n",
       "      <td>0</td>\n",
       "      <td>1</td>\n",
       "      <td>0</td>\n",
       "      <td>0</td>\n",
       "      <td>0</td>\n",
       "      <td>0</td>\n",
       "      <td>0</td>\n",
       "      <td>...</td>\n",
       "      <td>43000.0</td>\n",
       "      <td>1.849000e+09</td>\n",
       "      <td>2.0</td>\n",
       "      <td>0.0</td>\n",
       "      <td>1814.833333</td>\n",
       "      <td>0.253233</td>\n",
       "      <td>0.0</td>\n",
       "      <td>0</td>\n",
       "      <td>0</td>\n",
       "      <td>0.237188</td>\n",
       "    </tr>\n",
       "    <tr>\n",
       "      <th>3</th>\n",
       "      <td>0</td>\n",
       "      <td>1</td>\n",
       "      <td>0</td>\n",
       "      <td>0</td>\n",
       "      <td>1</td>\n",
       "      <td>0</td>\n",
       "      <td>0</td>\n",
       "      <td>0</td>\n",
       "      <td>0</td>\n",
       "      <td>0</td>\n",
       "      <td>...</td>\n",
       "      <td>23000.0</td>\n",
       "      <td>5.290000e+08</td>\n",
       "      <td>5.0</td>\n",
       "      <td>0.0</td>\n",
       "      <td>894.000000</td>\n",
       "      <td>0.466435</td>\n",
       "      <td>0.0</td>\n",
       "      <td>0</td>\n",
       "      <td>0</td>\n",
       "      <td>0.063226</td>\n",
       "    </tr>\n",
       "    <tr>\n",
       "      <th>4</th>\n",
       "      <td>1</td>\n",
       "      <td>0</td>\n",
       "      <td>0</td>\n",
       "      <td>1</td>\n",
       "      <td>0</td>\n",
       "      <td>0</td>\n",
       "      <td>0</td>\n",
       "      <td>0</td>\n",
       "      <td>0</td>\n",
       "      <td>0</td>\n",
       "      <td>...</td>\n",
       "      <td>17000.0</td>\n",
       "      <td>2.890000e+08</td>\n",
       "      <td>2.0</td>\n",
       "      <td>0.0</td>\n",
       "      <td>1000.757500</td>\n",
       "      <td>0.706417</td>\n",
       "      <td>0.0</td>\n",
       "      <td>1</td>\n",
       "      <td>0</td>\n",
       "      <td>0.126786</td>\n",
       "    </tr>\n",
       "    <tr>\n",
       "      <th>5</th>\n",
       "      <td>0</td>\n",
       "      <td>1</td>\n",
       "      <td>0</td>\n",
       "      <td>0</td>\n",
       "      <td>1</td>\n",
       "      <td>0</td>\n",
       "      <td>0</td>\n",
       "      <td>0</td>\n",
       "      <td>0</td>\n",
       "      <td>0</td>\n",
       "      <td>...</td>\n",
       "      <td>25000.0</td>\n",
       "      <td>6.250000e+08</td>\n",
       "      <td>1.0</td>\n",
       "      <td>0.0</td>\n",
       "      <td>1690.889000</td>\n",
       "      <td>0.676356</td>\n",
       "      <td>0.0</td>\n",
       "      <td>1</td>\n",
       "      <td>0</td>\n",
       "      <td>0.228583</td>\n",
       "    </tr>\n",
       "  </tbody>\n",
       "</table>\n",
       "<p>5 rows × 173 columns</p>\n",
       "</div>"
      ],
      "text/plain": [
       "           sex_F  sex_M  marital_CIV  marital_DIV  marital_MAR  marital_UNM  \\\n",
       "client_id                                                                     \n",
       "1              0      1            0            0            1            0   \n",
       "2              1      0            0            0            1            0   \n",
       "3              0      1            0            0            1            0   \n",
       "4              1      0            0            1            0            0   \n",
       "5              0      1            0            0            1            0   \n",
       "\n",
       "           marital_WID  job_ATP  job_BIS  job_BIU        ...          \\\n",
       "client_id                                                ...           \n",
       "1                    0        0        0        0        ...           \n",
       "2                    0        0        0        0        ...           \n",
       "3                    0        0        0        0        ...           \n",
       "4                    0        0        0        0        ...           \n",
       "5                    0        0        0        0        ...           \n",
       "\n",
       "           monthly_income  monthly_income_sq  credit_count  \\\n",
       "client_id                                                    \n",
       "1                 30000.0       9.000000e+08           1.0   \n",
       "2                 43000.0       1.849000e+09           2.0   \n",
       "3                 23000.0       5.290000e+08           5.0   \n",
       "4                 17000.0       2.890000e+08           2.0   \n",
       "5                 25000.0       6.250000e+08           1.0   \n",
       "\n",
       "           overdue_credit_count  monthly_payment  credit_income_ratio  \\\n",
       "client_id                                                               \n",
       "1                           1.0      5999.800000             1.999933   \n",
       "2                           0.0      1814.833333             0.253233   \n",
       "3                           0.0       894.000000             0.466435   \n",
       "4                           0.0      1000.757500             0.706417   \n",
       "5                           0.0      1690.889000             0.676356   \n",
       "\n",
       "           overdue_ratio  credit_kopeyka  credit_divide10000  \\\n",
       "client_id                                                      \n",
       "1                    1.0               0                   0   \n",
       "2                    0.0               0                   0   \n",
       "3                    0.0               0                   0   \n",
       "4                    0.0               1                   0   \n",
       "5                    0.0               1                   0   \n",
       "\n",
       "           reg_freq_fed_freq  \n",
       "client_id                     \n",
       "1                   0.448663  \n",
       "2                   0.237188  \n",
       "3                   0.063226  \n",
       "4                   0.126786  \n",
       "5                   0.228583  \n",
       "\n",
       "[5 rows x 173 columns]"
      ]
     },
     "execution_count": 35,
     "metadata": {},
     "output_type": "execute_result"
    }
   ],
   "source": [
    "data_dummies.head()"
   ]
  },
  {
   "cell_type": "code",
   "execution_count": 36,
   "metadata": {},
   "outputs": [],
   "source": [
    "y = data['open_account_flg']"
   ]
  },
  {
   "cell_type": "code",
   "execution_count": 37,
   "metadata": {},
   "outputs": [
    {
     "data": {
      "text/html": [
       "<div>\n",
       "<table border=\"1\" class=\"dataframe\">\n",
       "  <thead>\n",
       "    <tr style=\"text-align: right;\">\n",
       "      <th></th>\n",
       "      <th>sex_F</th>\n",
       "      <th>sex_M</th>\n",
       "      <th>marital_CIV</th>\n",
       "      <th>marital_DIV</th>\n",
       "      <th>marital_MAR</th>\n",
       "      <th>marital_UNM</th>\n",
       "      <th>marital_WID</th>\n",
       "      <th>job_ATP</th>\n",
       "      <th>job_BIS</th>\n",
       "      <th>job_BIU</th>\n",
       "      <th>...</th>\n",
       "      <th>monthly_income</th>\n",
       "      <th>monthly_income_sq</th>\n",
       "      <th>credit_count</th>\n",
       "      <th>overdue_credit_count</th>\n",
       "      <th>monthly_payment</th>\n",
       "      <th>credit_income_ratio</th>\n",
       "      <th>overdue_ratio</th>\n",
       "      <th>credit_kopeyka</th>\n",
       "      <th>credit_divide10000</th>\n",
       "      <th>reg_freq_fed_freq</th>\n",
       "    </tr>\n",
       "    <tr>\n",
       "      <th>client_id</th>\n",
       "      <th></th>\n",
       "      <th></th>\n",
       "      <th></th>\n",
       "      <th></th>\n",
       "      <th></th>\n",
       "      <th></th>\n",
       "      <th></th>\n",
       "      <th></th>\n",
       "      <th></th>\n",
       "      <th></th>\n",
       "      <th></th>\n",
       "      <th></th>\n",
       "      <th></th>\n",
       "      <th></th>\n",
       "      <th></th>\n",
       "      <th></th>\n",
       "      <th></th>\n",
       "      <th></th>\n",
       "      <th></th>\n",
       "      <th></th>\n",
       "      <th></th>\n",
       "    </tr>\n",
       "  </thead>\n",
       "  <tbody>\n",
       "    <tr>\n",
       "      <th>170747</th>\n",
       "      <td>1</td>\n",
       "      <td>0</td>\n",
       "      <td>0</td>\n",
       "      <td>0</td>\n",
       "      <td>1</td>\n",
       "      <td>0</td>\n",
       "      <td>0</td>\n",
       "      <td>0</td>\n",
       "      <td>0</td>\n",
       "      <td>0</td>\n",
       "      <td>...</td>\n",
       "      <td>34000.0</td>\n",
       "      <td>1.156000e+09</td>\n",
       "      <td>2.0</td>\n",
       "      <td>0.0</td>\n",
       "      <td>1655.800000</td>\n",
       "      <td>0.487000</td>\n",
       "      <td>0.0</td>\n",
       "      <td>0</td>\n",
       "      <td>0</td>\n",
       "      <td>0.027852</td>\n",
       "    </tr>\n",
       "    <tr>\n",
       "      <th>170748</th>\n",
       "      <td>0</td>\n",
       "      <td>1</td>\n",
       "      <td>0</td>\n",
       "      <td>0</td>\n",
       "      <td>1</td>\n",
       "      <td>0</td>\n",
       "      <td>0</td>\n",
       "      <td>0</td>\n",
       "      <td>0</td>\n",
       "      <td>0</td>\n",
       "      <td>...</td>\n",
       "      <td>19000.0</td>\n",
       "      <td>3.610000e+08</td>\n",
       "      <td>3.0</td>\n",
       "      <td>0.0</td>\n",
       "      <td>1171.453333</td>\n",
       "      <td>0.369933</td>\n",
       "      <td>0.0</td>\n",
       "      <td>1</td>\n",
       "      <td>0</td>\n",
       "      <td>0.150815</td>\n",
       "    </tr>\n",
       "    <tr>\n",
       "      <th>170749</th>\n",
       "      <td>1</td>\n",
       "      <td>0</td>\n",
       "      <td>0</td>\n",
       "      <td>0</td>\n",
       "      <td>0</td>\n",
       "      <td>1</td>\n",
       "      <td>0</td>\n",
       "      <td>0</td>\n",
       "      <td>0</td>\n",
       "      <td>0</td>\n",
       "      <td>...</td>\n",
       "      <td>25000.0</td>\n",
       "      <td>6.250000e+08</td>\n",
       "      <td>1.0</td>\n",
       "      <td>0.0</td>\n",
       "      <td>1301.900000</td>\n",
       "      <td>0.520760</td>\n",
       "      <td>0.0</td>\n",
       "      <td>0</td>\n",
       "      <td>0</td>\n",
       "      <td>0.017328</td>\n",
       "    </tr>\n",
       "    <tr>\n",
       "      <th>170750</th>\n",
       "      <td>1</td>\n",
       "      <td>0</td>\n",
       "      <td>0</td>\n",
       "      <td>0</td>\n",
       "      <td>1</td>\n",
       "      <td>0</td>\n",
       "      <td>0</td>\n",
       "      <td>0</td>\n",
       "      <td>0</td>\n",
       "      <td>0</td>\n",
       "      <td>...</td>\n",
       "      <td>30000.0</td>\n",
       "      <td>9.000000e+08</td>\n",
       "      <td>0.0</td>\n",
       "      <td>0.0</td>\n",
       "      <td>937.900000</td>\n",
       "      <td>0.312633</td>\n",
       "      <td>0.0</td>\n",
       "      <td>0</td>\n",
       "      <td>0</td>\n",
       "      <td>0.240691</td>\n",
       "    </tr>\n",
       "    <tr>\n",
       "      <th>170751</th>\n",
       "      <td>1</td>\n",
       "      <td>0</td>\n",
       "      <td>0</td>\n",
       "      <td>0</td>\n",
       "      <td>1</td>\n",
       "      <td>0</td>\n",
       "      <td>0</td>\n",
       "      <td>0</td>\n",
       "      <td>0</td>\n",
       "      <td>0</td>\n",
       "      <td>...</td>\n",
       "      <td>20000.0</td>\n",
       "      <td>4.000000e+08</td>\n",
       "      <td>2.0</td>\n",
       "      <td>0.0</td>\n",
       "      <td>2331.666667</td>\n",
       "      <td>0.699500</td>\n",
       "      <td>0.0</td>\n",
       "      <td>0</td>\n",
       "      <td>0</td>\n",
       "      <td>0.019458</td>\n",
       "    </tr>\n",
       "  </tbody>\n",
       "</table>\n",
       "<p>5 rows × 169 columns</p>\n",
       "</div>"
      ],
      "text/plain": [
       "           sex_F  sex_M  marital_CIV  marital_DIV  marital_MAR  marital_UNM  \\\n",
       "client_id                                                                     \n",
       "170747         1      0            0            0            1            0   \n",
       "170748         0      1            0            0            1            0   \n",
       "170749         1      0            0            0            0            1   \n",
       "170750         1      0            0            0            1            0   \n",
       "170751         1      0            0            0            1            0   \n",
       "\n",
       "           marital_WID  job_ATP  job_BIS  job_BIU        ...          \\\n",
       "client_id                                                ...           \n",
       "170747               0        0        0        0        ...           \n",
       "170748               0        0        0        0        ...           \n",
       "170749               0        0        0        0        ...           \n",
       "170750               0        0        0        0        ...           \n",
       "170751               0        0        0        0        ...           \n",
       "\n",
       "           monthly_income  monthly_income_sq  credit_count  \\\n",
       "client_id                                                    \n",
       "170747            34000.0       1.156000e+09           2.0   \n",
       "170748            19000.0       3.610000e+08           3.0   \n",
       "170749            25000.0       6.250000e+08           1.0   \n",
       "170750            30000.0       9.000000e+08           0.0   \n",
       "170751            20000.0       4.000000e+08           2.0   \n",
       "\n",
       "           overdue_credit_count  monthly_payment  credit_income_ratio  \\\n",
       "client_id                                                               \n",
       "170747                      0.0      1655.800000             0.487000   \n",
       "170748                      0.0      1171.453333             0.369933   \n",
       "170749                      0.0      1301.900000             0.520760   \n",
       "170750                      0.0       937.900000             0.312633   \n",
       "170751                      0.0      2331.666667             0.699500   \n",
       "\n",
       "           overdue_ratio  credit_kopeyka  credit_divide10000  \\\n",
       "client_id                                                      \n",
       "170747               0.0               0                   0   \n",
       "170748               0.0               1                   0   \n",
       "170749               0.0               0                   0   \n",
       "170750               0.0               0                   0   \n",
       "170751               0.0               0                   0   \n",
       "\n",
       "           reg_freq_fed_freq  \n",
       "client_id                     \n",
       "170747              0.027852  \n",
       "170748              0.150815  \n",
       "170749              0.017328  \n",
       "170750              0.240691  \n",
       "170751              0.019458  \n",
       "\n",
       "[5 rows x 169 columns]"
      ]
     },
     "execution_count": 37,
     "metadata": {},
     "output_type": "execute_result"
    }
   ],
   "source": [
    "test_dummies = pd.concat([\n",
    "                        pd.get_dummies(test.gender, prefix = 'sex'),\n",
    "                        pd.get_dummies(test.marital_status , prefix = 'marital'),\n",
    "                        pd.get_dummies(test.job_position, prefix = 'job'),\n",
    "                        pd.get_dummies(test.tariff_id , prefix = 'tariff'),\n",
    "                        pd.get_dummies(test.education , prefix = 'educ'),\n",
    "                        pd.get_dummies(test.fed_reg_enc , prefix = 'fed_reg'),\n",
    "                        pd.get_dummies(test.clean_region_enc , prefix = 'clean_reg'),\n",
    "                        test.age,\n",
    "                        test.age_sq,\n",
    "                        test.credit_sum,\n",
    "                        test.credit_sum_sq,\n",
    "                        test.credit_month,\n",
    "                        test.score_shk,\n",
    "                        test.monthly_income,\n",
    "                        test.monthly_income_sq,\n",
    "                        test.credit_count,\n",
    "                        test.overdue_credit_count,   \n",
    "                        test.monthly_payment,\n",
    "                        test.credit_income_ratio,\n",
    "                        test.overdue_ratio,\n",
    "                        test.credit_kopeyka,\n",
    "                        test.credit_divide10000,\n",
    "                        test.reg_freq_fed_freq], axis=1)\n",
    "test_dummies.head()"
   ]
  },
  {
   "cell_type": "markdown",
   "metadata": {},
   "source": [
    "Нормируем числовые признаки:"
   ]
  },
  {
   "cell_type": "code",
   "execution_count": 38,
   "metadata": {},
   "outputs": [],
   "source": [
    "from sklearn import preprocessing\n",
    "scaler = preprocessing.StandardScaler()\n",
    "final_data = scaler.fit_transform(data_dummies)\n",
    "final_test_data = scaler.fit_transform(test_dummies)"
   ]
  },
  {
   "cell_type": "code",
   "execution_count": 39,
   "metadata": {
    "collapsed": true
   },
   "outputs": [],
   "source": [
    "X_train = pd.DataFrame(final_data, columns=data_dummies.columns)\n",
    "X_test = pd.DataFrame(final_test_data, columns=test_dummies.columns)"
   ]
  },
  {
   "cell_type": "code",
   "execution_count": 40,
   "metadata": {},
   "outputs": [
    {
     "data": {
      "text/html": [
       "<div>\n",
       "<table border=\"1\" class=\"dataframe\">\n",
       "  <thead>\n",
       "    <tr style=\"text-align: right;\">\n",
       "      <th></th>\n",
       "      <th>sex_F</th>\n",
       "      <th>sex_M</th>\n",
       "      <th>marital_CIV</th>\n",
       "      <th>marital_DIV</th>\n",
       "      <th>marital_MAR</th>\n",
       "      <th>marital_UNM</th>\n",
       "      <th>marital_WID</th>\n",
       "      <th>job_ATP</th>\n",
       "      <th>job_BIS</th>\n",
       "      <th>job_BIU</th>\n",
       "      <th>...</th>\n",
       "      <th>monthly_income</th>\n",
       "      <th>monthly_income_sq</th>\n",
       "      <th>credit_count</th>\n",
       "      <th>overdue_credit_count</th>\n",
       "      <th>monthly_payment</th>\n",
       "      <th>credit_income_ratio</th>\n",
       "      <th>overdue_ratio</th>\n",
       "      <th>credit_kopeyka</th>\n",
       "      <th>credit_divide10000</th>\n",
       "      <th>reg_freq_fed_freq</th>\n",
       "    </tr>\n",
       "  </thead>\n",
       "  <tbody>\n",
       "    <tr>\n",
       "      <th>0</th>\n",
       "      <td>-1.039723</td>\n",
       "      <td>1.039723</td>\n",
       "      <td>-0.158725</td>\n",
       "      <td>-0.332198</td>\n",
       "      <td>0.904045</td>\n",
       "      <td>-0.663111</td>\n",
       "      <td>-0.144134</td>\n",
       "      <td>-0.128909</td>\n",
       "      <td>-0.183992</td>\n",
       "      <td>-0.027175</td>\n",
       "      <td>...</td>\n",
       "      <td>-0.404817</td>\n",
       "      <td>-0.187826</td>\n",
       "      <td>-0.554068</td>\n",
       "      <td>4.642515</td>\n",
       "      <td>2.261118</td>\n",
       "      <td>2.677152</td>\n",
       "      <td>10.446563</td>\n",
       "      <td>-0.348282</td>\n",
       "      <td>-0.058734</td>\n",
       "      <td>1.655078</td>\n",
       "    </tr>\n",
       "    <tr>\n",
       "      <th>1</th>\n",
       "      <td>0.961794</td>\n",
       "      <td>-0.961794</td>\n",
       "      <td>-0.158725</td>\n",
       "      <td>-0.332198</td>\n",
       "      <td>0.904045</td>\n",
       "      <td>-0.663111</td>\n",
       "      <td>-0.144134</td>\n",
       "      <td>-0.128909</td>\n",
       "      <td>-0.183992</td>\n",
       "      <td>-0.027175</td>\n",
       "      <td>...</td>\n",
       "      <td>0.114268</td>\n",
       "      <td>-0.054636</td>\n",
       "      <td>0.003685</td>\n",
       "      <td>-0.211536</td>\n",
       "      <td>-0.414612</td>\n",
       "      <td>-1.055635</td>\n",
       "      <td>-0.178859</td>\n",
       "      <td>-0.348282</td>\n",
       "      <td>-0.058734</td>\n",
       "      <td>0.257566</td>\n",
       "    </tr>\n",
       "    <tr>\n",
       "      <th>2</th>\n",
       "      <td>-1.039723</td>\n",
       "      <td>1.039723</td>\n",
       "      <td>-0.158725</td>\n",
       "      <td>-0.332198</td>\n",
       "      <td>0.904045</td>\n",
       "      <td>-0.663111</td>\n",
       "      <td>-0.144134</td>\n",
       "      <td>-0.128909</td>\n",
       "      <td>-0.183992</td>\n",
       "      <td>-0.027175</td>\n",
       "      <td>...</td>\n",
       "      <td>-0.684324</td>\n",
       "      <td>-0.239895</td>\n",
       "      <td>1.676944</td>\n",
       "      <td>-0.211536</td>\n",
       "      <td>-1.003363</td>\n",
       "      <td>-0.600011</td>\n",
       "      <td>-0.178859</td>\n",
       "      <td>-0.348282</td>\n",
       "      <td>-0.058734</td>\n",
       "      <td>-0.892048</td>\n",
       "    </tr>\n",
       "    <tr>\n",
       "      <th>3</th>\n",
       "      <td>0.961794</td>\n",
       "      <td>-0.961794</td>\n",
       "      <td>-0.158725</td>\n",
       "      <td>3.010256</td>\n",
       "      <td>-1.106140</td>\n",
       "      <td>-0.663111</td>\n",
       "      <td>-0.144134</td>\n",
       "      <td>-0.128909</td>\n",
       "      <td>-0.183992</td>\n",
       "      <td>-0.027175</td>\n",
       "      <td>...</td>\n",
       "      <td>-0.923902</td>\n",
       "      <td>-0.273579</td>\n",
       "      <td>0.003685</td>\n",
       "      <td>-0.211536</td>\n",
       "      <td>-0.935106</td>\n",
       "      <td>-0.087157</td>\n",
       "      <td>-0.178859</td>\n",
       "      <td>2.871237</td>\n",
       "      <td>-0.058734</td>\n",
       "      <td>-0.472018</td>\n",
       "    </tr>\n",
       "    <tr>\n",
       "      <th>4</th>\n",
       "      <td>-1.039723</td>\n",
       "      <td>1.039723</td>\n",
       "      <td>-0.158725</td>\n",
       "      <td>-0.332198</td>\n",
       "      <td>0.904045</td>\n",
       "      <td>-0.663111</td>\n",
       "      <td>-0.144134</td>\n",
       "      <td>-0.128909</td>\n",
       "      <td>-0.183992</td>\n",
       "      <td>-0.027175</td>\n",
       "      <td>...</td>\n",
       "      <td>-0.604465</td>\n",
       "      <td>-0.226422</td>\n",
       "      <td>-0.554068</td>\n",
       "      <td>-0.211536</td>\n",
       "      <td>-0.493858</td>\n",
       "      <td>-0.151400</td>\n",
       "      <td>-0.178859</td>\n",
       "      <td>2.871237</td>\n",
       "      <td>-0.058734</td>\n",
       "      <td>0.200700</td>\n",
       "    </tr>\n",
       "  </tbody>\n",
       "</table>\n",
       "<p>5 rows × 173 columns</p>\n",
       "</div>"
      ],
      "text/plain": [
       "      sex_F     sex_M  marital_CIV  marital_DIV  marital_MAR  marital_UNM  \\\n",
       "0 -1.039723  1.039723    -0.158725    -0.332198     0.904045    -0.663111   \n",
       "1  0.961794 -0.961794    -0.158725    -0.332198     0.904045    -0.663111   \n",
       "2 -1.039723  1.039723    -0.158725    -0.332198     0.904045    -0.663111   \n",
       "3  0.961794 -0.961794    -0.158725     3.010256    -1.106140    -0.663111   \n",
       "4 -1.039723  1.039723    -0.158725    -0.332198     0.904045    -0.663111   \n",
       "\n",
       "   marital_WID   job_ATP   job_BIS   job_BIU        ...          \\\n",
       "0    -0.144134 -0.128909 -0.183992 -0.027175        ...           \n",
       "1    -0.144134 -0.128909 -0.183992 -0.027175        ...           \n",
       "2    -0.144134 -0.128909 -0.183992 -0.027175        ...           \n",
       "3    -0.144134 -0.128909 -0.183992 -0.027175        ...           \n",
       "4    -0.144134 -0.128909 -0.183992 -0.027175        ...           \n",
       "\n",
       "   monthly_income  monthly_income_sq  credit_count  overdue_credit_count  \\\n",
       "0       -0.404817          -0.187826     -0.554068              4.642515   \n",
       "1        0.114268          -0.054636      0.003685             -0.211536   \n",
       "2       -0.684324          -0.239895      1.676944             -0.211536   \n",
       "3       -0.923902          -0.273579      0.003685             -0.211536   \n",
       "4       -0.604465          -0.226422     -0.554068             -0.211536   \n",
       "\n",
       "   monthly_payment  credit_income_ratio  overdue_ratio  credit_kopeyka  \\\n",
       "0         2.261118             2.677152      10.446563       -0.348282   \n",
       "1        -0.414612            -1.055635      -0.178859       -0.348282   \n",
       "2        -1.003363            -0.600011      -0.178859       -0.348282   \n",
       "3        -0.935106            -0.087157      -0.178859        2.871237   \n",
       "4        -0.493858            -0.151400      -0.178859        2.871237   \n",
       "\n",
       "   credit_divide10000  reg_freq_fed_freq  \n",
       "0           -0.058734           1.655078  \n",
       "1           -0.058734           0.257566  \n",
       "2           -0.058734          -0.892048  \n",
       "3           -0.058734          -0.472018  \n",
       "4           -0.058734           0.200700  \n",
       "\n",
       "[5 rows x 173 columns]"
      ]
     },
     "execution_count": 40,
     "metadata": {},
     "output_type": "execute_result"
    }
   ],
   "source": [
    "X_train.head()"
   ]
  },
  {
   "cell_type": "code",
   "execution_count": 41,
   "metadata": {},
   "outputs": [
    {
     "data": {
      "text/html": [
       "<div>\n",
       "<table border=\"1\" class=\"dataframe\">\n",
       "  <thead>\n",
       "    <tr style=\"text-align: right;\">\n",
       "      <th></th>\n",
       "      <th>sex_F</th>\n",
       "      <th>sex_M</th>\n",
       "      <th>marital_CIV</th>\n",
       "      <th>marital_DIV</th>\n",
       "      <th>marital_MAR</th>\n",
       "      <th>marital_UNM</th>\n",
       "      <th>marital_WID</th>\n",
       "      <th>job_ATP</th>\n",
       "      <th>job_BIS</th>\n",
       "      <th>job_BIU</th>\n",
       "      <th>...</th>\n",
       "      <th>monthly_income</th>\n",
       "      <th>monthly_income_sq</th>\n",
       "      <th>credit_count</th>\n",
       "      <th>overdue_credit_count</th>\n",
       "      <th>monthly_payment</th>\n",
       "      <th>credit_income_ratio</th>\n",
       "      <th>overdue_ratio</th>\n",
       "      <th>credit_kopeyka</th>\n",
       "      <th>credit_divide10000</th>\n",
       "      <th>reg_freq_fed_freq</th>\n",
       "    </tr>\n",
       "  </thead>\n",
       "  <tbody>\n",
       "    <tr>\n",
       "      <th>0</th>\n",
       "      <td>0.963867</td>\n",
       "      <td>-0.963867</td>\n",
       "      <td>-0.160217</td>\n",
       "      <td>-0.335625</td>\n",
       "      <td>0.908596</td>\n",
       "      <td>-0.664893</td>\n",
       "      <td>-0.140629</td>\n",
       "      <td>-0.127205</td>\n",
       "      <td>-0.184795</td>\n",
       "      <td>-0.026186</td>\n",
       "      <td>...</td>\n",
       "      <td>-0.246755</td>\n",
       "      <td>-0.182400</td>\n",
       "      <td>-0.000097</td>\n",
       "      <td>-0.211431</td>\n",
       "      <td>-0.514795</td>\n",
       "      <td>-0.005058</td>\n",
       "      <td>-0.177301</td>\n",
       "      <td>-0.344206</td>\n",
       "      <td>-0.059284</td>\n",
       "      <td>-1.132403</td>\n",
       "    </tr>\n",
       "    <tr>\n",
       "      <th>1</th>\n",
       "      <td>-1.037487</td>\n",
       "      <td>1.037487</td>\n",
       "      <td>-0.160217</td>\n",
       "      <td>-0.335625</td>\n",
       "      <td>0.908596</td>\n",
       "      <td>-0.664893</td>\n",
       "      <td>-0.140629</td>\n",
       "      <td>-0.127205</td>\n",
       "      <td>-0.184795</td>\n",
       "      <td>-0.026186</td>\n",
       "      <td>...</td>\n",
       "      <td>-0.855214</td>\n",
       "      <td>-0.319407</td>\n",
       "      <td>0.559822</td>\n",
       "      <td>-0.211431</td>\n",
       "      <td>-0.823712</td>\n",
       "      <td>-0.005850</td>\n",
       "      <td>-0.177301</td>\n",
       "      <td>2.905236</td>\n",
       "      <td>-0.059284</td>\n",
       "      <td>-0.310149</td>\n",
       "    </tr>\n",
       "    <tr>\n",
       "      <th>2</th>\n",
       "      <td>0.963867</td>\n",
       "      <td>-0.963867</td>\n",
       "      <td>-0.160217</td>\n",
       "      <td>-0.335625</td>\n",
       "      <td>-1.100599</td>\n",
       "      <td>1.504001</td>\n",
       "      <td>-0.140629</td>\n",
       "      <td>-0.127205</td>\n",
       "      <td>-0.184795</td>\n",
       "      <td>-0.026186</td>\n",
       "      <td>...</td>\n",
       "      <td>-0.611831</td>\n",
       "      <td>-0.273910</td>\n",
       "      <td>-0.560017</td>\n",
       "      <td>-0.211431</td>\n",
       "      <td>-0.740513</td>\n",
       "      <td>-0.004830</td>\n",
       "      <td>-0.177301</td>\n",
       "      <td>-0.344206</td>\n",
       "      <td>-0.059284</td>\n",
       "      <td>-1.202778</td>\n",
       "    </tr>\n",
       "    <tr>\n",
       "      <th>3</th>\n",
       "      <td>0.963867</td>\n",
       "      <td>-0.963867</td>\n",
       "      <td>-0.160217</td>\n",
       "      <td>-0.335625</td>\n",
       "      <td>0.908596</td>\n",
       "      <td>-0.664893</td>\n",
       "      <td>-0.140629</td>\n",
       "      <td>-0.127205</td>\n",
       "      <td>-0.184795</td>\n",
       "      <td>-0.026186</td>\n",
       "      <td>...</td>\n",
       "      <td>-0.409011</td>\n",
       "      <td>-0.226518</td>\n",
       "      <td>-1.119937</td>\n",
       "      <td>-0.211431</td>\n",
       "      <td>-0.972673</td>\n",
       "      <td>-0.006238</td>\n",
       "      <td>-0.177301</td>\n",
       "      <td>-0.344206</td>\n",
       "      <td>-0.059284</td>\n",
       "      <td>0.290855</td>\n",
       "    </tr>\n",
       "    <tr>\n",
       "      <th>4</th>\n",
       "      <td>0.963867</td>\n",
       "      <td>-0.963867</td>\n",
       "      <td>-0.160217</td>\n",
       "      <td>-0.335625</td>\n",
       "      <td>0.908596</td>\n",
       "      <td>-0.664893</td>\n",
       "      <td>-0.140629</td>\n",
       "      <td>-0.127205</td>\n",
       "      <td>-0.184795</td>\n",
       "      <td>-0.026186</td>\n",
       "      <td>...</td>\n",
       "      <td>-0.814650</td>\n",
       "      <td>-0.312686</td>\n",
       "      <td>-0.000097</td>\n",
       "      <td>-0.211431</td>\n",
       "      <td>-0.083725</td>\n",
       "      <td>-0.003620</td>\n",
       "      <td>-0.177301</td>\n",
       "      <td>-0.344206</td>\n",
       "      <td>-0.059284</td>\n",
       "      <td>-1.188532</td>\n",
       "    </tr>\n",
       "  </tbody>\n",
       "</table>\n",
       "<p>5 rows × 169 columns</p>\n",
       "</div>"
      ],
      "text/plain": [
       "      sex_F     sex_M  marital_CIV  marital_DIV  marital_MAR  marital_UNM  \\\n",
       "0  0.963867 -0.963867    -0.160217    -0.335625     0.908596    -0.664893   \n",
       "1 -1.037487  1.037487    -0.160217    -0.335625     0.908596    -0.664893   \n",
       "2  0.963867 -0.963867    -0.160217    -0.335625    -1.100599     1.504001   \n",
       "3  0.963867 -0.963867    -0.160217    -0.335625     0.908596    -0.664893   \n",
       "4  0.963867 -0.963867    -0.160217    -0.335625     0.908596    -0.664893   \n",
       "\n",
       "   marital_WID   job_ATP   job_BIS   job_BIU        ...          \\\n",
       "0    -0.140629 -0.127205 -0.184795 -0.026186        ...           \n",
       "1    -0.140629 -0.127205 -0.184795 -0.026186        ...           \n",
       "2    -0.140629 -0.127205 -0.184795 -0.026186        ...           \n",
       "3    -0.140629 -0.127205 -0.184795 -0.026186        ...           \n",
       "4    -0.140629 -0.127205 -0.184795 -0.026186        ...           \n",
       "\n",
       "   monthly_income  monthly_income_sq  credit_count  overdue_credit_count  \\\n",
       "0       -0.246755          -0.182400     -0.000097             -0.211431   \n",
       "1       -0.855214          -0.319407      0.559822             -0.211431   \n",
       "2       -0.611831          -0.273910     -0.560017             -0.211431   \n",
       "3       -0.409011          -0.226518     -1.119937             -0.211431   \n",
       "4       -0.814650          -0.312686     -0.000097             -0.211431   \n",
       "\n",
       "   monthly_payment  credit_income_ratio  overdue_ratio  credit_kopeyka  \\\n",
       "0        -0.514795            -0.005058      -0.177301       -0.344206   \n",
       "1        -0.823712            -0.005850      -0.177301        2.905236   \n",
       "2        -0.740513            -0.004830      -0.177301       -0.344206   \n",
       "3        -0.972673            -0.006238      -0.177301       -0.344206   \n",
       "4        -0.083725            -0.003620      -0.177301       -0.344206   \n",
       "\n",
       "   credit_divide10000  reg_freq_fed_freq  \n",
       "0           -0.059284          -1.132403  \n",
       "1           -0.059284          -0.310149  \n",
       "2           -0.059284          -1.202778  \n",
       "3           -0.059284           0.290855  \n",
       "4           -0.059284          -1.188532  \n",
       "\n",
       "[5 rows x 169 columns]"
      ]
     },
     "execution_count": 41,
     "metadata": {},
     "output_type": "execute_result"
    }
   ],
   "source": [
    "X_test.head()"
   ]
  },
  {
   "cell_type": "markdown",
   "metadata": {},
   "source": [
    "###  Часть 7. Отбор признаков"
   ]
  },
  {
   "cell_type": "code",
   "execution_count": 42,
   "metadata": {},
   "outputs": [],
   "source": [
    "selecting_forest = RandomForestClassifier(n_estimators=1000, max_depth = 5, \n",
    "                                      oob_score=True, n_jobs=-1,\n",
    "                                      random_state=42).fit(X_train, y)"
   ]
  },
  {
   "cell_type": "code",
   "execution_count": 43,
   "metadata": {},
   "outputs": [
    {
     "data": {
      "text/plain": [
       "0.82397245030630295"
      ]
     },
     "execution_count": 43,
     "metadata": {},
     "output_type": "execute_result"
    }
   ],
   "source": [
    "selecting_forest.oob_score_"
   ]
  },
  {
   "cell_type": "code",
   "execution_count": 44,
   "metadata": {},
   "outputs": [
    {
     "data": {
      "text/html": [
       "<div>\n",
       "<table border=\"1\" class=\"dataframe\">\n",
       "  <thead>\n",
       "    <tr style=\"text-align: right;\">\n",
       "      <th></th>\n",
       "      <th>Importance</th>\n",
       "    </tr>\n",
       "  </thead>\n",
       "  <tbody>\n",
       "    <tr>\n",
       "      <th>tariff_1.32</th>\n",
       "      <td>2.118334e-01</td>\n",
       "    </tr>\n",
       "    <tr>\n",
       "      <th>age_sq</th>\n",
       "      <td>9.050083e-02</td>\n",
       "    </tr>\n",
       "    <tr>\n",
       "      <th>age</th>\n",
       "      <td>9.046345e-02</td>\n",
       "    </tr>\n",
       "    <tr>\n",
       "      <th>credit_month</th>\n",
       "      <td>6.887851e-02</td>\n",
       "    </tr>\n",
       "    <tr>\n",
       "      <th>credit_sum_sq</th>\n",
       "      <td>5.955513e-02</td>\n",
       "    </tr>\n",
       "    <tr>\n",
       "      <th>monthly_payment</th>\n",
       "      <td>5.859340e-02</td>\n",
       "    </tr>\n",
       "    <tr>\n",
       "      <th>credit_sum</th>\n",
       "      <td>5.555006e-02</td>\n",
       "    </tr>\n",
       "    <tr>\n",
       "      <th>educ_GRD</th>\n",
       "      <td>3.949263e-02</td>\n",
       "    </tr>\n",
       "    <tr>\n",
       "      <th>job_PNA</th>\n",
       "      <td>3.806426e-02</td>\n",
       "    </tr>\n",
       "    <tr>\n",
       "      <th>educ_SCH</th>\n",
       "      <td>3.721726e-02</td>\n",
       "    </tr>\n",
       "    <tr>\n",
       "      <th>score_shk</th>\n",
       "      <td>2.421389e-02</td>\n",
       "    </tr>\n",
       "    <tr>\n",
       "      <th>marital_MAR</th>\n",
       "      <td>2.340396e-02</td>\n",
       "    </tr>\n",
       "    <tr>\n",
       "      <th>marital_UNM</th>\n",
       "      <td>1.912175e-02</td>\n",
       "    </tr>\n",
       "    <tr>\n",
       "      <th>tariff_1.6</th>\n",
       "      <td>1.806446e-02</td>\n",
       "    </tr>\n",
       "    <tr>\n",
       "      <th>tariff_1.1</th>\n",
       "      <td>1.770209e-02</td>\n",
       "    </tr>\n",
       "    <tr>\n",
       "      <th>tariff_1.9</th>\n",
       "      <td>1.548977e-02</td>\n",
       "    </tr>\n",
       "    <tr>\n",
       "      <th>credit_income_ratio</th>\n",
       "      <td>1.403485e-02</td>\n",
       "    </tr>\n",
       "    <tr>\n",
       "      <th>job_SPC</th>\n",
       "      <td>1.397550e-02</td>\n",
       "    </tr>\n",
       "    <tr>\n",
       "      <th>sex_F</th>\n",
       "      <td>9.747705e-03</td>\n",
       "    </tr>\n",
       "    <tr>\n",
       "      <th>tariff_1.5</th>\n",
       "      <td>9.419624e-03</td>\n",
       "    </tr>\n",
       "    <tr>\n",
       "      <th>credit_count</th>\n",
       "      <td>9.255096e-03</td>\n",
       "    </tr>\n",
       "    <tr>\n",
       "      <th>sex_M</th>\n",
       "      <td>8.779196e-03</td>\n",
       "    </tr>\n",
       "    <tr>\n",
       "      <th>tariff_1.3</th>\n",
       "      <td>8.029682e-03</td>\n",
       "    </tr>\n",
       "    <tr>\n",
       "      <th>tariff_1.4</th>\n",
       "      <td>7.382322e-03</td>\n",
       "    </tr>\n",
       "    <tr>\n",
       "      <th>reg_freq_fed_freq</th>\n",
       "      <td>4.221371e-03</td>\n",
       "    </tr>\n",
       "    <tr>\n",
       "      <th>job_ATP</th>\n",
       "      <td>4.023059e-03</td>\n",
       "    </tr>\n",
       "    <tr>\n",
       "      <th>monthly_income</th>\n",
       "      <td>3.344877e-03</td>\n",
       "    </tr>\n",
       "    <tr>\n",
       "      <th>monthly_income_sq</th>\n",
       "      <td>3.235667e-03</td>\n",
       "    </tr>\n",
       "    <tr>\n",
       "      <th>tariff_1.0</th>\n",
       "      <td>2.788198e-03</td>\n",
       "    </tr>\n",
       "    <tr>\n",
       "      <th>clean_reg_66</th>\n",
       "      <td>2.537137e-03</td>\n",
       "    </tr>\n",
       "    <tr>\n",
       "      <th>clean_reg_12</th>\n",
       "      <td>2.524607e-03</td>\n",
       "    </tr>\n",
       "    <tr>\n",
       "      <th>tariff_1.18</th>\n",
       "      <td>2.236658e-03</td>\n",
       "    </tr>\n",
       "    <tr>\n",
       "      <th>fed_reg_5</th>\n",
       "      <td>1.893156e-03</td>\n",
       "    </tr>\n",
       "    <tr>\n",
       "      <th>fed_reg_7</th>\n",
       "      <td>1.426957e-03</td>\n",
       "    </tr>\n",
       "    <tr>\n",
       "      <th>clean_reg_41</th>\n",
       "      <td>1.301689e-03</td>\n",
       "    </tr>\n",
       "    <tr>\n",
       "      <th>educ_UGR</th>\n",
       "      <td>1.255730e-03</td>\n",
       "    </tr>\n",
       "    <tr>\n",
       "      <th>fed_reg_4</th>\n",
       "      <td>1.245630e-03</td>\n",
       "    </tr>\n",
       "    <tr>\n",
       "      <th>job_NOR</th>\n",
       "      <td>1.018907e-03</td>\n",
       "    </tr>\n",
       "    <tr>\n",
       "      <th>fed_reg_0</th>\n",
       "      <td>9.411483e-04</td>\n",
       "    </tr>\n",
       "    <tr>\n",
       "      <th>clean_reg_26</th>\n",
       "      <td>8.999539e-04</td>\n",
       "    </tr>\n",
       "    <tr>\n",
       "      <th>tariff_1.43</th>\n",
       "      <td>8.845496e-04</td>\n",
       "    </tr>\n",
       "    <tr>\n",
       "      <th>clean_reg_59</th>\n",
       "      <td>8.420351e-04</td>\n",
       "    </tr>\n",
       "    <tr>\n",
       "      <th>credit_kopeyka</th>\n",
       "      <td>7.862254e-04</td>\n",
       "    </tr>\n",
       "    <tr>\n",
       "      <th>overdue_ratio</th>\n",
       "      <td>6.322660e-04</td>\n",
       "    </tr>\n",
       "    <tr>\n",
       "      <th>clean_reg_72</th>\n",
       "      <td>6.286216e-04</td>\n",
       "    </tr>\n",
       "    <tr>\n",
       "      <th>job_UMN</th>\n",
       "      <td>6.089957e-04</td>\n",
       "    </tr>\n",
       "    <tr>\n",
       "      <th>tariff_1.16</th>\n",
       "      <td>5.600639e-04</td>\n",
       "    </tr>\n",
       "    <tr>\n",
       "      <th>overdue_credit_count</th>\n",
       "      <td>5.345102e-04</td>\n",
       "    </tr>\n",
       "    <tr>\n",
       "      <th>clean_reg_21</th>\n",
       "      <td>4.255246e-04</td>\n",
       "    </tr>\n",
       "    <tr>\n",
       "      <th>clean_reg_20</th>\n",
       "      <td>4.000488e-04</td>\n",
       "    </tr>\n",
       "    <tr>\n",
       "      <th>...</th>\n",
       "      <td>...</td>\n",
       "    </tr>\n",
       "    <tr>\n",
       "      <th>clean_reg_24</th>\n",
       "      <td>4.591041e-05</td>\n",
       "    </tr>\n",
       "    <tr>\n",
       "      <th>clean_reg_71</th>\n",
       "      <td>4.526527e-05</td>\n",
       "    </tr>\n",
       "    <tr>\n",
       "      <th>clean_reg_51</th>\n",
       "      <td>4.504644e-05</td>\n",
       "    </tr>\n",
       "    <tr>\n",
       "      <th>clean_reg_39</th>\n",
       "      <td>4.315142e-05</td>\n",
       "    </tr>\n",
       "    <tr>\n",
       "      <th>clean_reg_58</th>\n",
       "      <td>4.226542e-05</td>\n",
       "    </tr>\n",
       "    <tr>\n",
       "      <th>job_PNI</th>\n",
       "      <td>4.201246e-05</td>\n",
       "    </tr>\n",
       "    <tr>\n",
       "      <th>clean_reg_75</th>\n",
       "      <td>3.977366e-05</td>\n",
       "    </tr>\n",
       "    <tr>\n",
       "      <th>clean_reg_62</th>\n",
       "      <td>3.953588e-05</td>\n",
       "    </tr>\n",
       "    <tr>\n",
       "      <th>clean_reg_30</th>\n",
       "      <td>3.738330e-05</td>\n",
       "    </tr>\n",
       "    <tr>\n",
       "      <th>clean_reg_81</th>\n",
       "      <td>3.710589e-05</td>\n",
       "    </tr>\n",
       "    <tr>\n",
       "      <th>clean_reg_67</th>\n",
       "      <td>3.596574e-05</td>\n",
       "    </tr>\n",
       "    <tr>\n",
       "      <th>clean_reg_46</th>\n",
       "      <td>3.594720e-05</td>\n",
       "    </tr>\n",
       "    <tr>\n",
       "      <th>clean_reg_38</th>\n",
       "      <td>3.549458e-05</td>\n",
       "    </tr>\n",
       "    <tr>\n",
       "      <th>clean_reg_10</th>\n",
       "      <td>3.517679e-05</td>\n",
       "    </tr>\n",
       "    <tr>\n",
       "      <th>clean_reg_35</th>\n",
       "      <td>3.434220e-05</td>\n",
       "    </tr>\n",
       "    <tr>\n",
       "      <th>clean_reg_55</th>\n",
       "      <td>3.379611e-05</td>\n",
       "    </tr>\n",
       "    <tr>\n",
       "      <th>clean_reg_31</th>\n",
       "      <td>3.355901e-05</td>\n",
       "    </tr>\n",
       "    <tr>\n",
       "      <th>clean_reg_77</th>\n",
       "      <td>3.186053e-05</td>\n",
       "    </tr>\n",
       "    <tr>\n",
       "      <th>clean_reg_49</th>\n",
       "      <td>3.139358e-05</td>\n",
       "    </tr>\n",
       "    <tr>\n",
       "      <th>job_PNS</th>\n",
       "      <td>3.036748e-05</td>\n",
       "    </tr>\n",
       "    <tr>\n",
       "      <th>clean_reg_85</th>\n",
       "      <td>2.819811e-05</td>\n",
       "    </tr>\n",
       "    <tr>\n",
       "      <th>clean_reg_37</th>\n",
       "      <td>2.621407e-05</td>\n",
       "    </tr>\n",
       "    <tr>\n",
       "      <th>educ_ACD</th>\n",
       "      <td>2.598268e-05</td>\n",
       "    </tr>\n",
       "    <tr>\n",
       "      <th>clean_reg_40</th>\n",
       "      <td>2.569669e-05</td>\n",
       "    </tr>\n",
       "    <tr>\n",
       "      <th>clean_reg_29</th>\n",
       "      <td>2.512762e-05</td>\n",
       "    </tr>\n",
       "    <tr>\n",
       "      <th>clean_reg_44</th>\n",
       "      <td>2.411412e-05</td>\n",
       "    </tr>\n",
       "    <tr>\n",
       "      <th>clean_reg_65</th>\n",
       "      <td>2.191751e-05</td>\n",
       "    </tr>\n",
       "    <tr>\n",
       "      <th>clean_reg_27</th>\n",
       "      <td>2.155757e-05</td>\n",
       "    </tr>\n",
       "    <tr>\n",
       "      <th>tariff_1.25</th>\n",
       "      <td>1.828867e-05</td>\n",
       "    </tr>\n",
       "    <tr>\n",
       "      <th>clean_reg_25</th>\n",
       "      <td>1.801602e-05</td>\n",
       "    </tr>\n",
       "    <tr>\n",
       "      <th>job_PNV</th>\n",
       "      <td>1.756020e-05</td>\n",
       "    </tr>\n",
       "    <tr>\n",
       "      <th>clean_reg_80</th>\n",
       "      <td>1.614233e-05</td>\n",
       "    </tr>\n",
       "    <tr>\n",
       "      <th>job_WRP</th>\n",
       "      <td>1.431040e-05</td>\n",
       "    </tr>\n",
       "    <tr>\n",
       "      <th>clean_reg_7</th>\n",
       "      <td>1.130211e-05</td>\n",
       "    </tr>\n",
       "    <tr>\n",
       "      <th>job_INV</th>\n",
       "      <td>7.551035e-06</td>\n",
       "    </tr>\n",
       "    <tr>\n",
       "      <th>clean_reg_53</th>\n",
       "      <td>6.878240e-06</td>\n",
       "    </tr>\n",
       "    <tr>\n",
       "      <th>clean_reg_1</th>\n",
       "      <td>6.452446e-06</td>\n",
       "    </tr>\n",
       "    <tr>\n",
       "      <th>tariff_1.24</th>\n",
       "      <td>6.157156e-06</td>\n",
       "    </tr>\n",
       "    <tr>\n",
       "      <th>tariff_1.26</th>\n",
       "      <td>2.076407e-06</td>\n",
       "    </tr>\n",
       "    <tr>\n",
       "      <th>job_HSK</th>\n",
       "      <td>1.195051e-06</td>\n",
       "    </tr>\n",
       "    <tr>\n",
       "      <th>job_ONB</th>\n",
       "      <td>8.088432e-07</td>\n",
       "    </tr>\n",
       "    <tr>\n",
       "      <th>tariff_1.41</th>\n",
       "      <td>1.268518e-08</td>\n",
       "    </tr>\n",
       "    <tr>\n",
       "      <th>tariff_1.52</th>\n",
       "      <td>0.000000e+00</td>\n",
       "    </tr>\n",
       "    <tr>\n",
       "      <th>tariff_1.27</th>\n",
       "      <td>0.000000e+00</td>\n",
       "    </tr>\n",
       "    <tr>\n",
       "      <th>tariff_1.28</th>\n",
       "      <td>0.000000e+00</td>\n",
       "    </tr>\n",
       "    <tr>\n",
       "      <th>tariff_1.29</th>\n",
       "      <td>0.000000e+00</td>\n",
       "    </tr>\n",
       "    <tr>\n",
       "      <th>tariff_1.48</th>\n",
       "      <td>0.000000e+00</td>\n",
       "    </tr>\n",
       "    <tr>\n",
       "      <th>tariff_1.56</th>\n",
       "      <td>0.000000e+00</td>\n",
       "    </tr>\n",
       "    <tr>\n",
       "      <th>tariff_1.96</th>\n",
       "      <td>0.000000e+00</td>\n",
       "    </tr>\n",
       "    <tr>\n",
       "      <th>clean_reg_15</th>\n",
       "      <td>0.000000e+00</td>\n",
       "    </tr>\n",
       "  </tbody>\n",
       "</table>\n",
       "<p>173 rows × 1 columns</p>\n",
       "</div>"
      ],
      "text/plain": [
       "                        Importance\n",
       "tariff_1.32           2.118334e-01\n",
       "age_sq                9.050083e-02\n",
       "age                   9.046345e-02\n",
       "credit_month          6.887851e-02\n",
       "credit_sum_sq         5.955513e-02\n",
       "monthly_payment       5.859340e-02\n",
       "credit_sum            5.555006e-02\n",
       "educ_GRD              3.949263e-02\n",
       "job_PNA               3.806426e-02\n",
       "educ_SCH              3.721726e-02\n",
       "score_shk             2.421389e-02\n",
       "marital_MAR           2.340396e-02\n",
       "marital_UNM           1.912175e-02\n",
       "tariff_1.6            1.806446e-02\n",
       "tariff_1.1            1.770209e-02\n",
       "tariff_1.9            1.548977e-02\n",
       "credit_income_ratio   1.403485e-02\n",
       "job_SPC               1.397550e-02\n",
       "sex_F                 9.747705e-03\n",
       "tariff_1.5            9.419624e-03\n",
       "credit_count          9.255096e-03\n",
       "sex_M                 8.779196e-03\n",
       "tariff_1.3            8.029682e-03\n",
       "tariff_1.4            7.382322e-03\n",
       "reg_freq_fed_freq     4.221371e-03\n",
       "job_ATP               4.023059e-03\n",
       "monthly_income        3.344877e-03\n",
       "monthly_income_sq     3.235667e-03\n",
       "tariff_1.0            2.788198e-03\n",
       "clean_reg_66          2.537137e-03\n",
       "clean_reg_12          2.524607e-03\n",
       "tariff_1.18           2.236658e-03\n",
       "fed_reg_5             1.893156e-03\n",
       "fed_reg_7             1.426957e-03\n",
       "clean_reg_41          1.301689e-03\n",
       "educ_UGR              1.255730e-03\n",
       "fed_reg_4             1.245630e-03\n",
       "job_NOR               1.018907e-03\n",
       "fed_reg_0             9.411483e-04\n",
       "clean_reg_26          8.999539e-04\n",
       "tariff_1.43           8.845496e-04\n",
       "clean_reg_59          8.420351e-04\n",
       "credit_kopeyka        7.862254e-04\n",
       "overdue_ratio         6.322660e-04\n",
       "clean_reg_72          6.286216e-04\n",
       "job_UMN               6.089957e-04\n",
       "tariff_1.16           5.600639e-04\n",
       "overdue_credit_count  5.345102e-04\n",
       "clean_reg_21          4.255246e-04\n",
       "clean_reg_20          4.000488e-04\n",
       "...                            ...\n",
       "clean_reg_24          4.591041e-05\n",
       "clean_reg_71          4.526527e-05\n",
       "clean_reg_51          4.504644e-05\n",
       "clean_reg_39          4.315142e-05\n",
       "clean_reg_58          4.226542e-05\n",
       "job_PNI               4.201246e-05\n",
       "clean_reg_75          3.977366e-05\n",
       "clean_reg_62          3.953588e-05\n",
       "clean_reg_30          3.738330e-05\n",
       "clean_reg_81          3.710589e-05\n",
       "clean_reg_67          3.596574e-05\n",
       "clean_reg_46          3.594720e-05\n",
       "clean_reg_38          3.549458e-05\n",
       "clean_reg_10          3.517679e-05\n",
       "clean_reg_35          3.434220e-05\n",
       "clean_reg_55          3.379611e-05\n",
       "clean_reg_31          3.355901e-05\n",
       "clean_reg_77          3.186053e-05\n",
       "clean_reg_49          3.139358e-05\n",
       "job_PNS               3.036748e-05\n",
       "clean_reg_85          2.819811e-05\n",
       "clean_reg_37          2.621407e-05\n",
       "educ_ACD              2.598268e-05\n",
       "clean_reg_40          2.569669e-05\n",
       "clean_reg_29          2.512762e-05\n",
       "clean_reg_44          2.411412e-05\n",
       "clean_reg_65          2.191751e-05\n",
       "clean_reg_27          2.155757e-05\n",
       "tariff_1.25           1.828867e-05\n",
       "clean_reg_25          1.801602e-05\n",
       "job_PNV               1.756020e-05\n",
       "clean_reg_80          1.614233e-05\n",
       "job_WRP               1.431040e-05\n",
       "clean_reg_7           1.130211e-05\n",
       "job_INV               7.551035e-06\n",
       "clean_reg_53          6.878240e-06\n",
       "clean_reg_1           6.452446e-06\n",
       "tariff_1.24           6.157156e-06\n",
       "tariff_1.26           2.076407e-06\n",
       "job_HSK               1.195051e-06\n",
       "job_ONB               8.088432e-07\n",
       "tariff_1.41           1.268518e-08\n",
       "tariff_1.52           0.000000e+00\n",
       "tariff_1.27           0.000000e+00\n",
       "tariff_1.28           0.000000e+00\n",
       "tariff_1.29           0.000000e+00\n",
       "tariff_1.48           0.000000e+00\n",
       "tariff_1.56           0.000000e+00\n",
       "tariff_1.96           0.000000e+00\n",
       "clean_reg_15          0.000000e+00\n",
       "\n",
       "[173 rows x 1 columns]"
      ]
     },
     "execution_count": 44,
     "metadata": {},
     "output_type": "execute_result"
    }
   ],
   "source": [
    "selecting_forest_predictions = selecting_forest.predict(X_train)\n",
    "features = pd.DataFrame(selecting_forest.feature_importances_, index=X_train.columns,\n",
    "                        columns=['Importance']).sort(['Importance'], ascending=False)\n",
    "pd.set_option('display.max_rows', 100)\n",
    "features"
   ]
  },
  {
   "cell_type": "code",
   "execution_count": 45,
   "metadata": {},
   "outputs": [
    {
     "data": {
      "image/png": "[encoded data removed]",
      "text/plain": [
       "<matplotlib.figure.Figure at 0x24fca9b6c18>"
      ]
     },
     "metadata": {},
     "output_type": "display_data"
    }
   ],
   "source": [
    "plt.plot(range(len(features.Importance.tolist())), \n",
    "         features.Importance.tolist());"
   ]
  },
  {
   "cell_type": "code",
   "execution_count": 46,
   "metadata": {},
   "outputs": [],
   "source": [
    "least_important = features.index[30:]"
   ]
  },
  {
   "cell_type": "code",
   "execution_count": 47,
   "metadata": {},
   "outputs": [],
   "source": [
    "X_train_red = X_train.drop(least_important, axis=1)"
   ]
  },
  {
   "cell_type": "code",
   "execution_count": 48,
   "metadata": {},
   "outputs": [
    {
     "data": {
      "text/plain": [
       "0.82430042285031568"
      ]
     },
     "execution_count": 48,
     "metadata": {},
     "output_type": "execute_result"
    }
   ],
   "source": [
    "selecting_forest2 = RandomForestClassifier(n_estimators=1000, max_depth = 5, \n",
    "                                      oob_score=True, n_jobs=-1,\n",
    "                                      random_state=42).fit(X_train_red, y)\n",
    "selecting_forest2.oob_score_"
   ]
  },
  {
   "cell_type": "code",
   "execution_count": 49,
   "metadata": {},
   "outputs": [
    {
     "data": {
      "text/html": [
       "<div>\n",
       "<table border=\"1\" class=\"dataframe\">\n",
       "  <thead>\n",
       "    <tr style=\"text-align: right;\">\n",
       "      <th></th>\n",
       "      <th>Importance</th>\n",
       "    </tr>\n",
       "  </thead>\n",
       "  <tbody>\n",
       "    <tr>\n",
       "      <th>tariff_1.32</th>\n",
       "      <td>0.278958</td>\n",
       "    </tr>\n",
       "    <tr>\n",
       "      <th>credit_month</th>\n",
       "      <td>0.095919</td>\n",
       "    </tr>\n",
       "    <tr>\n",
       "      <th>age_sq</th>\n",
       "      <td>0.092393</td>\n",
       "    </tr>\n",
       "    <tr>\n",
       "      <th>age</th>\n",
       "      <td>0.091018</td>\n",
       "    </tr>\n",
       "    <tr>\n",
       "      <th>credit_sum_sq</th>\n",
       "      <td>0.058872</td>\n",
       "    </tr>\n",
       "    <tr>\n",
       "      <th>credit_sum</th>\n",
       "      <td>0.058467</td>\n",
       "    </tr>\n",
       "    <tr>\n",
       "      <th>monthly_payment</th>\n",
       "      <td>0.055200</td>\n",
       "    </tr>\n",
       "    <tr>\n",
       "      <th>educ_GRD</th>\n",
       "      <td>0.039026</td>\n",
       "    </tr>\n",
       "    <tr>\n",
       "      <th>job_PNA</th>\n",
       "      <td>0.037781</td>\n",
       "    </tr>\n",
       "    <tr>\n",
       "      <th>tariff_1.1</th>\n",
       "      <td>0.032033</td>\n",
       "    </tr>\n",
       "    <tr>\n",
       "      <th>educ_SCH</th>\n",
       "      <td>0.029721</td>\n",
       "    </tr>\n",
       "    <tr>\n",
       "      <th>score_shk</th>\n",
       "      <td>0.021879</td>\n",
       "    </tr>\n",
       "    <tr>\n",
       "      <th>marital_MAR</th>\n",
       "      <td>0.014271</td>\n",
       "    </tr>\n",
       "    <tr>\n",
       "      <th>tariff_1.6</th>\n",
       "      <td>0.012824</td>\n",
       "    </tr>\n",
       "    <tr>\n",
       "      <th>tariff_1.9</th>\n",
       "      <td>0.010169</td>\n",
       "    </tr>\n",
       "    <tr>\n",
       "      <th>job_SPC</th>\n",
       "      <td>0.010089</td>\n",
       "    </tr>\n",
       "    <tr>\n",
       "      <th>credit_income_ratio</th>\n",
       "      <td>0.009966</td>\n",
       "    </tr>\n",
       "    <tr>\n",
       "      <th>marital_UNM</th>\n",
       "      <td>0.009506</td>\n",
       "    </tr>\n",
       "    <tr>\n",
       "      <th>credit_count</th>\n",
       "      <td>0.008724</td>\n",
       "    </tr>\n",
       "    <tr>\n",
       "      <th>sex_M</th>\n",
       "      <td>0.005515</td>\n",
       "    </tr>\n",
       "    <tr>\n",
       "      <th>tariff_1.3</th>\n",
       "      <td>0.005496</td>\n",
       "    </tr>\n",
       "    <tr>\n",
       "      <th>sex_F</th>\n",
       "      <td>0.005283</td>\n",
       "    </tr>\n",
       "    <tr>\n",
       "      <th>tariff_1.5</th>\n",
       "      <td>0.004378</td>\n",
       "    </tr>\n",
       "    <tr>\n",
       "      <th>tariff_1.4</th>\n",
       "      <td>0.003159</td>\n",
       "    </tr>\n",
       "    <tr>\n",
       "      <th>monthly_income</th>\n",
       "      <td>0.002388</td>\n",
       "    </tr>\n",
       "    <tr>\n",
       "      <th>monthly_income_sq</th>\n",
       "      <td>0.002344</td>\n",
       "    </tr>\n",
       "    <tr>\n",
       "      <th>reg_freq_fed_freq</th>\n",
       "      <td>0.002119</td>\n",
       "    </tr>\n",
       "    <tr>\n",
       "      <th>tariff_1.0</th>\n",
       "      <td>0.001267</td>\n",
       "    </tr>\n",
       "    <tr>\n",
       "      <th>job_ATP</th>\n",
       "      <td>0.000767</td>\n",
       "    </tr>\n",
       "    <tr>\n",
       "      <th>clean_reg_66</th>\n",
       "      <td>0.000468</td>\n",
       "    </tr>\n",
       "  </tbody>\n",
       "</table>\n",
       "</div>"
      ],
      "text/plain": [
       "                     Importance\n",
       "tariff_1.32            0.278958\n",
       "credit_month           0.095919\n",
       "age_sq                 0.092393\n",
       "age                    0.091018\n",
       "credit_sum_sq          0.058872\n",
       "credit_sum             0.058467\n",
       "monthly_payment        0.055200\n",
       "educ_GRD               0.039026\n",
       "job_PNA                0.037781\n",
       "tariff_1.1             0.032033\n",
       "educ_SCH               0.029721\n",
       "score_shk              0.021879\n",
       "marital_MAR            0.014271\n",
       "tariff_1.6             0.012824\n",
       "tariff_1.9             0.010169\n",
       "job_SPC                0.010089\n",
       "credit_income_ratio    0.009966\n",
       "marital_UNM            0.009506\n",
       "credit_count           0.008724\n",
       "sex_M                  0.005515\n",
       "tariff_1.3             0.005496\n",
       "sex_F                  0.005283\n",
       "tariff_1.5             0.004378\n",
       "tariff_1.4             0.003159\n",
       "monthly_income         0.002388\n",
       "monthly_income_sq      0.002344\n",
       "reg_freq_fed_freq      0.002119\n",
       "tariff_1.0             0.001267\n",
       "job_ATP                0.000767\n",
       "clean_reg_66           0.000468"
      ]
     },
     "execution_count": 49,
     "metadata": {},
     "output_type": "execute_result"
    }
   ],
   "source": [
    "selecting_forest2_predictions = selecting_forest2.predict(X_train_red)\n",
    "features2 = pd.DataFrame(selecting_forest2.feature_importances_, index=X_train_red.columns,\n",
    "                        columns=['Importance']).sort(['Importance'], ascending=False)\n",
    "pd.set_option('display.max_rows', 100)\n",
    "features2"
   ]
  },
  {
   "cell_type": "code",
   "execution_count": 50,
   "metadata": {},
   "outputs": [
    {
     "data": {
      "image/png": "[encoded data removed]",
      "text/plain": [
       "<matplotlib.figure.Figure at 0x24fc7da9c88>"
      ]
     },
     "metadata": {},
     "output_type": "display_data"
    }
   ],
   "source": [
    "plt.plot(range(len(features2.Importance.tolist())), \n",
    "         features2.Importance.tolist());"
   ]
  },
  {
   "cell_type": "code",
   "execution_count": 51,
   "metadata": {},
   "outputs": [],
   "source": [
    "test_uniques = ['clean_reg_53', 'clean_reg_15', 'tariff_1.96', 'tariff_1.52']\n",
    "least_important2 = [x for x in list(features.index[30:]) if x not in test_uniques]"
   ]
  },
  {
   "cell_type": "code",
   "execution_count": 52,
   "metadata": {},
   "outputs": [],
   "source": [
    "X_test_red = X_test.drop(least_important2, axis=1)"
   ]
  },
  {
   "cell_type": "code",
   "execution_count": 53,
   "metadata": {
    "collapsed": true
   },
   "outputs": [],
   "source": [
    "X_train_red.to_csv('X_train_red.csv')\n",
    "X_test_red.to_csv('X_test_red.csv')"
   ]
  },
  {
   "cell_type": "code",
   "execution_count": 54,
   "metadata": {
    "collapsed": true
   },
   "outputs": [],
   "source": [
    "y.to_csv('y_train.csv')"
   ]
  },
  {
   "cell_type": "markdown",
   "metadata": {},
   "source": [
    "###  Часть 8. Построение модели"
   ]
  },
  {
   "cell_type": "code",
   "execution_count": 4,
   "metadata": {},
   "outputs": [],
   "source": [
    "X_train_red = pd.read_csv('X_train_red.csv', index_col='id')\n",
    "X_test_red = pd.read_csv('X_test_red.csv', index_col='id')"
   ]
  },
  {
   "cell_type": "code",
   "execution_count": 5,
   "metadata": {},
   "outputs": [],
   "source": [
    "y = pd.read_csv('y_train.csv', index_col='id')['target']"
   ]
  },
  {
   "cell_type": "code",
   "execution_count": 6,
   "metadata": {
    "collapsed": true
   },
   "outputs": [],
   "source": [
    "from sklearn.ensemble import GradientBoostingClassifier, RandomForestClassifier, AdaBoostClassifier\n",
    "from sklearn.linear_model import LogisticRegression, SGDClassifier\n",
    "from sklearn.svm import SVC\n",
    "from sklearn.metrics import log_loss\n",
    "from xgboost import XGBClassifier"
   ]
  },
  {
   "cell_type": "code",
   "execution_count": 7,
   "metadata": {
    "collapsed": true
   },
   "outputs": [],
   "source": [
    "classifiers = [LogisticRegression(),\n",
    "               GradientBoostingClassifier(), \n",
    "               RandomForestClassifier(), \n",
    "               SVC(),\n",
    "               SGDClassifier(), \n",
    "               XGBClassifier(),\n",
    "               AdaBoostClassifier()]\n",
    "classifiers_name = [\"LogisticRegression\",\n",
    "               \"GradientBoostingClassifier\", \n",
    "               \"RandomForestClassifier\", \n",
    "               \"SVC\", \"SGDClassifier\"]"
   ]
  },
  {
   "cell_type": "code",
   "execution_count": 10,
   "metadata": {},
   "outputs": [],
   "source": [
    "from sklearn.model_selection import GridSearchCV\n",
    "\n",
    "scores = []\n",
    "fits = []\n",
    "logistic_params = {'penalty': ('l1', 'l2'), \n",
    "               'C': (0.01,0.1,1,5)}\n",
    "gbm_params = { 'n_estimators': [100, 300, 500],\n",
    "               'learning_rate':(0.1, 0.5, 1),\n",
    "                'max_depth': list(range(3, 6)), \n",
    "               'min_samples_leaf': [10,20,30,40,50]}\n",
    "forest_params = {'n_estimators': [100, 300, 500],\n",
    "                'criterion': ('gini', 'entropy'), \n",
    "               'max_depth': list(range(3, 10)), \n",
    "               'min_samples_leaf': [10,20,30,40,50]}\n",
    "\n",
    "svm_params = {'kernel' : ('linear', 'rbf'),\n",
    "              'C': (0.5, 1, 2)           \n",
    "             }\n",
    "sgd_params = {'loss': ('hinge', 'log', 'modified_huber', 'squared_hinge', 'perceptron'), \n",
    "              'penalty': ('l1', 'l2'), \n",
    "             }\n",
    "adb_params = {'n_estimators': (50,100,150)}\n",
    "\n",
    "xgb_params = {'max_depth': [5,6,7], \n",
    "             'n_estimators': [150, 200, 300],\n",
    "             'learning_rate': [0.1, 0.3, 0.5, 0,7]}\n",
    "\n",
    "params = [logistic_params, gbm_params, forest_params, svm_params, sgd_params, adb_params]"
   ]
  },
  {
   "cell_type": "code",
   "execution_count": null,
   "metadata": {},
   "outputs": [],
   "source": []
  },
  {
   "cell_type": "code",
   "execution_count": null,
   "metadata": {},
   "outputs": [],
   "source": [
    "# Проводим кросс-валидацию для всех моделей\n",
    "for i, each_classifier in enumerate(classifiers):\n",
    "    clf = each_classifier\n",
    "    clf_params = params[i]\n",
    "    grid = GridSearchCV(clf, clf_params, \n",
    "                        cv=5, \n",
    "                        n_jobs=-1, scoring='roc_auc')\n",
    "    grid.fit(X_train_red, y)\n",
    "    fits.append(grid.best_params_)\n",
    "    clf_best_score = grid.best_score_\n",
    "    scores.append(clf_best_score)\n",
    "    print(classifiers_name[i], clf_best_score, \"\\n\", grid.best_params_)"
   ]
  },
  {
   "cell_type": "code",
   "execution_count": null,
   "metadata": {},
   "outputs": [],
   "source": [
    "grid_log = GridSearchCV(LogisticRegression(), logistic_params, \n",
    "                        cv=5, \n",
    "                        n_jobs=-1, scoring='roc_auc', verbose=True)\n",
    "grid_log.fit(X_train_red, y)\n",
    "print('Logistic', grid_log.best_score_, \"\\n\", grid_log.best_params_)"
   ]
  },
  {
   "cell_type": "code",
   "execution_count": null,
   "metadata": {},
   "outputs": [],
   "source": [
    "grid_sgd = GridSearchCV(SGDClassifier(), sgd_params, \n",
    "                        cv=5, n_jobs=-1, scoring='roc_auc', verbose=True)\n",
    "grid_sgd.fit(X_train_red, y)\n",
    "print('SGD', grid_sgd.best_score_, \"\\n\", grid_sgd.best_params_)"
   ]
  },
  {
   "cell_type": "code",
   "execution_count": null,
   "metadata": {
    "collapsed": true
   },
   "outputs": [],
   "source": [
    "grid_rf = GridSearchCV(RandomForestClassifier(), forest_params, \n",
    "                        cv=5, n_jobs=-1, scoring='roc_auc', verbose=True)\n",
    "grid_rf.fit(X_train_red, y)\n",
    "print('RF', grid_rf.best_score_, \"\\n\", grid_rf.best_params_)"
   ]
  },
  {
   "cell_type": "code",
   "execution_count": null,
   "metadata": {},
   "outputs": [],
   "source": [
    "grid_svm = GridSearchCV(SVC(), svm_params, \n",
    "                        cv=5, n_jobs=-1, scoring='roc_auc', verbose=True)\n",
    "grid_svm.fit(X_train_red, y)\n",
    "print('SVM', grid_svm.best_score_, \"\\n\", grid_svm.best_params_)"
   ]
  },
  {
   "cell_type": "code",
   "execution_count": null,
   "metadata": {
    "collapsed": true
   },
   "outputs": [],
   "source": [
    "grid_gbm = GridSearchCV(GradientBoostingClassifier(), gbm_params, \n",
    "                        cv=5, n_jobs=-1, scoring='roc_auc', verbose=True)\n",
    "grid_gbm.fit(X_train_red, y)\n",
    "print('GBM', grid_gbm.best_score_, \"\\n\", grid_gbm.best_params_)"
   ]
  },
  {
   "cell_type": "code",
   "execution_count": null,
   "metadata": {},
   "outputs": [
    {
     "name": "stdout",
     "output_type": "stream",
     "text": [
      "Fitting 5 folds for each of 45 candidates, totalling 225 fits\n"
     ]
    }
   ],
   "source": [
    "grid_xgb = GridSearchCV(XGBClassifier(), xgb_params, \n",
    "                        cv=5, n_jobs=-1, scoring='roc_auc', verbose=True)\n",
    "grid_xgb.fit(X_train_red, y)\n",
    "print('XGBoost', grid_xgb.best_score_, \"\\n\", grid_xgb.best_params_)"
   ]
  },
  {
   "cell_type": "code",
   "execution_count": 18,
   "metadata": {
    "collapsed": true
   },
   "outputs": [],
   "source": [
    "xgboost_best = XGBClassifier(learning_rate = 0.1, max_depth = 6, n_estimators = 300)"
   ]
  },
  {
   "cell_type": "code",
   "execution_count": 19,
   "metadata": {},
   "outputs": [
    {
     "data": {
      "text/plain": [
       "XGBClassifier(base_score=0.5, colsample_bylevel=1, colsample_bytree=1,\n",
       "       gamma=0, learning_rate=0.1, max_delta_step=0, max_depth=6,\n",
       "       min_child_weight=1, missing=None, n_estimators=300, nthread=-1,\n",
       "       objective='binary:logistic', reg_alpha=0, reg_lambda=1,\n",
       "       scale_pos_weight=1, seed=0, silent=True, subsample=1)"
      ]
     },
     "execution_count": 19,
     "metadata": {},
     "output_type": "execute_result"
    }
   ],
   "source": [
    "xgboost_best.fit(X_train_red, y)"
   ]
  },
  {
   "cell_type": "code",
   "execution_count": 20,
   "metadata": {
    "collapsed": true
   },
   "outputs": [],
   "source": [
    "y_train_xgb = xgboost_best.predict(X_train_red)"
   ]
  },
  {
   "cell_type": "code",
   "execution_count": 21,
   "metadata": {},
   "outputs": [
    {
     "data": {
      "text/plain": [
       "0.57560773801761433"
      ]
     },
     "execution_count": 21,
     "metadata": {},
     "output_type": "execute_result"
    }
   ],
   "source": [
    "roc_auc_score(y, y_train_xgb)"
   ]
  },
  {
   "cell_type": "code",
   "execution_count": 61,
   "metadata": {},
   "outputs": [
    {
     "name": "stdout",
     "output_type": "stream",
     "text": [
      "Fitting 5 folds for each of 3 candidates, totalling 15 fits\n"
     ]
    },
    {
     "name": "stderr",
     "output_type": "stream",
     "text": [
      "[Parallel(n_jobs=-1)]: Done  15 out of  15 | elapsed:  5.5min finished\n"
     ]
    },
    {
     "name": "stdout",
     "output_type": "stream",
     "text": [
      "AdaBoost 0.747277704279 \n",
      " {'n_estimators': 150}\n"
     ]
    }
   ],
   "source": [
    "grid_adb = GridSearchCV(AdaBoostClassifier(), adb_params, \n",
    "                        cv=5, n_jobs=-1, scoring='roc_auc', verbose=True)\n",
    "grid_adb.fit(X_train_red, y)\n",
    "print('AdaBoost', grid_adb.best_score_, \"\\n\", grid_adb.best_params_)"
   ]
  },
  {
   "cell_type": "code",
   "execution_count": null,
   "metadata": {},
   "outputs": [],
   "source": []
  },
  {
   "cell_type": "code",
   "execution_count": null,
   "metadata": {
    "collapsed": true
   },
   "outputs": [],
   "source": []
  },
  {
   "cell_type": "code",
   "execution_count": null,
   "metadata": {
    "collapsed": true
   },
   "outputs": [],
   "source": []
  },
  {
   "cell_type": "markdown",
   "metadata": {},
   "source": [
    "###  Часть 9. Кросс-валидация, подбор параметров"
   ]
  },
  {
   "cell_type": "code",
   "execution_count": null,
   "metadata": {
    "collapsed": true
   },
   "outputs": [],
   "source": []
  },
  {
   "cell_type": "markdown",
   "metadata": {},
   "source": [
    "###  Часть 10. Кривые валидации и обучения"
   ]
  },
  {
   "cell_type": "code",
   "execution_count": null,
   "metadata": {
    "collapsed": true
   },
   "outputs": [],
   "source": []
  },
  {
   "cell_type": "markdown",
   "metadata": {},
   "source": [
    "###  Часть 11. Прогноз для тестовой (или отложенной) выборки"
   ]
  },
  {
   "cell_type": "code",
   "execution_count": 1,
   "metadata": {},
   "outputs": [
    {
     "ename": "NameError",
     "evalue": "name 'grid_xgb' is not defined",
     "output_type": "error",
     "traceback": [
      "\u001b[0;31m---------------------------------------------------------------------------\u001b[0m",
      "\u001b[0;31mNameError\u001b[0m                                 Traceback (most recent call last)",
      "\u001b[0;32m<ipython-input-1-c8819de8e990>\u001b[0m in \u001b[0;36m<module>\u001b[0;34m()\u001b[0m\n\u001b[0;32m----> 1\u001b[0;31m \u001b[0my_test_xgb\u001b[0m \u001b[1;33m=\u001b[0m \u001b[0mgrid_xgb\u001b[0m\u001b[1;33m.\u001b[0m\u001b[0mpredict\u001b[0m\u001b[1;33m(\u001b[0m\u001b[0mX_test_red\u001b[0m\u001b[1;33m)\u001b[0m\u001b[1;33m\u001b[0m\u001b[0m\n\u001b[0m\u001b[1;32m      2\u001b[0m \u001b[0my_test_xgb\u001b[0m\u001b[1;33m.\u001b[0m\u001b[0mto_csv\u001b[0m\u001b[1;33m(\u001b[0m\u001b[1;34m'y_test_xgb.csv'\u001b[0m\u001b[1;33m)\u001b[0m\u001b[1;33m\u001b[0m\u001b[0m\n",
      "\u001b[0;31mNameError\u001b[0m: name 'grid_xgb' is not defined"
     ]
    }
   ],
   "source": [
    "y_test_xgb = grid_xgb.predict(X_test_red)\n",
    "y_test_xgb.to_csv('y_test_xgb.csv')"
   ]
  },
  {
   "cell_type": "markdown",
   "metadata": {},
   "source": [
    "###  Часть 12. Оценка модели с описанием выбранной метрики"
   ]
  },
  {
   "cell_type": "code",
   "execution_count": null,
   "metadata": {
    "collapsed": true
   },
   "outputs": [],
   "source": []
  },
  {
   "cell_type": "markdown",
   "metadata": {},
   "source": [
    "### Часть 13. Выводы "
   ]
  },
  {
   "cell_type": "code",
   "execution_count": null,
   "metadata": {
    "collapsed": true
   },
   "outputs": [],
   "source": []
  }
 ],
 "metadata": {
  "kernelspec": {
   "display_name": "Python 3",
   "language": "python",
   "name": "python3"
  },
  "language_info": {
   "codemirror_mode": {
    "name": "ipython",
    "version": 3
   },
   "file_extension": ".py",
   "mimetype": "text/x-python",
   "name": "python",
   "nbconvert_exporter": "python",
   "pygments_lexer": "ipython3",
   "version": "3.6.4"
  }
 },
 "nbformat": 4,
 "nbformat_minor": 1
}
