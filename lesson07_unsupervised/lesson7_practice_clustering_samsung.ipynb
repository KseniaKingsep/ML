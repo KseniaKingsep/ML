{
 "cells": [
  {
   "cell_type": "markdown",
   "metadata": {},
   "source": [
    "<center>\n",
    "<img src=\"../../img/ml_theme.png\">\n",
    "# Дополнительное профессиональное <br> образование НИУ ВШЭ\n",
    "#### Программа \"Практический анализ данных и машинное обучение\"\n",
    "<img src=\"../../img/faculty_logo.jpg\" height=\"240\" width=\"240\">\n",
    "## Автор материала: преподаватель Факультета Компьютерных Наук НИУ ВШЭ <br> Кашницкий Юрий\n",
    "</center>\n",
    "Материал распространяется на условиях лицензии <a href=\"https://opensource.org/licenses/MS-RL\">Ms-RL</a>. Можно использовать в любых целях, кроме коммерческих, но с обязательным упоминанием автора материала."
   ]
  },
  {
   "cell_type": "markdown",
   "metadata": {},
   "source": [
    "# <center>Занятие 7. Задача Обучение без учителя\n",
    "## <center>Практика. Кластеризация данных с акселерометров и гироскопов мобильных телефонов"
   ]
  },
  {
   "cell_type": "markdown",
   "metadata": {},
   "source": [
    "**Считываем <a href=\"https://archive.ics.uci.edu/ml/datasets/Human+Activity+Recognition+Using+Smartphones\">данные</a> Samsung Human Activity Recognition. Они же есть [тут](https://yadi.sk/d/ha-lprkDvozGx).**"
   ]
  },
  {
   "cell_type": "code",
   "execution_count": 1,
   "metadata": {
    "collapsed": false
   },
   "outputs": [
    {
     "name": "stdout",
     "output_type": "stream",
     "text": [
      "Populating the interactive namespace from numpy and matplotlib\n"
     ]
    }
   ],
   "source": [
    "from __future__ import division, print_function\n",
    "# отключим всякие предупреждения Anaconda\n",
    "import warnings\n",
    "warnings.filterwarnings('ignore')\n",
    "%pylab inline\n",
    "import matplotlib.pyplot as plt\n",
    "import numpy as np\n",
    "from sklearn.cluster import KMeans"
   ]
  },
  {
   "cell_type": "markdown",
   "metadata": {},
   "source": [
    "**Считаем данные, объединим обучающую и тестовую выборки. Метки целевого класса будем использовать для оценки качества кластеризации. Конечно, kMeans не будет ничего о них \"знать\".**"
   ]
  },
  {
   "cell_type": "code",
   "execution_count": 3,
   "metadata": {
    "collapsed": false
   },
   "outputs": [],
   "source": [
    "X_train = np.loadtxt(\"../../data/samsung_train.txt\") \n",
    "X_test = np.loadtxt(\"../../data/samsung_test.txt\") \n",
    "\n",
    "y_train = np.loadtxt(\"../../data/samsung_train_labels.txt\").astype(int)\n",
    "y_test = np.loadtxt(\"../../data/samsung_test_labels.txt\").astype(int)"
   ]
  },
  {
   "cell_type": "markdown",
   "metadata": {},
   "source": [
    "**Для кластеризации объединим выборки.**"
   ]
  },
  {
   "cell_type": "code",
   "execution_count": 4,
   "metadata": {
    "collapsed": false
   },
   "outputs": [],
   "source": [
    "X = np.vstack([X_train, X_test])\n",
    "y = np.hstack([y_train, y_test])"
   ]
  },
  {
   "cell_type": "markdown",
   "metadata": {},
   "source": [
    "**Опеределим число уникальных значений меток целевого класса. Эти метки соответствуют ходьбе (1), подъему вверх по лестнице (2), спуску по лестнице (3), сидению (4), стоянию (5) и лежанию (6). [Описание](https://archive.ics.uci.edu/ml/machine-learning-databases/00240/UCI%20HAR%20Dataset.names)**"
   ]
  },
  {
   "cell_type": "code",
   "execution_count": 5,
   "metadata": {
    "collapsed": false
   },
   "outputs": [
    {
     "data": {
      "text/plain": [
       "6"
      ]
     },
     "execution_count": 5,
     "metadata": {},
     "output_type": "execute_result"
    }
   ],
   "source": [
    "n_classes = len(np.unique(y))\n",
    "n_classes"
   ]
  },
  {
   "cell_type": "markdown",
   "metadata": {},
   "source": [
    "**Понижаем размерность с помощью PCA, оставляя столько компонент, сколько нужно для того, чтобы объяснить 90% дисперсии.**"
   ]
  },
  {
   "cell_type": "code",
   "execution_count": 6,
   "metadata": {
    "collapsed": false
   },
   "outputs": [
    {
     "data": {
      "text/plain": [
       "(10299, 65)"
      ]
     },
     "execution_count": 6,
     "metadata": {},
     "output_type": "execute_result"
    }
   ],
   "source": [
    "from sklearn.preprocessing import StandardScaler\n",
    "from sklearn.decomposition import PCA\n",
    "\n",
    "scaler = StandardScaler()\n",
    "X_scaled = scaler.fit_transform(X)\n",
    "X_pca = PCA(n_components=0.9).fit_transform(X_scaled)\n",
    "X_pca.shape"
   ]
  },
  {
   "cell_type": "markdown",
   "metadata": {},
   "source": [
    "**Визуализируем данные в проекции на первые две главные компоненты. Отчетливо выделяются 2 группы активностей. Можно догадаться, какие именно.**"
   ]
  },
  {
   "cell_type": "code",
   "execution_count": 7,
   "metadata": {
    "collapsed": false
   },
   "outputs": [
    {
     "data": {
      "image/png": "[encoded data removed]",
      "text/plain": [
       "<matplotlib.figure.Figure at 0x25d60e2dba8>"
      ]
     },
     "metadata": {},
     "output_type": "display_data"
    }
   ],
   "source": [
    "scatter(X_pca[:, 0], X_pca[:, 1], c=y, s=50, cmap='viridis');"
   ]
  },
  {
   "cell_type": "markdown",
   "metadata": {},
   "source": [
    "**Сделайте кластеризацию данных (выделенных 65 главных компонент) методом KMeans. Задайте параметр *n_clusters*, равный *n_classes* - найденному ранее числу уникальных меток целевого класса.**"
   ]
  },
  {
   "cell_type": "code",
   "execution_count": 10,
   "metadata": {
    "collapsed": false
   },
   "outputs": [
    {
     "name": "stdout",
     "output_type": "stream",
     "text": [
      "Wall time: 3.18 s\n"
     ]
    }
   ],
   "source": [
    "%%time\n",
    "kmeans = KMeans(n_clusters=n_classes)\n",
    "kmeans.fit(X_pca)\n",
    "cluster_labels = kmeans.labels_"
   ]
  },
  {
   "cell_type": "code",
   "execution_count": 11,
   "metadata": {
    "collapsed": false
   },
   "outputs": [
    {
     "data": {
      "text/plain": [
       "array([3, 3, 3, ..., 2, 2, 2])"
      ]
     },
     "execution_count": 11,
     "metadata": {},
     "output_type": "execute_result"
    }
   ],
   "source": []
  },
  {
   "cell_type": "markdown",
   "metadata": {},
   "source": [
    "**Визуализируйте данные в проекции на первые две главные компоненты. Раскрасьте точки в соответсвии с полученными метками кластеров.**"
   ]
  },
  {
   "cell_type": "code",
   "execution_count": 16,
   "metadata": {
    "collapsed": false
   },
   "outputs": [
    {
     "data": {
      "image/png": "[encoded data removed]",
      "text/plain": [
       "<matplotlib.figure.Figure at 0x25d624bb0b8>"
      ]
     },
     "metadata": {},
     "output_type": "display_data"
    }
   ],
   "source": [
    "scatter(X_pca[:, 0], X_pca[:, 1], c=cluster_labels, s=50, cmap='viridis');"
   ]
  },
  {
   "cell_type": "markdown",
   "metadata": {},
   "source": [
    "**Посмотрите на соответствие между метками кластеров и исходными метками классов. Посмотрите, какие виды активностей алгоритм KMeans путает.**"
   ]
  },
  {
   "cell_type": "code",
   "execution_count": 17,
   "metadata": {
    "collapsed": false
   },
   "outputs": [
    {
     "data": {
      "text/html": [
       "<div>\n",
       "<table border=\"1\" class=\"dataframe\">\n",
       "  <thead>\n",
       "    <tr style=\"text-align: right;\">\n",
       "      <th></th>\n",
       "      <th>cluster0</th>\n",
       "      <th>cluster1</th>\n",
       "      <th>cluster2</th>\n",
       "      <th>cluster3</th>\n",
       "      <th>cluster4</th>\n",
       "      <th>cluster5</th>\n",
       "      <th>all</th>\n",
       "    </tr>\n",
       "  </thead>\n",
       "  <tbody>\n",
       "    <tr>\n",
       "      <th>walk</th>\n",
       "      <td>85</td>\n",
       "      <td>0</td>\n",
       "      <td>897</td>\n",
       "      <td>0</td>\n",
       "      <td>740</td>\n",
       "      <td>0</td>\n",
       "      <td>1722</td>\n",
       "    </tr>\n",
       "    <tr>\n",
       "      <th>up</th>\n",
       "      <td>9</td>\n",
       "      <td>0</td>\n",
       "      <td>1238</td>\n",
       "      <td>0</td>\n",
       "      <td>295</td>\n",
       "      <td>2</td>\n",
       "      <td>1544</td>\n",
       "    </tr>\n",
       "    <tr>\n",
       "      <th>down</th>\n",
       "      <td>214</td>\n",
       "      <td>0</td>\n",
       "      <td>309</td>\n",
       "      <td>0</td>\n",
       "      <td>883</td>\n",
       "      <td>0</td>\n",
       "      <td>1406</td>\n",
       "    </tr>\n",
       "    <tr>\n",
       "      <th>sit</th>\n",
       "      <td>0</td>\n",
       "      <td>90</td>\n",
       "      <td>1</td>\n",
       "      <td>1235</td>\n",
       "      <td>0</td>\n",
       "      <td>451</td>\n",
       "      <td>1777</td>\n",
       "    </tr>\n",
       "    <tr>\n",
       "      <th>stand</th>\n",
       "      <td>0</td>\n",
       "      <td>0</td>\n",
       "      <td>0</td>\n",
       "      <td>1340</td>\n",
       "      <td>0</td>\n",
       "      <td>566</td>\n",
       "      <td>1906</td>\n",
       "    </tr>\n",
       "    <tr>\n",
       "      <th>lay</th>\n",
       "      <td>0</td>\n",
       "      <td>1556</td>\n",
       "      <td>5</td>\n",
       "      <td>53</td>\n",
       "      <td>0</td>\n",
       "      <td>330</td>\n",
       "      <td>1944</td>\n",
       "    </tr>\n",
       "    <tr>\n",
       "      <th>all</th>\n",
       "      <td>308</td>\n",
       "      <td>1646</td>\n",
       "      <td>2450</td>\n",
       "      <td>2628</td>\n",
       "      <td>1918</td>\n",
       "      <td>1349</td>\n",
       "      <td>10299</td>\n",
       "    </tr>\n",
       "  </tbody>\n",
       "</table>\n",
       "</div>"
      ],
      "text/plain": [
       "       cluster0  cluster1  cluster2  cluster3  cluster4  cluster5    all\n",
       "walk         85         0       897         0       740         0   1722\n",
       "up            9         0      1238         0       295         2   1544\n",
       "down        214         0       309         0       883         0   1406\n",
       "sit           0        90         1      1235         0       451   1777\n",
       "stand         0         0         0      1340         0       566   1906\n",
       "lay           0      1556         5        53         0       330   1944\n",
       "all         308      1646      2450      2628      1918      1349  10299"
      ]
     },
     "execution_count": 17,
     "metadata": {},
     "output_type": "execute_result"
    }
   ],
   "source": [
    "from pandas import crosstab\n",
    "tab = crosstab(y, cluster_labels, margins=True)\n",
    "tab.index = ['walk', 'up', 'down', 'sit', 'stand', 'lay', 'all']\n",
    "tab.columns = ['cluster' + str(i) for i in range(n_classes)] + ['all']\n",
    "tab"
   ]
  },
  {
   "cell_type": "markdown",
   "metadata": {},
   "source": [
    "**Посчитайте метрики качества кластеризации ARI, AMI, гомогенность, полноту и силуэт.**"
   ]
  },
  {
   "cell_type": "code",
   "execution_count": 19,
   "metadata": {
    "collapsed": false
   },
   "outputs": [
    {
     "name": "stdout",
     "output_type": "stream",
     "text": [
      "ARI: 0.420\n",
      "AMI: 0.541\n",
      "Homogeneity: 0.541\n",
      "Completeness: 0.579\n",
      "V-measure: 0.559\n",
      "Silhouette =: 0.141\n"
     ]
    }
   ],
   "source": [
    "from sklearn import metrics\n",
    "         \n",
    "print('ARI: %0.3f' % metrics.adjusted_rand_score(y, kmeans.labels_))\n",
    "print('AMI: %0.3f' % metrics.adjusted_mutual_info_score(y, kmeans.labels_))\n",
    "print('Homogeneity: %0.3f' % metrics.homogeneity_score(y, kmeans.labels_))\n",
    "print('Completeness: %0.3f' % metrics.completeness_score(y, kmeans.labels_))\n",
    "print('V-measure: %0.3f' % metrics.v_measure_score(y, kmeans.labels_))\n",
    "print('Silhouette =: %0.3f' % metrics.silhouette_score(X_pca, kmeans.labels_, sample_size=1000))"
   ]
  },
  {
   "cell_type": "markdown",
   "metadata": {},
   "source": [
    "**Видно, что kMeans хорошо отличает только группы активностей – 1 группа: walk, walk up, walk down, 2 группа: sit, stand, lay. Попробуйте искать не 6, а 2 кластера. Посмотрите теперь на качество кластеризации и прокомментируйте результат.**"
   ]
  },
  {
   "cell_type": "code",
   "execution_count": 22,
   "metadata": {
    "collapsed": true
   },
   "outputs": [],
   "source": [
    "y_walk = (y <= 3).astype('int')"
   ]
  },
  {
   "cell_type": "code",
   "execution_count": 23,
   "metadata": {
    "collapsed": false
   },
   "outputs": [
    {
     "name": "stdout",
     "output_type": "stream",
     "text": [
      "Wall time: 619 ms\n"
     ]
    }
   ],
   "source": [
    "%%time\n",
    "kmeans2 = KMeans(n_clusters=2)\n",
    "kmeans2.fit(X_pca)\n",
    "two_clusters_labels = kmeans2.labels_"
   ]
  },
  {
   "cell_type": "code",
   "execution_count": 24,
   "metadata": {
    "collapsed": false
   },
   "outputs": [
    {
     "data": {
      "text/html": [
       "<div>\n",
       "<table border=\"1\" class=\"dataframe\">\n",
       "  <thead>\n",
       "    <tr style=\"text-align: right;\">\n",
       "      <th></th>\n",
       "      <th>cluster1</th>\n",
       "      <th>cluster2</th>\n",
       "      <th>all</th>\n",
       "    </tr>\n",
       "  </thead>\n",
       "  <tbody>\n",
       "    <tr>\n",
       "      <th>walk/up/down</th>\n",
       "      <td>15</td>\n",
       "      <td>5612</td>\n",
       "      <td>5627</td>\n",
       "    </tr>\n",
       "    <tr>\n",
       "      <th>sit/stand/lay</th>\n",
       "      <td>4664</td>\n",
       "      <td>8</td>\n",
       "      <td>4672</td>\n",
       "    </tr>\n",
       "    <tr>\n",
       "      <th>all</th>\n",
       "      <td>4679</td>\n",
       "      <td>5620</td>\n",
       "      <td>10299</td>\n",
       "    </tr>\n",
       "  </tbody>\n",
       "</table>\n",
       "</div>"
      ],
      "text/plain": [
       "               cluster1  cluster2    all\n",
       "walk/up/down         15      5612   5627\n",
       "sit/stand/lay      4664         8   4672\n",
       "all                4679      5620  10299"
      ]
     },
     "execution_count": 24,
     "metadata": {},
     "output_type": "execute_result"
    }
   ],
   "source": [
    "tab2 = crosstab(y_walk, two_clusters_labels, margins=True)\n",
    "tab2.index = ['walk/up/down', 'sit/stand/lay', 'all']\n",
    "tab2.columns = ['cluster1', 'cluster2', 'all']\n",
    "tab2"
   ]
  },
  {
   "cell_type": "code",
   "execution_count": 25,
   "metadata": {
    "collapsed": false
   },
   "outputs": [
    {
     "name": "stdout",
     "output_type": "stream",
     "text": [
      "ARI: 0.991\n",
      "AMI: 0.977\n",
      "Homogeneity: 0.977\n",
      "Completeness: 0.977\n",
      "V-measure: 0.977\n",
      "Silhouette =: 0.435\n"
     ]
    }
   ],
   "source": [
    "print('ARI: %0.3f' % metrics.adjusted_rand_score(y_walk, two_clusters_labels))\n",
    "print('AMI: %0.3f' % metrics.adjusted_mutual_info_score(y_walk, two_clusters_labels))\n",
    "print('Homogeneity: %0.3f' % metrics.homogeneity_score(y_walk, two_clusters_labels))\n",
    "print('Completeness: %0.3f' % metrics.completeness_score(y_walk, two_clusters_labels))\n",
    "print('V-measure: %0.3f' % metrics.v_measure_score(y_walk, two_clusters_labels))\n",
    "print('Silhouette =: %0.3f' % metrics.silhouette_score(X_pca, two_clusters_labels, sample_size=1000))"
   ]
  },
  {
   "cell_type": "markdown",
   "metadata": {
    "collapsed": true
   },
   "source": [
    "### Многоклассовая классификация\n",
    "**Видим, что выделять 6 кластеров на этих данных хорошо не получается. Хорошо отделяются только ходьба (простая, вверх и вниз) от остальных активностей. Зато задача неплохо решается как задача классификации.**"
   ]
  },
  {
   "cell_type": "code",
   "execution_count": 26,
   "metadata": {
    "collapsed": true
   },
   "outputs": [],
   "source": [
    "import numpy as np\n",
    "from sklearn.model_selection import train_test_split\n",
    "from sklearn.ensemble import RandomForestClassifier"
   ]
  },
  {
   "cell_type": "markdown",
   "metadata": {},
   "source": [
    "**Отмасштабируйте выборку X_train, выделите в ней столько главных компонент, чтоб оставить 90% дисперссии, проведите соответсвующее преобразование с тестовой выборкой X_test**"
   ]
  },
  {
   "cell_type": "code",
   "execution_count": 39,
   "metadata": {
    "collapsed": false
   },
   "outputs": [
    {
     "name": "stdout",
     "output_type": "stream",
     "text": [
      "(7352, 63)\n",
      "(2947, 63)\n"
     ]
    }
   ],
   "source": [
    "from sklearn.preprocessing import StandardScaler\n",
    "from sklearn.decomposition import PCA\n",
    "\n",
    "scaler = StandardScaler()\n",
    "X_train_scaled = scaler.fit_transform(X_train)\n",
    "pca = PCA(n_components=0.9)\n",
    "X_train_pca = pca.fit_transform(X_train_scaled)\n",
    "print(X_train_pca.shape)\n",
    "\n",
    "X_test_scaled = scaler.transform(X_test)\n",
    "X_test_pca = pca.transform(X_test_scaled)\n",
    "print(X_test_pca.shape)"
   ]
  },
  {
   "cell_type": "markdown",
   "metadata": {},
   "source": [
    "**Будем обучать лес на исходных признаках и на главных компонентах.**"
   ]
  },
  {
   "cell_type": "code",
   "execution_count": 40,
   "metadata": {
    "collapsed": false
   },
   "outputs": [],
   "source": [
    "forest = RandomForestClassifier(n_estimators=100, \n",
    "                                random_state=7, n_jobs=-1,\n",
    "                                oob_score=True)\n",
    "forest_pca = RandomForestClassifier(n_estimators=100, \n",
    "                                random_state=7, n_jobs=-1,\n",
    "                                oob_score=True)"
   ]
  },
  {
   "cell_type": "markdown",
   "metadata": {},
   "source": [
    "**Обучите лес на главных компонентах, посмотрите OOB-оценку качества.**"
   ]
  },
  {
   "cell_type": "code",
   "execution_count": 42,
   "metadata": {
    "collapsed": false
   },
   "outputs": [
    {
     "data": {
      "text/plain": [
       "0.92736670293797607"
      ]
     },
     "execution_count": 42,
     "metadata": {},
     "output_type": "execute_result"
    }
   ],
   "source": [
    "forest_pca.fit(X_train_pca, y_train)\n",
    "forest_pca.oob_score_"
   ]
  },
  {
   "cell_type": "markdown",
   "metadata": {},
   "source": [
    "**Обучите лес на всех признаках, посмотрите OOB-оценку качества.**"
   ]
  },
  {
   "cell_type": "code",
   "execution_count": 43,
   "metadata": {
    "collapsed": false
   },
   "outputs": [
    {
     "data": {
      "text/plain": [
       "0.98245375408052227"
      ]
     },
     "execution_count": 43,
     "metadata": {},
     "output_type": "execute_result"
    }
   ],
   "source": [
    "forest.fit(X_train_scaled, y_train)\n",
    "forest.oob_score_"
   ]
  },
  {
   "cell_type": "markdown",
   "metadata": {},
   "source": [
    "**Сравните качество (долю правильных ответов и F1 с макро-усреднением) на тестовой выборке для леса, обученного на всех признаках, и для леса, обученного на главных компонентах. Посмотрите также на матрицы ошибок.**"
   ]
  },
  {
   "cell_type": "code",
   "execution_count": 44,
   "metadata": {
    "collapsed": true
   },
   "outputs": [],
   "source": [
    "from sklearn.metrics import accuracy_score, confusion_matrix, f1_score"
   ]
  },
  {
   "cell_type": "code",
   "execution_count": 45,
   "metadata": {
    "collapsed": false
   },
   "outputs": [
    {
     "name": "stdout",
     "output_type": "stream",
     "text": [
      "0.874787919919\n",
      "0.871158219546\n"
     ]
    }
   ],
   "source": [
    "forest_pca_pred = forest_pca.predict(X_test_pca)\n",
    "print(accuracy_score(y_test, forest_pca_pred))\n",
    "print(f1_score(y_test, forest_pca_pred, average='macro'))"
   ]
  },
  {
   "cell_type": "code",
   "execution_count": 46,
   "metadata": {
    "collapsed": false
   },
   "outputs": [
    {
     "data": {
      "text/plain": [
       "array([[474,   1,  21,   0,   0,   0],\n",
       "       [ 33, 425,  13,   0,   0,   0],\n",
       "       [ 62,  46, 312,   0,   0,   0],\n",
       "       [  0,   1,   0, 367, 121,   2],\n",
       "       [  0,   0,   0,  42, 490,   0],\n",
       "       [  0,   0,   0,  25,   2, 510]])"
      ]
     },
     "execution_count": 46,
     "metadata": {},
     "output_type": "execute_result"
    }
   ],
   "source": [
    "confusion_matrix(y_test, forest_pca_pred)"
   ]
  },
  {
   "cell_type": "code",
   "execution_count": 47,
   "metadata": {
    "collapsed": false
   },
   "outputs": [
    {
     "name": "stdout",
     "output_type": "stream",
     "text": [
      "0.299966067187\n",
      "0.202599368081\n"
     ]
    }
   ],
   "source": [
    "forest_pred = forest.predict(X_test)\n",
    "print(accuracy_score(y_test, forest_pred))\n",
    "print(f1_score(y_test, forest_pred, average='macro'))"
   ]
  },
  {
   "cell_type": "code",
   "execution_count": 48,
   "metadata": {
    "collapsed": false
   },
   "outputs": [
    {
     "data": {
      "text/plain": [
       "array([[160,   0,   0, 269,  67,   0],\n",
       "       [ 37,   1,   0, 286, 147,   0],\n",
       "       [249,   0,   0, 128,  43,   0],\n",
       "       [  0,   0,   0, 233, 258,   0],\n",
       "       [  0,   0,   0,  42, 490,   0],\n",
       "       [  0,   0,   0, 535,   2,   0]])"
      ]
     },
     "execution_count": 48,
     "metadata": {},
     "output_type": "execute_result"
    }
   ],
   "source": [
    "confusion_matrix(y_test, forest_pred)"
   ]
  },
  {
   "cell_type": "markdown",
   "metadata": {},
   "source": [
    "**Проверьте аналогично линейный SVM на всех признаках. Настройте параметр C с помощью GridSearchCV.**"
   ]
  },
  {
   "cell_type": "code",
   "execution_count": 49,
   "metadata": {
    "collapsed": true
   },
   "outputs": [],
   "source": [
    "from sklearn.svm import LinearSVC\n",
    "from sklearn.model_selection import GridSearchCV"
   ]
  },
  {
   "cell_type": "code",
   "execution_count": 50,
   "metadata": {
    "collapsed": true
   },
   "outputs": [],
   "source": [
    "svm = LinearSVC()\n",
    "svm_params = {'C': np.logspace(-2, 2, 10)}"
   ]
  },
  {
   "cell_type": "code",
   "execution_count": 52,
   "metadata": {
    "collapsed": false
   },
   "outputs": [],
   "source": [
    "best_svm = GridSearchCV(svm, svm_params, verbose=1, n_jobs=-1)"
   ]
  },
  {
   "cell_type": "code",
   "execution_count": 54,
   "metadata": {
    "collapsed": false
   },
   "outputs": [
    {
     "name": "stdout",
     "output_type": "stream",
     "text": [
      "Fitting 3 folds for each of 10 candidates, totalling 30 fits\n"
     ]
    },
    {
     "name": "stderr",
     "output_type": "stream",
     "text": [
      "[Parallel(n_jobs=-1)]: Done  30 out of  30 | elapsed:  2.7min finished\n"
     ]
    }
   ],
   "source": [
    "best_svm.fit(X_train_scaled, y_train)"
   ]
  },
  {
   "cell_type": "code",
   "execution_count": 56,
   "metadata": {
    "collapsed": true
   },
   "outputs": [],
   "source": [
    "svm_pred = best_svm.predict(X_test_scaled)"
   ]
  },
  {
   "cell_type": "code",
   "execution_count": 57,
   "metadata": {
    "collapsed": false
   },
   "outputs": [
    {
     "name": "stdout",
     "output_type": "stream",
     "text": [
      "0.962334577536\n",
      "0.963187796047\n"
     ]
    }
   ],
   "source": [
    "print(accuracy_score(y_test, svm_pred))\n",
    "print(f1_score(y_test, svm_pred, average='macro'))"
   ]
  },
  {
   "cell_type": "code",
   "execution_count": 58,
   "metadata": {
    "collapsed": false
   },
   "outputs": [
    {
     "data": {
      "text/plain": [
       "array([[493,   2,   0,   1,   0,   0],\n",
       "       [ 13, 457,   1,   0,   0,   0],\n",
       "       [  2,   4, 413,   1,   0,   0],\n",
       "       [  0,   4,   0, 431,  56,   0],\n",
       "       [  0,   0,   0,  16, 516,   0],\n",
       "       [  0,   0,   0,   0,  11, 526]])"
      ]
     },
     "execution_count": 58,
     "metadata": {},
     "output_type": "execute_result"
    }
   ],
   "source": [
    "confusion_matrix(y_test, svm_pred)"
   ]
  }
 ],
 "metadata": {
  "kernelspec": {
   "display_name": "Python 3",
   "language": "python",
   "name": "python3"
  },
  "language_info": {
   "codemirror_mode": {
    "name": "ipython",
    "version": 3
   },
   "file_extension": ".py",
   "mimetype": "text/x-python",
   "name": "python",
   "nbconvert_exporter": "python",
   "pygments_lexer": "ipython3",
   "version": "3.6.0"
  },
  "name": "2_1_7_regul.ipynb"
 },
 "nbformat": 4,
 "nbformat_minor": 0
}
