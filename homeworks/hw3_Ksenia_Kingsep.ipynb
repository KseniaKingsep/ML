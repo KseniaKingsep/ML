{
 "cells": [
  {
   "cell_type": "markdown",
   "metadata": {},
   "source": [
    "<center>\n",
    "<img src=\"../../img/ml_theme.png\">\n",
    "# Дополнительное профессиональное <br> образование НИУ ВШЭ\n",
    "#### Программа \"Практический анализ данных и машинное обучение\"\n",
    "<img src=\"../../img/faculty_logo.jpg\" height=\"240\" width=\"240\">\n",
    "## Автор материала: старший преподаватель Факультета Компьютерных Наук ВШЭ, программист-исследователь Mail.ru Group  Юрий Кашницкий\n",
    "</center>\n",
    "Материал распространяется на условиях лицензии <a href=\"https://opensource.org/licenses/MS-RL\">Ms-RL</a>. Можно использовать в любых целях, кроме коммерческих, но с обязательным упоминанием автора материала."
   ]
  },
  {
   "cell_type": "markdown",
   "metadata": {},
   "source": [
    "# <center>Домашнее задание №3. Построение дерева решений</center>"
   ]
  },
  {
   "cell_type": "markdown",
   "metadata": {},
   "source": [
    "**Цель задания - \"на пальцах\", с помощью игрушечных задач классификации разобраться в том, как работают деревья решений. Напомню, само по себе дерево решений - довольно слабый алгоритм, но основанные на нем алгоритмы случайного леса и градиентного бустинга - пожалуй, лучшее, что есть на сегодняшний день. Поэтому разобраться в том, как работет дерево решений, полезно.**"
   ]
  },
  {
   "cell_type": "markdown",
   "metadata": {},
   "source": [
    "**Рассмотрим 3 игрушечных задачи бинарной классификации (символ $\\tau$ вместо знака вопроса обозначает неизвестные метки целевого класса тестовых объектов):**\n",
    "<img src='../../img/toy_clf_task1.png'>\n",
    "<img src='../../img/toy_clf_task2.png'>\n",
    "<img src='../../img/toy_clf_task3.png'>"
   ]
  },
  {
   "cell_type": "code",
   "execution_count": 1,
   "metadata": {
    "collapsed": true
   },
   "outputs": [],
   "source": [
    "from __future__ import division, print_function\n",
    "# отключим всякие предупреждения Anaconda\n",
    "import warnings\n",
    "warnings.filterwarnings('ignore')\n",
    "import numpy as np\n",
    "import pandas as pd\n",
    "from sklearn.preprocessing import LabelEncoder\n",
    "import collections"
   ]
  },
  {
   "cell_type": "markdown",
   "metadata": {},
   "source": [
    "### Загрузка данных"
   ]
  },
  {
   "cell_type": "code",
   "execution_count": 2,
   "metadata": {
    "collapsed": true
   },
   "outputs": [],
   "source": [
    "# Создание датафрейма с dummy variables\n",
    "def create_df(dic, feature_list):\n",
    "    out = pd.DataFrame(dic)\n",
    "    out = pd.concat([out, pd.get_dummies(out[feature_list])], axis = 1)\n",
    "    out.drop(feature_list, axis = 1, inplace = True)\n",
    "    return out\n",
    "\n",
    "# Некоторые значения признаков есть в тесте, но нет в трейне и наоборот\n",
    "def intersect_features(train, test):\n",
    "    f = list( set(train.keys()) & set(test.keys()))\n",
    "    return train[f], test[f]"
   ]
  },
  {
   "cell_type": "markdown",
   "metadata": {},
   "source": [
    "### Игрушечный набор данных №1. \"Служба знакомств\""
   ]
  },
  {
   "cell_type": "code",
   "execution_count": 3,
   "metadata": {
    "collapsed": true
   },
   "outputs": [],
   "source": [
    "fn_1 = ['Возраст', 'Доход','Внешность','Образование'] # знакомства\n",
    "fn_2 = ['Цвет', 'Тип', 'Производство', 'Повреждения'] # угон\n",
    "fn_3 = ['Пол', 'Возраст', 'Образование', 'Зарпалата'] # кредит"
   ]
  },
  {
   "cell_type": "markdown",
   "metadata": {},
   "source": [
    "**Обучающая выборка**"
   ]
  },
  {
   "cell_type": "code",
   "execution_count": 4,
   "metadata": {
    "collapsed": false
   },
   "outputs": [
    {
     "data": {
      "text/html": [
       "<div>\n",
       "<table border=\"1\" class=\"dataframe\">\n",
       "  <thead>\n",
       "    <tr style=\"text-align: right;\">\n",
       "      <th></th>\n",
       "      <th>Составит пару</th>\n",
       "      <th>Возраст_молодой</th>\n",
       "      <th>Возраст_пожилой</th>\n",
       "      <th>Возраст_средний</th>\n",
       "      <th>Доход_высокий</th>\n",
       "      <th>Доход_низкий</th>\n",
       "      <th>Доход_средний</th>\n",
       "      <th>Внешность_отталкивающая</th>\n",
       "      <th>Внешность_приятная</th>\n",
       "      <th>Образование_высшее</th>\n",
       "      <th>Образование_специальное</th>\n",
       "      <th>Образование_среднее</th>\n",
       "    </tr>\n",
       "  </thead>\n",
       "  <tbody>\n",
       "    <tr>\n",
       "      <th>0</th>\n",
       "      <td>0</td>\n",
       "      <td>1</td>\n",
       "      <td>0</td>\n",
       "      <td>0</td>\n",
       "      <td>1</td>\n",
       "      <td>0</td>\n",
       "      <td>0</td>\n",
       "      <td>0</td>\n",
       "      <td>1</td>\n",
       "      <td>0</td>\n",
       "      <td>1</td>\n",
       "      <td>0</td>\n",
       "    </tr>\n",
       "    <tr>\n",
       "      <th>1</th>\n",
       "      <td>0</td>\n",
       "      <td>0</td>\n",
       "      <td>0</td>\n",
       "      <td>1</td>\n",
       "      <td>1</td>\n",
       "      <td>0</td>\n",
       "      <td>0</td>\n",
       "      <td>0</td>\n",
       "      <td>1</td>\n",
       "      <td>1</td>\n",
       "      <td>0</td>\n",
       "      <td>0</td>\n",
       "    </tr>\n",
       "    <tr>\n",
       "      <th>2</th>\n",
       "      <td>0</td>\n",
       "      <td>0</td>\n",
       "      <td>1</td>\n",
       "      <td>0</td>\n",
       "      <td>1</td>\n",
       "      <td>0</td>\n",
       "      <td>0</td>\n",
       "      <td>0</td>\n",
       "      <td>1</td>\n",
       "      <td>1</td>\n",
       "      <td>0</td>\n",
       "      <td>0</td>\n",
       "    </tr>\n",
       "    <tr>\n",
       "      <th>3</th>\n",
       "      <td>0</td>\n",
       "      <td>0</td>\n",
       "      <td>0</td>\n",
       "      <td>1</td>\n",
       "      <td>0</td>\n",
       "      <td>0</td>\n",
       "      <td>1</td>\n",
       "      <td>0</td>\n",
       "      <td>1</td>\n",
       "      <td>1</td>\n",
       "      <td>0</td>\n",
       "      <td>0</td>\n",
       "    </tr>\n",
       "    <tr>\n",
       "      <th>4</th>\n",
       "      <td>1</td>\n",
       "      <td>1</td>\n",
       "      <td>0</td>\n",
       "      <td>0</td>\n",
       "      <td>0</td>\n",
       "      <td>1</td>\n",
       "      <td>0</td>\n",
       "      <td>0</td>\n",
       "      <td>1</td>\n",
       "      <td>0</td>\n",
       "      <td>1</td>\n",
       "      <td>0</td>\n",
       "    </tr>\n",
       "    <tr>\n",
       "      <th>5</th>\n",
       "      <td>1</td>\n",
       "      <td>0</td>\n",
       "      <td>0</td>\n",
       "      <td>1</td>\n",
       "      <td>1</td>\n",
       "      <td>0</td>\n",
       "      <td>0</td>\n",
       "      <td>1</td>\n",
       "      <td>0</td>\n",
       "      <td>1</td>\n",
       "      <td>0</td>\n",
       "      <td>0</td>\n",
       "    </tr>\n",
       "    <tr>\n",
       "      <th>6</th>\n",
       "      <td>1</td>\n",
       "      <td>0</td>\n",
       "      <td>1</td>\n",
       "      <td>0</td>\n",
       "      <td>0</td>\n",
       "      <td>0</td>\n",
       "      <td>1</td>\n",
       "      <td>0</td>\n",
       "      <td>1</td>\n",
       "      <td>0</td>\n",
       "      <td>0</td>\n",
       "      <td>1</td>\n",
       "    </tr>\n",
       "  </tbody>\n",
       "</table>\n",
       "</div>"
      ],
      "text/plain": [
       "   Составит пару  Возраст_молодой  Возраст_пожилой  Возраст_средний  \\\n",
       "0              0                1                0                0   \n",
       "1              0                0                0                1   \n",
       "2              0                0                1                0   \n",
       "3              0                0                0                1   \n",
       "4              1                1                0                0   \n",
       "5              1                0                0                1   \n",
       "6              1                0                1                0   \n",
       "\n",
       "   Доход_высокий  Доход_низкий  Доход_средний  Внешность_отталкивающая  \\\n",
       "0              1             0              0                        0   \n",
       "1              1             0              0                        0   \n",
       "2              1             0              0                        0   \n",
       "3              0             0              1                        0   \n",
       "4              0             1              0                        0   \n",
       "5              1             0              0                        1   \n",
       "6              0             0              1                        0   \n",
       "\n",
       "   Внешность_приятная  Образование_высшее  Образование_специальное  \\\n",
       "0                   1                   0                        1   \n",
       "1                   1                   1                        0   \n",
       "2                   1                   1                        0   \n",
       "3                   1                   1                        0   \n",
       "4                   1                   0                        1   \n",
       "5                   0                   1                        0   \n",
       "6                   1                   0                        0   \n",
       "\n",
       "   Образование_среднее  \n",
       "0                    0  \n",
       "1                    0  \n",
       "2                    0  \n",
       "3                    0  \n",
       "4                    0  \n",
       "5                    0  \n",
       "6                    1  "
      ]
     },
     "execution_count": 4,
     "metadata": {},
     "output_type": "execute_result"
    }
   ],
   "source": [
    "df1_train = {}\n",
    "df1_train['Возраст'] = ['молодой','средний','пожилой','средний','молодой','средний','пожилой'] \n",
    "df1_train['Доход'] = ['высокий','высокий','высокий','средний','низкий','высокий','средний']\n",
    "df1_train['Внешность'] = ['приятная','приятная','приятная','приятная','приятная','отталкивающая','приятная']\n",
    "df1_train['Образование'] = ['специальное','высшее','высшее','высшее','специальное','высшее','среднее']\n",
    "df1_train['Составит пару'] = LabelEncoder().fit_transform(['+','+','+','+','-','-','-'])\n",
    "\n",
    "df1_train = create_df(df1_train, fn_1)\n",
    "df1_train"
   ]
  },
  {
   "cell_type": "markdown",
   "metadata": {},
   "source": [
    "**Тестовая выборка**"
   ]
  },
  {
   "cell_type": "code",
   "execution_count": 5,
   "metadata": {
    "collapsed": false
   },
   "outputs": [
    {
     "data": {
      "text/html": [
       "<div>\n",
       "<table border=\"1\" class=\"dataframe\">\n",
       "  <thead>\n",
       "    <tr style=\"text-align: right;\">\n",
       "      <th></th>\n",
       "      <th>Возраст_молодой</th>\n",
       "      <th>Возраст_пожилой</th>\n",
       "      <th>Возраст_средний</th>\n",
       "      <th>Доход_высокий</th>\n",
       "      <th>Доход_низкий</th>\n",
       "      <th>Доход_средний</th>\n",
       "      <th>Внешность_отталкивающая</th>\n",
       "      <th>Внешность_приятная</th>\n",
       "      <th>Образование_высшее</th>\n",
       "      <th>Образование_специальное</th>\n",
       "    </tr>\n",
       "  </thead>\n",
       "  <tbody>\n",
       "    <tr>\n",
       "      <th>0</th>\n",
       "      <td>1</td>\n",
       "      <td>0</td>\n",
       "      <td>0</td>\n",
       "      <td>0</td>\n",
       "      <td>0</td>\n",
       "      <td>1</td>\n",
       "      <td>0</td>\n",
       "      <td>1</td>\n",
       "      <td>1</td>\n",
       "      <td>0</td>\n",
       "    </tr>\n",
       "    <tr>\n",
       "      <th>1</th>\n",
       "      <td>0</td>\n",
       "      <td>0</td>\n",
       "      <td>1</td>\n",
       "      <td>1</td>\n",
       "      <td>0</td>\n",
       "      <td>0</td>\n",
       "      <td>1</td>\n",
       "      <td>0</td>\n",
       "      <td>0</td>\n",
       "      <td>1</td>\n",
       "    </tr>\n",
       "    <tr>\n",
       "      <th>2</th>\n",
       "      <td>0</td>\n",
       "      <td>1</td>\n",
       "      <td>0</td>\n",
       "      <td>0</td>\n",
       "      <td>1</td>\n",
       "      <td>0</td>\n",
       "      <td>0</td>\n",
       "      <td>1</td>\n",
       "      <td>1</td>\n",
       "      <td>0</td>\n",
       "    </tr>\n",
       "  </tbody>\n",
       "</table>\n",
       "</div>"
      ],
      "text/plain": [
       "   Возраст_молодой  Возраст_пожилой  Возраст_средний  Доход_высокий  \\\n",
       "0                1                0                0              0   \n",
       "1                0                0                1              1   \n",
       "2                0                1                0              0   \n",
       "\n",
       "   Доход_низкий  Доход_средний  Внешность_отталкивающая  Внешность_приятная  \\\n",
       "0             0              1                        0                   1   \n",
       "1             0              0                        1                   0   \n",
       "2             1              0                        0                   1   \n",
       "\n",
       "   Образование_высшее  Образование_специальное  \n",
       "0                   1                        0  \n",
       "1                   0                        1  \n",
       "2                   1                        0  "
      ]
     },
     "execution_count": 5,
     "metadata": {},
     "output_type": "execute_result"
    }
   ],
   "source": [
    "df1_test = {}\n",
    "df1_test['Возраст'] = ['молодой','средний','пожилой'] \n",
    "df1_test['Доход'] = ['средний','высокий','низкий']\n",
    "df1_test['Внешность'] = ['приятная','отталкивающая','приятная']\n",
    "df1_test['Образование'] = ['высшее','специальное','высшее']\n",
    "df1_test = create_df(df1_test, fn_1)\n",
    "df1_test"
   ]
  },
  {
   "cell_type": "code",
   "execution_count": 6,
   "metadata": {
    "collapsed": false
   },
   "outputs": [
    {
     "data": {
      "text/html": [
       "<div>\n",
       "<table border=\"1\" class=\"dataframe\">\n",
       "  <thead>\n",
       "    <tr style=\"text-align: right;\">\n",
       "      <th></th>\n",
       "      <th>Доход_низкий</th>\n",
       "      <th>Образование_специальное</th>\n",
       "      <th>Внешность_отталкивающая</th>\n",
       "      <th>Возраст_пожилой</th>\n",
       "      <th>Доход_высокий</th>\n",
       "      <th>Доход_средний</th>\n",
       "      <th>Образование_высшее</th>\n",
       "      <th>Возраст_молодой</th>\n",
       "      <th>Внешность_приятная</th>\n",
       "      <th>Возраст_средний</th>\n",
       "    </tr>\n",
       "  </thead>\n",
       "  <tbody>\n",
       "    <tr>\n",
       "      <th>0</th>\n",
       "      <td>0</td>\n",
       "      <td>1</td>\n",
       "      <td>0</td>\n",
       "      <td>0</td>\n",
       "      <td>1</td>\n",
       "      <td>0</td>\n",
       "      <td>0</td>\n",
       "      <td>1</td>\n",
       "      <td>1</td>\n",
       "      <td>0</td>\n",
       "    </tr>\n",
       "    <tr>\n",
       "      <th>1</th>\n",
       "      <td>0</td>\n",
       "      <td>0</td>\n",
       "      <td>0</td>\n",
       "      <td>0</td>\n",
       "      <td>1</td>\n",
       "      <td>0</td>\n",
       "      <td>1</td>\n",
       "      <td>0</td>\n",
       "      <td>1</td>\n",
       "      <td>1</td>\n",
       "    </tr>\n",
       "    <tr>\n",
       "      <th>2</th>\n",
       "      <td>0</td>\n",
       "      <td>0</td>\n",
       "      <td>0</td>\n",
       "      <td>1</td>\n",
       "      <td>1</td>\n",
       "      <td>0</td>\n",
       "      <td>1</td>\n",
       "      <td>0</td>\n",
       "      <td>1</td>\n",
       "      <td>0</td>\n",
       "    </tr>\n",
       "    <tr>\n",
       "      <th>3</th>\n",
       "      <td>0</td>\n",
       "      <td>0</td>\n",
       "      <td>0</td>\n",
       "      <td>0</td>\n",
       "      <td>0</td>\n",
       "      <td>1</td>\n",
       "      <td>1</td>\n",
       "      <td>0</td>\n",
       "      <td>1</td>\n",
       "      <td>1</td>\n",
       "    </tr>\n",
       "    <tr>\n",
       "      <th>4</th>\n",
       "      <td>1</td>\n",
       "      <td>1</td>\n",
       "      <td>0</td>\n",
       "      <td>0</td>\n",
       "      <td>0</td>\n",
       "      <td>0</td>\n",
       "      <td>0</td>\n",
       "      <td>1</td>\n",
       "      <td>1</td>\n",
       "      <td>0</td>\n",
       "    </tr>\n",
       "    <tr>\n",
       "      <th>5</th>\n",
       "      <td>0</td>\n",
       "      <td>0</td>\n",
       "      <td>1</td>\n",
       "      <td>0</td>\n",
       "      <td>1</td>\n",
       "      <td>0</td>\n",
       "      <td>1</td>\n",
       "      <td>0</td>\n",
       "      <td>0</td>\n",
       "      <td>1</td>\n",
       "    </tr>\n",
       "    <tr>\n",
       "      <th>6</th>\n",
       "      <td>0</td>\n",
       "      <td>0</td>\n",
       "      <td>0</td>\n",
       "      <td>1</td>\n",
       "      <td>0</td>\n",
       "      <td>1</td>\n",
       "      <td>0</td>\n",
       "      <td>0</td>\n",
       "      <td>1</td>\n",
       "      <td>0</td>\n",
       "    </tr>\n",
       "  </tbody>\n",
       "</table>\n",
       "</div>"
      ],
      "text/plain": [
       "   Доход_низкий  Образование_специальное  Внешность_отталкивающая  \\\n",
       "0             0                        1                        0   \n",
       "1             0                        0                        0   \n",
       "2             0                        0                        0   \n",
       "3             0                        0                        0   \n",
       "4             1                        1                        0   \n",
       "5             0                        0                        1   \n",
       "6             0                        0                        0   \n",
       "\n",
       "   Возраст_пожилой  Доход_высокий  Доход_средний  Образование_высшее  \\\n",
       "0                0              1              0                   0   \n",
       "1                0              1              0                   1   \n",
       "2                1              1              0                   1   \n",
       "3                0              0              1                   1   \n",
       "4                0              0              0                   0   \n",
       "5                0              1              0                   1   \n",
       "6                1              0              1                   0   \n",
       "\n",
       "   Возраст_молодой  Внешность_приятная  Возраст_средний  \n",
       "0                1                   1                0  \n",
       "1                0                   1                1  \n",
       "2                0                   1                0  \n",
       "3                0                   1                1  \n",
       "4                1                   1                0  \n",
       "5                0                   0                1  \n",
       "6                0                   1                0  "
      ]
     },
     "execution_count": 6,
     "metadata": {},
     "output_type": "execute_result"
    }
   ],
   "source": [
    "# Некоторые значения признаков есть в тесте, но нет в трейне и наоборот\n",
    "y_1 = df1_train['Составит пару']\n",
    "df1_train, df1_test = intersect_features(train = df1_train, test = df1_test)\n",
    "df1_train"
   ]
  },
  {
   "cell_type": "code",
   "execution_count": 7,
   "metadata": {
    "collapsed": false
   },
   "outputs": [
    {
     "data": {
      "text/html": [
       "<div>\n",
       "<table border=\"1\" class=\"dataframe\">\n",
       "  <thead>\n",
       "    <tr style=\"text-align: right;\">\n",
       "      <th></th>\n",
       "      <th>Доход_низкий</th>\n",
       "      <th>Образование_специальное</th>\n",
       "      <th>Внешность_отталкивающая</th>\n",
       "      <th>Возраст_пожилой</th>\n",
       "      <th>Доход_высокий</th>\n",
       "      <th>Доход_средний</th>\n",
       "      <th>Образование_высшее</th>\n",
       "      <th>Возраст_молодой</th>\n",
       "      <th>Внешность_приятная</th>\n",
       "      <th>Возраст_средний</th>\n",
       "    </tr>\n",
       "  </thead>\n",
       "  <tbody>\n",
       "    <tr>\n",
       "      <th>0</th>\n",
       "      <td>0</td>\n",
       "      <td>0</td>\n",
       "      <td>0</td>\n",
       "      <td>0</td>\n",
       "      <td>0</td>\n",
       "      <td>1</td>\n",
       "      <td>1</td>\n",
       "      <td>1</td>\n",
       "      <td>1</td>\n",
       "      <td>0</td>\n",
       "    </tr>\n",
       "    <tr>\n",
       "      <th>1</th>\n",
       "      <td>0</td>\n",
       "      <td>1</td>\n",
       "      <td>1</td>\n",
       "      <td>0</td>\n",
       "      <td>1</td>\n",
       "      <td>0</td>\n",
       "      <td>0</td>\n",
       "      <td>0</td>\n",
       "      <td>0</td>\n",
       "      <td>1</td>\n",
       "    </tr>\n",
       "    <tr>\n",
       "      <th>2</th>\n",
       "      <td>1</td>\n",
       "      <td>0</td>\n",
       "      <td>0</td>\n",
       "      <td>1</td>\n",
       "      <td>0</td>\n",
       "      <td>0</td>\n",
       "      <td>1</td>\n",
       "      <td>0</td>\n",
       "      <td>1</td>\n",
       "      <td>0</td>\n",
       "    </tr>\n",
       "  </tbody>\n",
       "</table>\n",
       "</div>"
      ],
      "text/plain": [
       "   Доход_низкий  Образование_специальное  Внешность_отталкивающая  \\\n",
       "0             0                        0                        0   \n",
       "1             0                        1                        1   \n",
       "2             1                        0                        0   \n",
       "\n",
       "   Возраст_пожилой  Доход_высокий  Доход_средний  Образование_высшее  \\\n",
       "0                0              0              1                   1   \n",
       "1                0              1              0                   0   \n",
       "2                1              0              0                   1   \n",
       "\n",
       "   Возраст_молодой  Внешность_приятная  Возраст_средний  \n",
       "0                1                   1                0  \n",
       "1                0                   0                1  \n",
       "2                0                   1                0  "
      ]
     },
     "execution_count": 7,
     "metadata": {},
     "output_type": "execute_result"
    }
   ],
   "source": [
    "df1_test"
   ]
  },
  {
   "cell_type": "markdown",
   "metadata": {},
   "source": [
    "### Игрушечный набор данных №2. \"Автоугон\""
   ]
  },
  {
   "cell_type": "code",
   "execution_count": 8,
   "metadata": {
    "collapsed": false,
    "scrolled": true
   },
   "outputs": [
    {
     "data": {
      "text/html": [
       "<div>\n",
       "<table border=\"1\" class=\"dataframe\">\n",
       "  <thead>\n",
       "    <tr style=\"text-align: right;\">\n",
       "      <th></th>\n",
       "      <th>Угоняют</th>\n",
       "      <th>Цвет_Желтый</th>\n",
       "      <th>Цвет_Красный</th>\n",
       "      <th>Тип_Джип</th>\n",
       "      <th>Тип_Спортивный</th>\n",
       "      <th>Производство_США</th>\n",
       "      <th>Производство_Япония</th>\n",
       "      <th>Повреждения_есть</th>\n",
       "      <th>Повреждения_нет</th>\n",
       "    </tr>\n",
       "  </thead>\n",
       "  <tbody>\n",
       "    <tr>\n",
       "      <th>0</th>\n",
       "      <td>0</td>\n",
       "      <td>0</td>\n",
       "      <td>1</td>\n",
       "      <td>0</td>\n",
       "      <td>1</td>\n",
       "      <td>1</td>\n",
       "      <td>0</td>\n",
       "      <td>0</td>\n",
       "      <td>1</td>\n",
       "    </tr>\n",
       "    <tr>\n",
       "      <th>1</th>\n",
       "      <td>0</td>\n",
       "      <td>1</td>\n",
       "      <td>0</td>\n",
       "      <td>0</td>\n",
       "      <td>1</td>\n",
       "      <td>0</td>\n",
       "      <td>1</td>\n",
       "      <td>0</td>\n",
       "      <td>1</td>\n",
       "    </tr>\n",
       "    <tr>\n",
       "      <th>2</th>\n",
       "      <td>0</td>\n",
       "      <td>1</td>\n",
       "      <td>0</td>\n",
       "      <td>1</td>\n",
       "      <td>0</td>\n",
       "      <td>0</td>\n",
       "      <td>1</td>\n",
       "      <td>0</td>\n",
       "      <td>1</td>\n",
       "    </tr>\n",
       "    <tr>\n",
       "      <th>3</th>\n",
       "      <td>0</td>\n",
       "      <td>0</td>\n",
       "      <td>1</td>\n",
       "      <td>0</td>\n",
       "      <td>1</td>\n",
       "      <td>0</td>\n",
       "      <td>1</td>\n",
       "      <td>1</td>\n",
       "      <td>0</td>\n",
       "    </tr>\n",
       "    <tr>\n",
       "      <th>4</th>\n",
       "      <td>1</td>\n",
       "      <td>1</td>\n",
       "      <td>0</td>\n",
       "      <td>0</td>\n",
       "      <td>1</td>\n",
       "      <td>1</td>\n",
       "      <td>0</td>\n",
       "      <td>1</td>\n",
       "      <td>0</td>\n",
       "    </tr>\n",
       "    <tr>\n",
       "      <th>5</th>\n",
       "      <td>1</td>\n",
       "      <td>1</td>\n",
       "      <td>0</td>\n",
       "      <td>1</td>\n",
       "      <td>0</td>\n",
       "      <td>1</td>\n",
       "      <td>0</td>\n",
       "      <td>0</td>\n",
       "      <td>1</td>\n",
       "    </tr>\n",
       "    <tr>\n",
       "      <th>6</th>\n",
       "      <td>1</td>\n",
       "      <td>0</td>\n",
       "      <td>1</td>\n",
       "      <td>1</td>\n",
       "      <td>0</td>\n",
       "      <td>0</td>\n",
       "      <td>1</td>\n",
       "      <td>1</td>\n",
       "      <td>0</td>\n",
       "    </tr>\n",
       "  </tbody>\n",
       "</table>\n",
       "</div>"
      ],
      "text/plain": [
       "   Угоняют  Цвет_Желтый  Цвет_Красный  Тип_Джип  Тип_Спортивный  \\\n",
       "0        0            0             1         0               1   \n",
       "1        0            1             0         0               1   \n",
       "2        0            1             0         1               0   \n",
       "3        0            0             1         0               1   \n",
       "4        1            1             0         0               1   \n",
       "5        1            1             0         1               0   \n",
       "6        1            0             1         1               0   \n",
       "\n",
       "   Производство_США  Производство_Япония  Повреждения_есть  Повреждения_нет  \n",
       "0                 1                    0                 0                1  \n",
       "1                 0                    1                 0                1  \n",
       "2                 0                    1                 0                1  \n",
       "3                 0                    1                 1                0  \n",
       "4                 1                    0                 1                0  \n",
       "5                 1                    0                 0                1  \n",
       "6                 0                    1                 1                0  "
      ]
     },
     "execution_count": 8,
     "metadata": {},
     "output_type": "execute_result"
    }
   ],
   "source": [
    "# обучение\n",
    "\n",
    "df2_train = {}\n",
    "df2_train['Цвет'] = ['Красный','Желтый','Желтый','Красный','Желтый','Желтый','Красный'] \n",
    "df2_train['Тип'] = ['Спортивный','Спортивный','Джип','Спортивный','Спортивный','Джип','Джип']\n",
    "df2_train['Производство'] = ['США','Япония','Япония','Япония','США','США','Япония']\n",
    "df2_train['Повреждения'] = ['нет','нет','нет','есть','есть','нет','есть']\n",
    "df2_train['Угоняют'] = LabelEncoder().fit_transform(['+','+','+','+','-','-','-'])\n",
    "\n",
    "df2_train = create_df(df2_train, fn_2)\n",
    "df2_train"
   ]
  },
  {
   "cell_type": "code",
   "execution_count": 9,
   "metadata": {
    "collapsed": false
   },
   "outputs": [
    {
     "data": {
      "text/html": [
       "<div>\n",
       "<table border=\"1\" class=\"dataframe\">\n",
       "  <thead>\n",
       "    <tr style=\"text-align: right;\">\n",
       "      <th></th>\n",
       "      <th>Цвет_Зеленый</th>\n",
       "      <th>Цвет_Красный</th>\n",
       "      <th>Цвет_Черный</th>\n",
       "      <th>Тип_Джип</th>\n",
       "      <th>Тип_Спортивный</th>\n",
       "      <th>Производство_Германия</th>\n",
       "      <th>Производство_США</th>\n",
       "      <th>Производство_Япония</th>\n",
       "      <th>Повреждения_нет</th>\n",
       "    </tr>\n",
       "  </thead>\n",
       "  <tbody>\n",
       "    <tr>\n",
       "      <th>0</th>\n",
       "      <td>1</td>\n",
       "      <td>0</td>\n",
       "      <td>0</td>\n",
       "      <td>0</td>\n",
       "      <td>1</td>\n",
       "      <td>0</td>\n",
       "      <td>1</td>\n",
       "      <td>0</td>\n",
       "      <td>1</td>\n",
       "    </tr>\n",
       "    <tr>\n",
       "      <th>1</th>\n",
       "      <td>0</td>\n",
       "      <td>1</td>\n",
       "      <td>0</td>\n",
       "      <td>0</td>\n",
       "      <td>1</td>\n",
       "      <td>1</td>\n",
       "      <td>0</td>\n",
       "      <td>0</td>\n",
       "      <td>1</td>\n",
       "    </tr>\n",
       "    <tr>\n",
       "      <th>2</th>\n",
       "      <td>0</td>\n",
       "      <td>0</td>\n",
       "      <td>1</td>\n",
       "      <td>1</td>\n",
       "      <td>0</td>\n",
       "      <td>0</td>\n",
       "      <td>0</td>\n",
       "      <td>1</td>\n",
       "      <td>1</td>\n",
       "    </tr>\n",
       "  </tbody>\n",
       "</table>\n",
       "</div>"
      ],
      "text/plain": [
       "   Цвет_Зеленый  Цвет_Красный  Цвет_Черный  Тип_Джип  Тип_Спортивный  \\\n",
       "0             1             0            0         0               1   \n",
       "1             0             1            0         0               1   \n",
       "2             0             0            1         1               0   \n",
       "\n",
       "   Производство_Германия  Производство_США  Производство_Япония  \\\n",
       "0                      0                 1                    0   \n",
       "1                      1                 0                    0   \n",
       "2                      0                 0                    1   \n",
       "\n",
       "   Повреждения_нет  \n",
       "0                1  \n",
       "1                1  \n",
       "2                1  "
      ]
     },
     "execution_count": 9,
     "metadata": {},
     "output_type": "execute_result"
    }
   ],
   "source": [
    "# тест\n",
    "df2_test = {}\n",
    "df2_test['Цвет'] = ['Зеленый','Красный','Черный'] \n",
    "df2_test['Тип'] = ['Спортивный','Спортивный','Джип']\n",
    "df2_test['Производство'] = ['США','Германия','Япония']\n",
    "df2_test['Повреждения'] = ['нет','нет','нет']\n",
    "\n",
    "df2_test = create_df(df2_test, fn_2)\n",
    "df2_test"
   ]
  },
  {
   "cell_type": "code",
   "execution_count": 10,
   "metadata": {
    "collapsed": false,
    "scrolled": true
   },
   "outputs": [
    {
     "data": {
      "text/html": [
       "<div>\n",
       "<table border=\"1\" class=\"dataframe\">\n",
       "  <thead>\n",
       "    <tr style=\"text-align: right;\">\n",
       "      <th></th>\n",
       "      <th>Тип_Джип</th>\n",
       "      <th>Тип_Спортивный</th>\n",
       "      <th>Производство_США</th>\n",
       "      <th>Производство_Япония</th>\n",
       "      <th>Повреждения_нет</th>\n",
       "      <th>Цвет_Красный</th>\n",
       "    </tr>\n",
       "  </thead>\n",
       "  <tbody>\n",
       "    <tr>\n",
       "      <th>0</th>\n",
       "      <td>0</td>\n",
       "      <td>1</td>\n",
       "      <td>1</td>\n",
       "      <td>0</td>\n",
       "      <td>1</td>\n",
       "      <td>1</td>\n",
       "    </tr>\n",
       "    <tr>\n",
       "      <th>1</th>\n",
       "      <td>0</td>\n",
       "      <td>1</td>\n",
       "      <td>0</td>\n",
       "      <td>1</td>\n",
       "      <td>1</td>\n",
       "      <td>0</td>\n",
       "    </tr>\n",
       "    <tr>\n",
       "      <th>2</th>\n",
       "      <td>1</td>\n",
       "      <td>0</td>\n",
       "      <td>0</td>\n",
       "      <td>1</td>\n",
       "      <td>1</td>\n",
       "      <td>0</td>\n",
       "    </tr>\n",
       "    <tr>\n",
       "      <th>3</th>\n",
       "      <td>0</td>\n",
       "      <td>1</td>\n",
       "      <td>0</td>\n",
       "      <td>1</td>\n",
       "      <td>0</td>\n",
       "      <td>1</td>\n",
       "    </tr>\n",
       "    <tr>\n",
       "      <th>4</th>\n",
       "      <td>0</td>\n",
       "      <td>1</td>\n",
       "      <td>1</td>\n",
       "      <td>0</td>\n",
       "      <td>0</td>\n",
       "      <td>0</td>\n",
       "    </tr>\n",
       "    <tr>\n",
       "      <th>5</th>\n",
       "      <td>1</td>\n",
       "      <td>0</td>\n",
       "      <td>1</td>\n",
       "      <td>0</td>\n",
       "      <td>1</td>\n",
       "      <td>0</td>\n",
       "    </tr>\n",
       "    <tr>\n",
       "      <th>6</th>\n",
       "      <td>1</td>\n",
       "      <td>0</td>\n",
       "      <td>0</td>\n",
       "      <td>1</td>\n",
       "      <td>0</td>\n",
       "      <td>1</td>\n",
       "    </tr>\n",
       "  </tbody>\n",
       "</table>\n",
       "</div>"
      ],
      "text/plain": [
       "   Тип_Джип  Тип_Спортивный  Производство_США  Производство_Япония  \\\n",
       "0         0               1                 1                    0   \n",
       "1         0               1                 0                    1   \n",
       "2         1               0                 0                    1   \n",
       "3         0               1                 0                    1   \n",
       "4         0               1                 1                    0   \n",
       "5         1               0                 1                    0   \n",
       "6         1               0                 0                    1   \n",
       "\n",
       "   Повреждения_нет  Цвет_Красный  \n",
       "0                1             1  \n",
       "1                1             0  \n",
       "2                1             0  \n",
       "3                0             1  \n",
       "4                0             0  \n",
       "5                1             0  \n",
       "6                0             1  "
      ]
     },
     "execution_count": 10,
     "metadata": {},
     "output_type": "execute_result"
    }
   ],
   "source": [
    "# Некоторые значения признаков есть в тесте, но нет в трейне и наоборот\n",
    "y_2 = df2_train['Угоняют']\n",
    "df2_train, df2_test = intersect_features(train = df2_train, test = df2_test)\n",
    "df2_train"
   ]
  },
  {
   "cell_type": "code",
   "execution_count": 11,
   "metadata": {
    "collapsed": false
   },
   "outputs": [
    {
     "data": {
      "text/html": [
       "<div>\n",
       "<table border=\"1\" class=\"dataframe\">\n",
       "  <thead>\n",
       "    <tr style=\"text-align: right;\">\n",
       "      <th></th>\n",
       "      <th>Тип_Джип</th>\n",
       "      <th>Тип_Спортивный</th>\n",
       "      <th>Производство_США</th>\n",
       "      <th>Производство_Япония</th>\n",
       "      <th>Повреждения_нет</th>\n",
       "      <th>Цвет_Красный</th>\n",
       "    </tr>\n",
       "  </thead>\n",
       "  <tbody>\n",
       "    <tr>\n",
       "      <th>0</th>\n",
       "      <td>0</td>\n",
       "      <td>1</td>\n",
       "      <td>1</td>\n",
       "      <td>0</td>\n",
       "      <td>1</td>\n",
       "      <td>0</td>\n",
       "    </tr>\n",
       "    <tr>\n",
       "      <th>1</th>\n",
       "      <td>0</td>\n",
       "      <td>1</td>\n",
       "      <td>0</td>\n",
       "      <td>0</td>\n",
       "      <td>1</td>\n",
       "      <td>1</td>\n",
       "    </tr>\n",
       "    <tr>\n",
       "      <th>2</th>\n",
       "      <td>1</td>\n",
       "      <td>0</td>\n",
       "      <td>0</td>\n",
       "      <td>1</td>\n",
       "      <td>1</td>\n",
       "      <td>0</td>\n",
       "    </tr>\n",
       "  </tbody>\n",
       "</table>\n",
       "</div>"
      ],
      "text/plain": [
       "   Тип_Джип  Тип_Спортивный  Производство_США  Производство_Япония  \\\n",
       "0         0               1                 1                    0   \n",
       "1         0               1                 0                    0   \n",
       "2         1               0                 0                    1   \n",
       "\n",
       "   Повреждения_нет  Цвет_Красный  \n",
       "0                1             0  \n",
       "1                1             1  \n",
       "2                1             0  "
      ]
     },
     "execution_count": 11,
     "metadata": {},
     "output_type": "execute_result"
    }
   ],
   "source": [
    "df2_test"
   ]
  },
  {
   "cell_type": "markdown",
   "metadata": {},
   "source": [
    "### Игрушечный набор данных №3. \"Выдача кредита\""
   ]
  },
  {
   "cell_type": "code",
   "execution_count": 12,
   "metadata": {
    "collapsed": false
   },
   "outputs": [
    {
     "data": {
      "text/html": [
       "<div>\n",
       "<table border=\"1\" class=\"dataframe\">\n",
       "  <thead>\n",
       "    <tr style=\"text-align: right;\">\n",
       "      <th></th>\n",
       "      <th>Выдать кредит</th>\n",
       "      <th>Возраст_молодой</th>\n",
       "      <th>Возраст_пожилой</th>\n",
       "      <th>Возраст_средний</th>\n",
       "      <th>Образование_высшее</th>\n",
       "      <th>Образование_специальное</th>\n",
       "      <th>Образование_среднее</th>\n",
       "      <th>Зарпалата_высокая</th>\n",
       "      <th>Зарпалата_низкая</th>\n",
       "      <th>Зарпалата_средняя</th>\n",
       "      <th>Пол</th>\n",
       "    </tr>\n",
       "  </thead>\n",
       "  <tbody>\n",
       "    <tr>\n",
       "      <th>0</th>\n",
       "      <td>0</td>\n",
       "      <td>1</td>\n",
       "      <td>0</td>\n",
       "      <td>0</td>\n",
       "      <td>1</td>\n",
       "      <td>0</td>\n",
       "      <td>0</td>\n",
       "      <td>1</td>\n",
       "      <td>0</td>\n",
       "      <td>0</td>\n",
       "      <td>1</td>\n",
       "    </tr>\n",
       "    <tr>\n",
       "      <th>1</th>\n",
       "      <td>0</td>\n",
       "      <td>0</td>\n",
       "      <td>0</td>\n",
       "      <td>1</td>\n",
       "      <td>0</td>\n",
       "      <td>1</td>\n",
       "      <td>0</td>\n",
       "      <td>1</td>\n",
       "      <td>0</td>\n",
       "      <td>0</td>\n",
       "      <td>0</td>\n",
       "    </tr>\n",
       "    <tr>\n",
       "      <th>2</th>\n",
       "      <td>0</td>\n",
       "      <td>0</td>\n",
       "      <td>0</td>\n",
       "      <td>1</td>\n",
       "      <td>1</td>\n",
       "      <td>0</td>\n",
       "      <td>0</td>\n",
       "      <td>0</td>\n",
       "      <td>0</td>\n",
       "      <td>1</td>\n",
       "      <td>0</td>\n",
       "    </tr>\n",
       "    <tr>\n",
       "      <th>3</th>\n",
       "      <td>0</td>\n",
       "      <td>0</td>\n",
       "      <td>1</td>\n",
       "      <td>0</td>\n",
       "      <td>1</td>\n",
       "      <td>0</td>\n",
       "      <td>0</td>\n",
       "      <td>1</td>\n",
       "      <td>0</td>\n",
       "      <td>0</td>\n",
       "      <td>1</td>\n",
       "    </tr>\n",
       "    <tr>\n",
       "      <th>4</th>\n",
       "      <td>1</td>\n",
       "      <td>1</td>\n",
       "      <td>0</td>\n",
       "      <td>0</td>\n",
       "      <td>1</td>\n",
       "      <td>0</td>\n",
       "      <td>0</td>\n",
       "      <td>0</td>\n",
       "      <td>1</td>\n",
       "      <td>0</td>\n",
       "      <td>1</td>\n",
       "    </tr>\n",
       "    <tr>\n",
       "      <th>5</th>\n",
       "      <td>1</td>\n",
       "      <td>0</td>\n",
       "      <td>0</td>\n",
       "      <td>1</td>\n",
       "      <td>0</td>\n",
       "      <td>0</td>\n",
       "      <td>1</td>\n",
       "      <td>0</td>\n",
       "      <td>0</td>\n",
       "      <td>1</td>\n",
       "      <td>0</td>\n",
       "    </tr>\n",
       "    <tr>\n",
       "      <th>6</th>\n",
       "      <td>1</td>\n",
       "      <td>0</td>\n",
       "      <td>1</td>\n",
       "      <td>0</td>\n",
       "      <td>0</td>\n",
       "      <td>1</td>\n",
       "      <td>0</td>\n",
       "      <td>0</td>\n",
       "      <td>0</td>\n",
       "      <td>1</td>\n",
       "      <td>0</td>\n",
       "    </tr>\n",
       "  </tbody>\n",
       "</table>\n",
       "</div>"
      ],
      "text/plain": [
       "   Выдать кредит  Возраст_молодой  Возраст_пожилой  Возраст_средний  \\\n",
       "0              0                1                0                0   \n",
       "1              0                0                0                1   \n",
       "2              0                0                0                1   \n",
       "3              0                0                1                0   \n",
       "4              1                1                0                0   \n",
       "5              1                0                0                1   \n",
       "6              1                0                1                0   \n",
       "\n",
       "   Образование_высшее  Образование_специальное  Образование_среднее  \\\n",
       "0                   1                        0                    0   \n",
       "1                   0                        1                    0   \n",
       "2                   1                        0                    0   \n",
       "3                   1                        0                    0   \n",
       "4                   1                        0                    0   \n",
       "5                   0                        0                    1   \n",
       "6                   0                        1                    0   \n",
       "\n",
       "   Зарпалата_высокая  Зарпалата_низкая  Зарпалата_средняя  Пол  \n",
       "0                  1                 0                  0    1  \n",
       "1                  1                 0                  0    0  \n",
       "2                  0                 0                  1    0  \n",
       "3                  1                 0                  0    1  \n",
       "4                  0                 1                  0    1  \n",
       "5                  0                 0                  1    0  \n",
       "6                  0                 0                  1    0  "
      ]
     },
     "execution_count": 12,
     "metadata": {},
     "output_type": "execute_result"
    }
   ],
   "source": [
    "# обучение\n",
    "\n",
    "df3_train = {}\n",
    "df3_train['Пол'] = LabelEncoder().fit_transform(['М','Ж','Ж','М','М','Ж','Ж'])\n",
    "df3_train['Возраст'] = ['молодой','средний','средний','пожилой','молодой','средний','пожилой']\n",
    "df3_train['Образование'] = ['высшее','специальное','высшее','высшее','высшее','среднее','специальное']\n",
    "df3_train['Зарпалата'] = ['высокая','высокая','средняя','высокая','низкая','средняя','средняя']\n",
    "df3_train['Выдать кредит'] = LabelEncoder().fit_transform(['+','+','+','+','-','-','-'])\n",
    "\n",
    "df3_train = create_df(df3_train, fn_3)\n",
    "df3_train['Пол'] = LabelEncoder().fit_transform(['М','Ж','Ж','М','М','Ж','Ж'])\n",
    "df3_train"
   ]
  },
  {
   "cell_type": "code",
   "execution_count": 13,
   "metadata": {
    "collapsed": false
   },
   "outputs": [
    {
     "data": {
      "text/html": [
       "<div>\n",
       "<table border=\"1\" class=\"dataframe\">\n",
       "  <thead>\n",
       "    <tr style=\"text-align: right;\">\n",
       "      <th></th>\n",
       "      <th>Возраст_молодой</th>\n",
       "      <th>Возраст_пожилой</th>\n",
       "      <th>Возраст_средний</th>\n",
       "      <th>Образование_высшее</th>\n",
       "      <th>Образование_специальное</th>\n",
       "      <th>Зарпалата_высокая</th>\n",
       "      <th>Зарпалата_средняя</th>\n",
       "      <th>Пол</th>\n",
       "    </tr>\n",
       "  </thead>\n",
       "  <tbody>\n",
       "    <tr>\n",
       "      <th>0</th>\n",
       "      <td>1</td>\n",
       "      <td>0</td>\n",
       "      <td>0</td>\n",
       "      <td>0</td>\n",
       "      <td>1</td>\n",
       "      <td>1</td>\n",
       "      <td>0</td>\n",
       "      <td>0</td>\n",
       "    </tr>\n",
       "    <tr>\n",
       "      <th>1</th>\n",
       "      <td>0</td>\n",
       "      <td>1</td>\n",
       "      <td>0</td>\n",
       "      <td>1</td>\n",
       "      <td>0</td>\n",
       "      <td>0</td>\n",
       "      <td>1</td>\n",
       "      <td>0</td>\n",
       "    </tr>\n",
       "    <tr>\n",
       "      <th>2</th>\n",
       "      <td>0</td>\n",
       "      <td>0</td>\n",
       "      <td>1</td>\n",
       "      <td>0</td>\n",
       "      <td>1</td>\n",
       "      <td>0</td>\n",
       "      <td>1</td>\n",
       "      <td>1</td>\n",
       "    </tr>\n",
       "  </tbody>\n",
       "</table>\n",
       "</div>"
      ],
      "text/plain": [
       "   Возраст_молодой  Возраст_пожилой  Возраст_средний  Образование_высшее  \\\n",
       "0                1                0                0                   0   \n",
       "1                0                1                0                   1   \n",
       "2                0                0                1                   0   \n",
       "\n",
       "   Образование_специальное  Зарпалата_высокая  Зарпалата_средняя  Пол  \n",
       "0                        1                  1                  0    0  \n",
       "1                        0                  0                  1    0  \n",
       "2                        1                  0                  1    1  "
      ]
     },
     "execution_count": 13,
     "metadata": {},
     "output_type": "execute_result"
    }
   ],
   "source": [
    "# тест\n",
    "\n",
    "df3_test = {}\n",
    "df3_test['Пол'] =  LabelEncoder().fit_transform(['Ж','Ж','М'])\n",
    "df3_test['Возраст'] = ['молодой','пожилой','средний']\n",
    "df3_test['Образование'] = ['специальное','высшее','специальное']\n",
    "df3_test['Зарпалата'] = ['высокая','средняя','средняя']\n",
    "\n",
    "df3_test = create_df(df3_test, fn_3)\n",
    "df3_test['Пол'] =  LabelEncoder().fit_transform(['Ж','Ж','М'])\n",
    "df3_test"
   ]
  },
  {
   "cell_type": "code",
   "execution_count": 14,
   "metadata": {
    "collapsed": false
   },
   "outputs": [
    {
     "data": {
      "text/html": [
       "<div>\n",
       "<table border=\"1\" class=\"dataframe\">\n",
       "  <thead>\n",
       "    <tr style=\"text-align: right;\">\n",
       "      <th></th>\n",
       "      <th>Зарпалата_средняя</th>\n",
       "      <th>Образование_специальное</th>\n",
       "      <th>Зарпалата_высокая</th>\n",
       "      <th>Возраст_пожилой</th>\n",
       "      <th>Пол</th>\n",
       "      <th>Образование_высшее</th>\n",
       "      <th>Возраст_молодой</th>\n",
       "      <th>Возраст_средний</th>\n",
       "    </tr>\n",
       "  </thead>\n",
       "  <tbody>\n",
       "    <tr>\n",
       "      <th>0</th>\n",
       "      <td>0</td>\n",
       "      <td>0</td>\n",
       "      <td>1</td>\n",
       "      <td>0</td>\n",
       "      <td>1</td>\n",
       "      <td>1</td>\n",
       "      <td>1</td>\n",
       "      <td>0</td>\n",
       "    </tr>\n",
       "    <tr>\n",
       "      <th>1</th>\n",
       "      <td>0</td>\n",
       "      <td>1</td>\n",
       "      <td>1</td>\n",
       "      <td>0</td>\n",
       "      <td>0</td>\n",
       "      <td>0</td>\n",
       "      <td>0</td>\n",
       "      <td>1</td>\n",
       "    </tr>\n",
       "    <tr>\n",
       "      <th>2</th>\n",
       "      <td>1</td>\n",
       "      <td>0</td>\n",
       "      <td>0</td>\n",
       "      <td>0</td>\n",
       "      <td>0</td>\n",
       "      <td>1</td>\n",
       "      <td>0</td>\n",
       "      <td>1</td>\n",
       "    </tr>\n",
       "    <tr>\n",
       "      <th>3</th>\n",
       "      <td>0</td>\n",
       "      <td>0</td>\n",
       "      <td>1</td>\n",
       "      <td>1</td>\n",
       "      <td>1</td>\n",
       "      <td>1</td>\n",
       "      <td>0</td>\n",
       "      <td>0</td>\n",
       "    </tr>\n",
       "    <tr>\n",
       "      <th>4</th>\n",
       "      <td>0</td>\n",
       "      <td>0</td>\n",
       "      <td>0</td>\n",
       "      <td>0</td>\n",
       "      <td>1</td>\n",
       "      <td>1</td>\n",
       "      <td>1</td>\n",
       "      <td>0</td>\n",
       "    </tr>\n",
       "    <tr>\n",
       "      <th>5</th>\n",
       "      <td>1</td>\n",
       "      <td>0</td>\n",
       "      <td>0</td>\n",
       "      <td>0</td>\n",
       "      <td>0</td>\n",
       "      <td>0</td>\n",
       "      <td>0</td>\n",
       "      <td>1</td>\n",
       "    </tr>\n",
       "    <tr>\n",
       "      <th>6</th>\n",
       "      <td>1</td>\n",
       "      <td>1</td>\n",
       "      <td>0</td>\n",
       "      <td>1</td>\n",
       "      <td>0</td>\n",
       "      <td>0</td>\n",
       "      <td>0</td>\n",
       "      <td>0</td>\n",
       "    </tr>\n",
       "  </tbody>\n",
       "</table>\n",
       "</div>"
      ],
      "text/plain": [
       "   Зарпалата_средняя  Образование_специальное  Зарпалата_высокая  \\\n",
       "0                  0                        0                  1   \n",
       "1                  0                        1                  1   \n",
       "2                  1                        0                  0   \n",
       "3                  0                        0                  1   \n",
       "4                  0                        0                  0   \n",
       "5                  1                        0                  0   \n",
       "6                  1                        1                  0   \n",
       "\n",
       "   Возраст_пожилой  Пол  Образование_высшее  Возраст_молодой  Возраст_средний  \n",
       "0                0    1                   1                1                0  \n",
       "1                0    0                   0                0                1  \n",
       "2                0    0                   1                0                1  \n",
       "3                1    1                   1                0                0  \n",
       "4                0    1                   1                1                0  \n",
       "5                0    0                   0                0                1  \n",
       "6                1    0                   0                0                0  "
      ]
     },
     "execution_count": 14,
     "metadata": {},
     "output_type": "execute_result"
    }
   ],
   "source": [
    "# Некоторые значения признаков есть в тесте, но нет в трейне и наоборот\n",
    "y_3 = df3_train['Выдать кредит']\n",
    "df3_train, df3_test = intersect_features(train = df3_train, test = df3_test)\n",
    "df3_train"
   ]
  },
  {
   "cell_type": "code",
   "execution_count": 15,
   "metadata": {
    "collapsed": false
   },
   "outputs": [
    {
     "data": {
      "text/html": [
       "<div>\n",
       "<table border=\"1\" class=\"dataframe\">\n",
       "  <thead>\n",
       "    <tr style=\"text-align: right;\">\n",
       "      <th></th>\n",
       "      <th>Зарпалата_средняя</th>\n",
       "      <th>Образование_специальное</th>\n",
       "      <th>Зарпалата_высокая</th>\n",
       "      <th>Возраст_пожилой</th>\n",
       "      <th>Пол</th>\n",
       "      <th>Образование_высшее</th>\n",
       "      <th>Возраст_молодой</th>\n",
       "      <th>Возраст_средний</th>\n",
       "    </tr>\n",
       "  </thead>\n",
       "  <tbody>\n",
       "    <tr>\n",
       "      <th>0</th>\n",
       "      <td>0</td>\n",
       "      <td>1</td>\n",
       "      <td>1</td>\n",
       "      <td>0</td>\n",
       "      <td>0</td>\n",
       "      <td>0</td>\n",
       "      <td>1</td>\n",
       "      <td>0</td>\n",
       "    </tr>\n",
       "    <tr>\n",
       "      <th>1</th>\n",
       "      <td>1</td>\n",
       "      <td>0</td>\n",
       "      <td>0</td>\n",
       "      <td>1</td>\n",
       "      <td>0</td>\n",
       "      <td>1</td>\n",
       "      <td>0</td>\n",
       "      <td>0</td>\n",
       "    </tr>\n",
       "    <tr>\n",
       "      <th>2</th>\n",
       "      <td>1</td>\n",
       "      <td>1</td>\n",
       "      <td>0</td>\n",
       "      <td>0</td>\n",
       "      <td>1</td>\n",
       "      <td>0</td>\n",
       "      <td>0</td>\n",
       "      <td>1</td>\n",
       "    </tr>\n",
       "  </tbody>\n",
       "</table>\n",
       "</div>"
      ],
      "text/plain": [
       "   Зарпалата_средняя  Образование_специальное  Зарпалата_высокая  \\\n",
       "0                  0                        1                  1   \n",
       "1                  1                        0                  0   \n",
       "2                  1                        1                  0   \n",
       "\n",
       "   Возраст_пожилой  Пол  Образование_высшее  Возраст_молодой  Возраст_средний  \n",
       "0                0    0                   0                1                0  \n",
       "1                1    0                   1                0                0  \n",
       "2                0    1                   0                0                1  "
      ]
     },
     "execution_count": 15,
     "metadata": {},
     "output_type": "execute_result"
    }
   ],
   "source": [
    "df3_test"
   ]
  },
  {
   "cell_type": "markdown",
   "metadata": {},
   "source": [
    "## Функции для расчета энтропии и прироста информации"
   ]
  },
  {
   "cell_type": "code",
   "execution_count": 16,
   "metadata": {
    "collapsed": true
   },
   "outputs": [],
   "source": [
    "# данные для тестирования: 9 синих шариков и 11 желтых\n",
    "b = [1 for i in range(9)] + [0 for i in range(11)]\n",
    "\n",
    "# два разбиения\n",
    "b1 = [1 for i in range(8)] + [0 for i in range(5)] # 8 синих и 5 желтых\n",
    "b2 = [1 for i in range(1)] + [0 for i in range(6)] # 1 синий и 6 желтых"
   ]
  },
  {
   "cell_type": "code",
   "execution_count": 17,
   "metadata": {
    "collapsed": false
   },
   "outputs": [],
   "source": [
    "# расчет энтропии Шеннона\n",
    "import math\n",
    "def entropy(a_list):\n",
    "    counts = np.bincount(a_list)\n",
    "    probs = counts / len(a_list)\n",
    "    ent = 0\n",
    "    for i in probs:\n",
    "        if i > 0:\n",
    "            ent -= i * math.log(i, 2)\n",
    "    return ent\n",
    "    pass"
   ]
  },
  {
   "cell_type": "code",
   "execution_count": 18,
   "metadata": {
    "collapsed": false
   },
   "outputs": [
    {
     "name": "stdout",
     "output_type": "stream",
     "text": [
      "0.591672778582\n",
      "0.992774453988\n",
      "2.58496250072\n"
     ]
    }
   ],
   "source": [
    "print(entropy([1,0,0,0,0,0,0])) # 1 синий и 6 желтых\n",
    "print(entropy(b))\n",
    "print(entropy([1,2,3,4,5,6])) # энтропия игральной кости с несмещенным центром тяжести"
   ]
  },
  {
   "cell_type": "code",
   "execution_count": 19,
   "metadata": {
    "collapsed": true
   },
   "outputs": [],
   "source": [
    "# расчет прироста информации\n",
    "\n",
    "def information_gain(root, left, right):\n",
    "    ''' root - изначальный набор данных, left и right два разбиения изначального набора'''\n",
    "    sum_ents = (len(left)/len(root))*entropy(left) + (len(right)/len(root))*entropy(right)\n",
    "    ig = entropy(root) - sum_ents\n",
    "    return ig\n",
    "    # Ваш код здесь\n",
    "    pass"
   ]
  },
  {
   "cell_type": "code",
   "execution_count": 20,
   "metadata": {
    "collapsed": false
   },
   "outputs": [
    {
     "name": "stdout",
     "output_type": "stream",
     "text": [
      "0.160885188414\n"
     ]
    }
   ],
   "source": [
    "print(information_gain(b,b1,b2))"
   ]
  },
  {
   "cell_type": "code",
   "execution_count": 21,
   "metadata": {
    "collapsed": false
   },
   "outputs": [],
   "source": [
    "# функция для расчета прироста информации при разбиении набора данных \n",
    "\n",
    "def split(X,y):\n",
    "    ''' Выводит прирост информации при разбиении по каждому признаку'''\n",
    "    ig_dict = {}\n",
    "    for feature in X.columns:\n",
    "        root_y = y\n",
    "        left_y = y.ix[X[X[feature] == 0].index]\n",
    "        right_y = y.ix[X[X[feature] == 1].index]\n",
    "        ig_dict[feature] = information_gain(root_y, left_y, right_y)\n",
    "    return ig_dict\n",
    "    # Ваш код здесь\n",
    "    pass\n"
   ]
  },
  {
   "cell_type": "markdown",
   "metadata": {},
   "source": [
    "## Постройте деревья решений для трех наборов данных. "
   ]
  },
  {
   "cell_type": "markdown",
   "metadata": {},
   "source": [
    "**Рисовать деревья можно от руки. Дополнительно (для желающих) - отрисовка деревьев, код для построения всего дерева.**"
   ]
  },
  {
   "cell_type": "markdown",
   "metadata": {
    "collapsed": true
   },
   "source": [
    "#### Задача 1"
   ]
  },
  {
   "cell_type": "code",
   "execution_count": 22,
   "metadata": {
    "collapsed": false
   },
   "outputs": [
    {
     "data": {
      "text/plain": [
       "{'Внешность_отталкивающая': 0.19811742113040354,\n",
       " 'Внешность_приятная': 0.19811742113040354,\n",
       " 'Возраст_молодой': 0.0059777114237741236,\n",
       " 'Возраст_пожилой': 0.0059777114237741236,\n",
       " 'Возраст_средний': 0.020244207153756189,\n",
       " 'Доход_высокий': 0.12808527889139454,\n",
       " 'Доход_низкий': 0.19811742113040354,\n",
       " 'Доход_средний': 0.0059777114237741236,\n",
       " 'Образование_высшее': 0.12808527889139454,\n",
       " 'Образование_специальное': 0.0059777114237741236}"
      ]
     },
     "execution_count": 22,
     "metadata": {},
     "output_type": "execute_result"
    }
   ],
   "source": [
    "split(df1_train, y_1)"
   ]
  },
  {
   "cell_type": "markdown",
   "metadata": {},
   "source": [
    "В качестве критерия выбираем  признак `'Внешность_отталкивающая'`."
   ]
  },
  {
   "cell_type": "code",
   "execution_count": 23,
   "metadata": {
    "collapsed": false
   },
   "outputs": [
    {
     "name": "stdout",
     "output_type": "stream",
     "text": [
      "[0 0 0 0 1 1] [1]\n"
     ]
    }
   ],
   "source": [
    "df1_train_l = df1_train[df1_train['Внешность_отталкивающая'] == 0]\n",
    "df1_train_r = df1_train[df1_train['Внешность_отталкивающая'] == 1]\n",
    "y_l = y_1.ix[df1_train[df1_train['Внешность_отталкивающая'] == 0].index]\n",
    "y_r = y_1.ix[df1_train[df1_train['Внешность_отталкивающая'] == 1].index]\n",
    "print(y_l.values, y_r.values)"
   ]
  },
  {
   "cell_type": "markdown",
   "metadata": {},
   "source": [
    "*В данной кодировке `0` - составит пару, `1` - не составит.*"
   ]
  },
  {
   "cell_type": "markdown",
   "metadata": {},
   "source": [
    "Правая вершина содержит объекты одного класса, следовательно, строим ветви дальше только для левой вершины."
   ]
  },
  {
   "cell_type": "code",
   "execution_count": 24,
   "metadata": {
    "collapsed": false
   },
   "outputs": [
    {
     "data": {
      "text/plain": [
       "{'Внешность_отталкивающая': 0.0,\n",
       " 'Внешность_приятная': 0.0,\n",
       " 'Возраст_молодой': 0.044110417748401076,\n",
       " 'Возраст_пожилой': 0.044110417748401076,\n",
       " 'Возраст_средний': 0.25162916738782293,\n",
       " 'Доход_высокий': 0.45914791702724478,\n",
       " 'Доход_низкий': 0.31668908831502096,\n",
       " 'Доход_средний': 0.044110417748401076,\n",
       " 'Образование_высшее': 0.45914791702724478,\n",
       " 'Образование_специальное': 0.044110417748401076}"
      ]
     },
     "execution_count": 24,
     "metadata": {},
     "output_type": "execute_result"
    }
   ],
   "source": [
    "split(df1_train_l, y_l)"
   ]
  },
  {
   "cell_type": "markdown",
   "metadata": {},
   "source": [
    "В качестве критерия выбираем  признак `'Доход_высокий'`, который дает прирост информации равный приросту информации при делении про признаку `'Образование_высшее'`. Между признаками выбираем произвольно. "
   ]
  },
  {
   "cell_type": "code",
   "execution_count": 25,
   "metadata": {
    "collapsed": false
   },
   "outputs": [
    {
     "name": "stdout",
     "output_type": "stream",
     "text": [
      "[0 1 1] [0 0 0]\n"
     ]
    }
   ],
   "source": [
    "df1_train_l_l = df1_train_l[df1_train_l['Доход_высокий'] == 0]\n",
    "df1_train_l_r = df1_train_l[df1_train_l['Доход_высокий'] == 1]\n",
    "y_l_l = y_l.ix[df1_train_l[df1_train_l['Доход_высокий'] == 0].index]\n",
    "y_l_r = y_l.ix[df1_train_l[df1_train_l['Доход_высокий'] == 1].index]\n",
    "print(y_l_l.values, y_l_r.values)"
   ]
  },
  {
   "cell_type": "markdown",
   "metadata": {},
   "source": [
    "Правая вершина содержит объекты одного класса, следовательно, строим ветви дальше только для левой вершины."
   ]
  },
  {
   "cell_type": "code",
   "execution_count": 26,
   "metadata": {
    "collapsed": false
   },
   "outputs": [
    {
     "data": {
      "text/plain": [
       "{'Внешность_отталкивающая': 0.0,\n",
       " 'Внешность_приятная': 0.0,\n",
       " 'Возраст_молодой': 0.25162916738782293,\n",
       " 'Возраст_пожилой': 0.25162916738782293,\n",
       " 'Возраст_средний': 0.91829583405448956,\n",
       " 'Доход_высокий': 0.0,\n",
       " 'Доход_низкий': 0.25162916738782293,\n",
       " 'Доход_средний': 0.25162916738782293,\n",
       " 'Образование_высшее': 0.91829583405448956,\n",
       " 'Образование_специальное': 0.25162916738782293}"
      ]
     },
     "execution_count": 26,
     "metadata": {},
     "output_type": "execute_result"
    }
   ],
   "source": [
    "split(df1_train_l_l, y_l_l)"
   ]
  },
  {
   "cell_type": "markdown",
   "metadata": {},
   "source": [
    "В качестве критерия выбираем признак `'Возраст_средний'`, который дает прирост информации равный приросту информации при делении про признаку `'Образование_высшее'`. Между признаками выбираем произвольно."
   ]
  },
  {
   "cell_type": "code",
   "execution_count": 27,
   "metadata": {
    "collapsed": false
   },
   "outputs": [
    {
     "name": "stdout",
     "output_type": "stream",
     "text": [
      "[1 1] [0]\n"
     ]
    }
   ],
   "source": [
    "df3_train_l_l_l = df1_train_l_l[df1_train_l_l['Возраст_средний'] == 0]\n",
    "df3_train_l_l_r = df1_train_l_l[df1_train_l_l['Возраст_средний'] == 1]\n",
    "y_l_l_l = y_l_l.ix[df1_train_l_l[df1_train_l_l['Возраст_средний'] == 0].index]\n",
    "y_l_l_r = y_l_l.ix[df1_train_l_l[df1_train_l_l['Возраст_средний'] == 1].index]\n",
    "print(y_l_l_l.values, y_l_l_r.values)"
   ]
  },
  {
   "cell_type": "markdown",
   "metadata": {},
   "source": [
    "Дерево готово!"
   ]
  },
  {
   "cell_type": "markdown",
   "metadata": {},
   "source": [
    "<img src=\"Задача1.png\" height=\"500\" width=\"500\">"
   ]
  },
  {
   "cell_type": "markdown",
   "metadata": {},
   "source": [
    "#### Задача 2"
   ]
  },
  {
   "cell_type": "code",
   "execution_count": 28,
   "metadata": {
    "collapsed": false
   },
   "outputs": [
    {
     "data": {
      "text/plain": [
       "{'Повреждения_нет': 0.12808527889139454,\n",
       " 'Производство_США': 0.12808527889139454,\n",
       " 'Производство_Япония': 0.12808527889139454,\n",
       " 'Тип_Джип': 0.12808527889139454,\n",
       " 'Тип_Спортивный': 0.12808527889139454,\n",
       " 'Цвет_Красный': 0.020244207153756189}"
      ]
     },
     "execution_count": 28,
     "metadata": {},
     "output_type": "execute_result"
    }
   ],
   "source": [
    "split(df2_train, y_2)"
   ]
  },
  {
   "cell_type": "markdown",
   "metadata": {},
   "source": [
    "В качестве критерия произвольно выбираем признак `'Повреждения_нет'`. Заметим, что другие признаки (кроме красного цвета) также дают равный прирост информации.   \n",
    "*В данной кодировке 0 - угоняют, 1 - не угоняют.*"
   ]
  },
  {
   "cell_type": "code",
   "execution_count": 29,
   "metadata": {
    "collapsed": false
   },
   "outputs": [
    {
     "name": "stdout",
     "output_type": "stream",
     "text": [
      "[0 1 1] [0 0 0 1]\n"
     ]
    }
   ],
   "source": [
    "df2_train_l = df2_train[df2_train['Повреждения_нет'] == 0]\n",
    "df2_train_r = df2_train[df2_train['Повреждения_нет'] == 1]\n",
    "y_l = y_1.ix[df2_train[df2_train['Повреждения_нет'] == 0].index]\n",
    "y_r = y_1.ix[df2_train[df2_train['Повреждения_нет'] == 1].index]\n",
    "print(y_l.values, y_r.values)"
   ]
  },
  {
   "cell_type": "code",
   "execution_count": 30,
   "metadata": {
    "collapsed": false
   },
   "outputs": [
    {
     "data": {
      "text/plain": [
       "{'Повреждения_нет': 0.0,\n",
       " 'Производство_США': 0.25162916738782293,\n",
       " 'Производство_Япония': 0.25162916738782293,\n",
       " 'Тип_Джип': 0.25162916738782293,\n",
       " 'Тип_Спортивный': 0.25162916738782293,\n",
       " 'Цвет_Красный': 0.25162916738782293}"
      ]
     },
     "execution_count": 30,
     "metadata": {},
     "output_type": "execute_result"
    }
   ],
   "source": [
    "split(df2_train_l, y_l)"
   ]
  },
  {
   "cell_type": "markdown",
   "metadata": {},
   "source": [
    "В качестве критерия произвольно выбираем признак `'Производство_США'`. Заметим, что другие признаки имеют такое же значение прироста информации. "
   ]
  },
  {
   "cell_type": "code",
   "execution_count": 31,
   "metadata": {
    "collapsed": false
   },
   "outputs": [
    {
     "name": "stdout",
     "output_type": "stream",
     "text": [
      "[0 1] [1]\n"
     ]
    }
   ],
   "source": [
    "df2_train_l_l = df2_train_l[df2_train_l['Производство_США'] == 0]\n",
    "df2_train_l_r = df2_train_l[df2_train_l['Производство_США'] == 1]\n",
    "y_l_l = y_l.ix[df2_train_l[df2_train_l['Производство_США'] == 0].index]\n",
    "y_l_r = y_l.ix[df2_train_l[df2_train_l['Производство_США'] == 1].index]\n",
    "print(y_l_l.values, y_l_r.values)"
   ]
  },
  {
   "cell_type": "markdown",
   "metadata": {},
   "source": [
    "Правая вершина содержит объекты одного класса, следовательно, строим ветви дальше только для левой вершины."
   ]
  },
  {
   "cell_type": "code",
   "execution_count": 32,
   "metadata": {
    "collapsed": false
   },
   "outputs": [
    {
     "data": {
      "text/plain": [
       "{'Повреждения_нет': 0.0,\n",
       " 'Производство_США': 0.0,\n",
       " 'Производство_Япония': 0.0,\n",
       " 'Тип_Джип': 1.0,\n",
       " 'Тип_Спортивный': 1.0,\n",
       " 'Цвет_Красный': 0.0}"
      ]
     },
     "execution_count": 32,
     "metadata": {},
     "output_type": "execute_result"
    }
   ],
   "source": [
    "split(df2_train_l_l, y_l_l)"
   ]
  },
  {
   "cell_type": "markdown",
   "metadata": {},
   "source": [
    "В качестве критерия произвольно выбираем признак `'Тип_Джип'`. "
   ]
  },
  {
   "cell_type": "code",
   "execution_count": 33,
   "metadata": {
    "collapsed": false
   },
   "outputs": [
    {
     "name": "stdout",
     "output_type": "stream",
     "text": [
      "[0] [1]\n"
     ]
    }
   ],
   "source": [
    "df2_train_l_l_l = df2_train_l_l[df2_train_l_l['Тип_Джип'] == 0]\n",
    "df2_train_l_l_r = df2_train_l_l[df2_train_l_l['Тип_Джип'] == 1]\n",
    "y_l_l_l = y_l_l.ix[df2_train_l_l[df2_train_l_l['Тип_Джип'] == 0].index]\n",
    "y_l_l_r = y_l_l.ix[df2_train_l_l[df2_train_l_l['Тип_Джип'] == 1].index]\n",
    "print(y_l_l_l.values, y_l_l_r.values)"
   ]
  },
  {
   "cell_type": "markdown",
   "metadata": {},
   "source": [
    "Левая подветвь готова."
   ]
  },
  {
   "cell_type": "code",
   "execution_count": 34,
   "metadata": {
    "collapsed": false
   },
   "outputs": [
    {
     "data": {
      "text/plain": [
       "{'Повреждения_нет': 0.0,\n",
       " 'Производство_США': 0.31127812445913283,\n",
       " 'Производство_Япония': 0.31127812445913283,\n",
       " 'Тип_Джип': 0.31127812445913283,\n",
       " 'Тип_Спортивный': 0.31127812445913283,\n",
       " 'Цвет_Красный': 0.12255624891826566}"
      ]
     },
     "execution_count": 34,
     "metadata": {},
     "output_type": "execute_result"
    }
   ],
   "source": [
    "split(df2_train_r, y_r)"
   ]
  },
  {
   "cell_type": "markdown",
   "metadata": {},
   "source": [
    "В качестве критерия произвольно выбираем признак `'Производство_США'`. Другие признаки имеют такое же значение прироста информации. "
   ]
  },
  {
   "cell_type": "code",
   "execution_count": 35,
   "metadata": {
    "collapsed": false
   },
   "outputs": [
    {
     "name": "stdout",
     "output_type": "stream",
     "text": [
      "[0 0] [0 1]\n"
     ]
    }
   ],
   "source": [
    "df2_train_r_l = df2_train_r[df2_train_r['Производство_США'] == 0]\n",
    "df2_train_r_r = df2_train_r[df2_train_r['Производство_США'] == 1]\n",
    "y_r_l = y_r.ix[df2_train_r[df2_train_r['Производство_США'] == 0].index]\n",
    "y_r_r = y_r.ix[df2_train_r[df2_train_r['Производство_США'] == 1].index]\n",
    "print(y_r_l.values, y_r_r.values)"
   ]
  },
  {
   "cell_type": "markdown",
   "metadata": {},
   "source": [
    "Левая вершина содержит объекты одного класса, следовательно, строим ветви дальше только для правой вершины."
   ]
  },
  {
   "cell_type": "code",
   "execution_count": 36,
   "metadata": {
    "collapsed": false
   },
   "outputs": [
    {
     "data": {
      "text/plain": [
       "{'Повреждения_нет': 0.0,\n",
       " 'Производство_США': 0.0,\n",
       " 'Производство_Япония': 0.0,\n",
       " 'Тип_Джип': 1.0,\n",
       " 'Тип_Спортивный': 1.0,\n",
       " 'Цвет_Красный': 1.0}"
      ]
     },
     "execution_count": 36,
     "metadata": {},
     "output_type": "execute_result"
    }
   ],
   "source": [
    "split(df2_train_r_r, y_r_r)"
   ]
  },
  {
   "cell_type": "markdown",
   "metadata": {},
   "source": [
    "В качестве критерия выбираем признак `'Тип_Джип'`. "
   ]
  },
  {
   "cell_type": "code",
   "execution_count": 37,
   "metadata": {
    "collapsed": false
   },
   "outputs": [
    {
     "name": "stdout",
     "output_type": "stream",
     "text": [
      "[0] [1]\n"
     ]
    }
   ],
   "source": [
    "df2_train_r_r_l = df2_train_r_r[df2_train_r_r['Тип_Джип'] == 0]\n",
    "df2_train_r_r_r = df2_train_r_r[df2_train_r_r['Тип_Джип'] == 1]\n",
    "y_r_r_l = y_r_r.ix[df2_train_r_r[df2_train_r_r['Тип_Джип'] == 0].index]\n",
    "y_r_r_r = y_r_r.ix[df2_train_r_r[df2_train_r_r['Тип_Джип'] == 1].index]\n",
    "print(y_r_r_l.values, y_r_r_r.values)"
   ]
  },
  {
   "cell_type": "markdown",
   "metadata": {},
   "source": [
    "Дерево готово!"
   ]
  },
  {
   "cell_type": "markdown",
   "metadata": {},
   "source": [
    "<img src=\"Задача2.png\" height=\"600\" width=\"600\">"
   ]
  },
  {
   "cell_type": "markdown",
   "metadata": {},
   "source": [
    "#### Задача 3"
   ]
  },
  {
   "cell_type": "code",
   "execution_count": 38,
   "metadata": {
    "collapsed": false
   },
   "outputs": [
    {
     "data": {
      "text/plain": [
       "{'Повреждения_нет': 0.12808527889139454,\n",
       " 'Производство_США': 0.12808527889139454,\n",
       " 'Производство_Япония': 0.12808527889139454,\n",
       " 'Тип_Джип': 0.12808527889139454,\n",
       " 'Тип_Спортивный': 0.12808527889139454,\n",
       " 'Цвет_Красный': 0.020244207153756189}"
      ]
     },
     "execution_count": 38,
     "metadata": {},
     "output_type": "execute_result"
    }
   ],
   "source": [
    "split(df2_train, y_2)"
   ]
  },
  {
   "cell_type": "markdown",
   "metadata": {},
   "source": [
    "В качестве критерия выбираем  признак `'Зарпалата_высокая'`."
   ]
  },
  {
   "cell_type": "code",
   "execution_count": 39,
   "metadata": {
    "collapsed": false
   },
   "outputs": [
    {
     "name": "stdout",
     "output_type": "stream",
     "text": [
      "[0 1 1 1] [0 0 0]\n"
     ]
    }
   ],
   "source": [
    "df3_train_l = df3_train[df3_train['Зарпалата_высокая'] == 0]\n",
    "df3_train_r = df3_train[df3_train['Зарпалата_высокая'] == 1]\n",
    "y_l = y_3.ix[df3_train[df3_train['Зарпалата_высокая'] == 0].index]\n",
    "y_r = y_3.ix[df3_train[df3_train['Зарпалата_высокая'] == 1].index]\n",
    "print(y_l.values, y_r.values)"
   ]
  },
  {
   "cell_type": "markdown",
   "metadata": {},
   "source": [
    "*В данной кодировке `0` - выдать, `1` - не выдавать.*"
   ]
  },
  {
   "cell_type": "markdown",
   "metadata": {},
   "source": [
    "Правая вершина содержит объекты одного класса, следовательно, строим ветви дальше только для левой вершины."
   ]
  },
  {
   "cell_type": "code",
   "execution_count": 40,
   "metadata": {
    "collapsed": false
   },
   "outputs": [
    {
     "data": {
      "text/plain": [
       "{'Возраст_молодой': 0.12255624891826566,\n",
       " 'Возраст_пожилой': 0.12255624891826566,\n",
       " 'Возраст_средний': 0.31127812445913283,\n",
       " 'Зарпалата_высокая': 0.0,\n",
       " 'Зарпалата_средняя': 0.12255624891826566,\n",
       " 'Образование_высшее': 0.31127812445913283,\n",
       " 'Образование_специальное': 0.12255624891826566,\n",
       " 'Пол': 0.12255624891826566}"
      ]
     },
     "execution_count": 40,
     "metadata": {},
     "output_type": "execute_result"
    }
   ],
   "source": [
    "split(df3_train_l, y_l)"
   ]
  },
  {
   "cell_type": "markdown",
   "metadata": {},
   "source": [
    "В качестве критерия выбираем  признак `'Образование_высшее'`, который дает прирост информации равный приросту информации при делении про признаку `'Возраст_средний'`. Между признаками выбираем произвольно. "
   ]
  },
  {
   "cell_type": "code",
   "execution_count": 41,
   "metadata": {
    "collapsed": false
   },
   "outputs": [
    {
     "name": "stdout",
     "output_type": "stream",
     "text": [
      "[1 1] [0 1]\n"
     ]
    }
   ],
   "source": [
    "df3_train_l_l = df3_train_l[df3_train_l['Образование_высшее'] == 0]\n",
    "df3_train_l_r = df3_train_l[df3_train_l['Образование_высшее'] == 1]\n",
    "y_l_l = y_l.ix[df3_train_l[df3_train_l['Образование_высшее'] == 0].index]\n",
    "y_l_r = y_l.ix[df3_train_l[df3_train_l['Образование_высшее'] == 1].index]\n",
    "print(y_l_l.values, y_l_r.values)"
   ]
  },
  {
   "cell_type": "markdown",
   "metadata": {},
   "source": [
    "Левая вершина содержит объекты одного класса, следовательно, строим ветви дальше только для правой вершины."
   ]
  },
  {
   "cell_type": "code",
   "execution_count": 42,
   "metadata": {
    "collapsed": false
   },
   "outputs": [
    {
     "data": {
      "text/plain": [
       "{'Возраст_молодой': 1.0,\n",
       " 'Возраст_пожилой': 0.0,\n",
       " 'Возраст_средний': 1.0,\n",
       " 'Зарпалата_высокая': 0.0,\n",
       " 'Зарпалата_средняя': 1.0,\n",
       " 'Образование_высшее': 0.0,\n",
       " 'Образование_специальное': 0.0,\n",
       " 'Пол': 1.0}"
      ]
     },
     "execution_count": 42,
     "metadata": {},
     "output_type": "execute_result"
    }
   ],
   "source": [
    "split(df3_train_l_r, y_l_r)"
   ]
  },
  {
   "cell_type": "markdown",
   "metadata": {},
   "source": [
    "Выбираем первый из признаков, дающих хорошее разделение - `'Возраст_молодой'`. "
   ]
  },
  {
   "cell_type": "code",
   "execution_count": 43,
   "metadata": {
    "collapsed": false
   },
   "outputs": [
    {
     "name": "stdout",
     "output_type": "stream",
     "text": [
      "[0] [1]\n"
     ]
    }
   ],
   "source": [
    "df3_train_l_r_l = df3_train_l_r[df3_train_l_r['Возраст_молодой'] == 0]\n",
    "df3_train_l_r_r = df3_train_l_r[df3_train_l_r['Возраст_молодой'] == 1]\n",
    "y_l_r_l = y_l_r.ix[df3_train_l_r[df3_train_l_r['Возраст_молодой'] == 0].index]\n",
    "y_l_r_r = y_l_r.ix[df3_train_l_r[df3_train_l_r['Возраст_молодой'] == 1].index]\n",
    "print(y_l_r_l.values, y_l_r_r.values)"
   ]
  },
  {
   "cell_type": "markdown",
   "metadata": {},
   "source": [
    "Дерево готово!"
   ]
  },
  {
   "cell_type": "markdown",
   "metadata": {},
   "source": [
    "<img src=\"Задача3.png\" height=\"500\" width=\"500\">"
   ]
  },
  {
   "cell_type": "markdown",
   "metadata": {},
   "source": [
    "## Постройте деревья решений для трех наборов данных с помощью sklearn"
   ]
  },
  {
   "cell_type": "markdown",
   "metadata": {},
   "source": [
    "**Отобразите деревья с помощью graphviz.**"
   ]
  },
  {
   "cell_type": "code",
   "execution_count": 44,
   "metadata": {
    "collapsed": true
   },
   "outputs": [],
   "source": [
    "from sklearn.tree import DecisionTreeClassifier\n",
    "from sklearn.model_selection import GridSearchCV\n",
    "from sklearn.tree import export_graphviz"
   ]
  },
  {
   "cell_type": "markdown",
   "metadata": {},
   "source": [
    "#### Задача 1"
   ]
  },
  {
   "cell_type": "code",
   "execution_count": 60,
   "metadata": {
    "collapsed": false
   },
   "outputs": [
    {
     "data": {
      "text/plain": [
       "array([1, 1, 1], dtype=int64)"
      ]
     },
     "execution_count": 60,
     "metadata": {},
     "output_type": "execute_result"
    }
   ],
   "source": [
    "tree1 = DecisionTreeClassifier(random_state = 17)\n",
    "tree1.fit(df1_train, y_1)\n",
    "tree1_predictions = tree1.predict(df1_test)\n",
    "tree1_predictions"
   ]
  },
  {
   "cell_type": "code",
   "execution_count": 61,
   "metadata": {
    "collapsed": true
   },
   "outputs": [],
   "source": [
    "export_graphviz(tree1, 'tree1.dot', feature_names=df1_train.columns, filled=True)"
   ]
  },
  {
   "cell_type": "code",
   "execution_count": 62,
   "metadata": {
    "collapsed": false
   },
   "outputs": [
    {
     "data": {
      "image/svg+xml": [
       "<?xml version=\"1.0\" encoding=\"UTF-8\" standalone=\"no\"?>\r\n",
       "<!DOCTYPE svg PUBLIC \"-//W3C//DTD SVG 1.1//EN\"\r\n",
       " \"http://www.w3.org/Graphics/SVG/1.1/DTD/svg11.dtd\">\r\n",
       "<!-- Generated by graphviz version 2.38.0 (20140413.2041)\r\n",
       " -->\r\n",
       "<!-- Title: Tree Pages: 1 -->\r\n",
       "<svg width=\"427pt\" height=\"373pt\"\r\n",
       " viewBox=\"0.00 0.00 427.00 373.00\" xmlns=\"http://www.w3.org/2000/svg\" xmlns:xlink=\"http://www.w3.org/1999/xlink\">\r\n",
       "<g id=\"graph0\" class=\"graph\" transform=\"scale(1 1) rotate(0) translate(4 369)\">\r\n",
       "<title>Tree</title>\r\n",
       "<polygon fill=\"white\" stroke=\"none\" points=\"-4,4 -4,-369 423,-369 423,4 -4,4\"/>\r\n",
       "<!-- 0 -->\r\n",
       "<g id=\"node1\" class=\"node\"><title>0</title>\r\n",
       "<polygon fill=\"#e58139\" fill-opacity=\"0.250980\" stroke=\"black\" points=\"345,-365 0,-365 0,-297 345,-297 345,-365\"/>\r\n",
       "<text text-anchor=\"middle\" x=\"172.5\" y=\"-349.8\" font-family=\"Times New Roman,serif\" font-size=\"14.00\">Р’РЅРµС€РЅРѕСЃС‚СЊ_РїСЂРёСЏС‚РЅР°СЏ &lt;= 0.5</text>\r\n",
       "<text text-anchor=\"middle\" x=\"172.5\" y=\"-334.8\" font-family=\"Times New Roman,serif\" font-size=\"14.00\">gini = 0.4898</text>\r\n",
       "<text text-anchor=\"middle\" x=\"172.5\" y=\"-319.8\" font-family=\"Times New Roman,serif\" font-size=\"14.00\">samples = 7</text>\r\n",
       "<text text-anchor=\"middle\" x=\"172.5\" y=\"-304.8\" font-family=\"Times New Roman,serif\" font-size=\"14.00\">value = [4, 3]</text>\r\n",
       "</g>\r\n",
       "<!-- 1 -->\r\n",
       "<g id=\"node2\" class=\"node\"><title>1</title>\r\n",
       "<polygon fill=\"#399de5\" stroke=\"black\" points=\"123,-253.5 32,-253.5 32,-200.5 123,-200.5 123,-253.5\"/>\r\n",
       "<text text-anchor=\"middle\" x=\"77.5\" y=\"-238.3\" font-family=\"Times New Roman,serif\" font-size=\"14.00\">gini = 0.0</text>\r\n",
       "<text text-anchor=\"middle\" x=\"77.5\" y=\"-223.3\" font-family=\"Times New Roman,serif\" font-size=\"14.00\">samples = 1</text>\r\n",
       "<text text-anchor=\"middle\" x=\"77.5\" y=\"-208.3\" font-family=\"Times New Roman,serif\" font-size=\"14.00\">value = [0, 1]</text>\r\n",
       "</g>\r\n",
       "<!-- 0&#45;&gt;1 -->\r\n",
       "<g id=\"edge1\" class=\"edge\"><title>0&#45;&gt;1</title>\r\n",
       "<path fill=\"none\" stroke=\"black\" d=\"M141.656,-296.884C130.901,-285.336 118.841,-272.387 108.105,-260.86\"/>\r\n",
       "<polygon fill=\"black\" stroke=\"black\" points=\"110.645,-258.452 101.269,-253.52 105.523,-263.223 110.645,-258.452\"/>\r\n",
       "<text text-anchor=\"middle\" x=\"100.381\" y=\"-274.804\" font-family=\"Times New Roman,serif\" font-size=\"14.00\">True</text>\r\n",
       "</g>\r\n",
       "<!-- 2 -->\r\n",
       "<g id=\"node3\" class=\"node\"><title>2</title>\r\n",
       "<polygon fill=\"#e58139\" fill-opacity=\"0.498039\" stroke=\"black\" points=\"396,-261 141,-261 141,-193 396,-193 396,-261\"/>\r\n",
       "<text text-anchor=\"middle\" x=\"268.5\" y=\"-245.8\" font-family=\"Times New Roman,serif\" font-size=\"14.00\">Р”РѕС…РѕРґ_РІС‹СЃРѕРєРёР№ &lt;= 0.5</text>\r\n",
       "<text text-anchor=\"middle\" x=\"268.5\" y=\"-230.8\" font-family=\"Times New Roman,serif\" font-size=\"14.00\">gini = 0.4444</text>\r\n",
       "<text text-anchor=\"middle\" x=\"268.5\" y=\"-215.8\" font-family=\"Times New Roman,serif\" font-size=\"14.00\">samples = 6</text>\r\n",
       "<text text-anchor=\"middle\" x=\"268.5\" y=\"-200.8\" font-family=\"Times New Roman,serif\" font-size=\"14.00\">value = [4, 2]</text>\r\n",
       "</g>\r\n",
       "<!-- 0&#45;&gt;2 -->\r\n",
       "<g id=\"edge2\" class=\"edge\"><title>0&#45;&gt;2</title>\r\n",
       "<path fill=\"none\" stroke=\"black\" d=\"M203.668,-296.884C212.136,-287.887 221.403,-278.041 230.215,-268.678\"/>\r\n",
       "<polygon fill=\"black\" stroke=\"black\" points=\"232.854,-270.98 237.159,-261.299 227.757,-266.183 232.854,-270.98\"/>\r\n",
       "<text text-anchor=\"middle\" x=\"237.917\" y=\"-282.588\" font-family=\"Times New Roman,serif\" font-size=\"14.00\">False</text>\r\n",
       "</g>\r\n",
       "<!-- 3 -->\r\n",
       "<g id=\"node4\" class=\"node\"><title>3</title>\r\n",
       "<polygon fill=\"#399de5\" fill-opacity=\"0.498039\" stroke=\"black\" points=\"310,-157 17,-157 17,-89 310,-89 310,-157\"/>\r\n",
       "<text text-anchor=\"middle\" x=\"163.5\" y=\"-141.8\" font-family=\"Times New Roman,serif\" font-size=\"14.00\">Р’РѕР·СЂР°СЃС‚_СЃСЂРµРґРЅРёР№ &lt;= 0.5</text>\r\n",
       "<text text-anchor=\"middle\" x=\"163.5\" y=\"-126.8\" font-family=\"Times New Roman,serif\" font-size=\"14.00\">gini = 0.4444</text>\r\n",
       "<text text-anchor=\"middle\" x=\"163.5\" y=\"-111.8\" font-family=\"Times New Roman,serif\" font-size=\"14.00\">samples = 3</text>\r\n",
       "<text text-anchor=\"middle\" x=\"163.5\" y=\"-96.8\" font-family=\"Times New Roman,serif\" font-size=\"14.00\">value = [1, 2]</text>\r\n",
       "</g>\r\n",
       "<!-- 2&#45;&gt;3 -->\r\n",
       "<g id=\"edge3\" class=\"edge\"><title>2&#45;&gt;3</title>\r\n",
       "<path fill=\"none\" stroke=\"black\" d=\"M234.41,-192.884C225.057,-183.798 214.812,-173.845 205.089,-164.4\"/>\r\n",
       "<polygon fill=\"black\" stroke=\"black\" points=\"207.39,-161.757 197.779,-157.299 202.513,-166.778 207.39,-161.757\"/>\r\n",
       "</g>\r\n",
       "<!-- 6 -->\r\n",
       "<g id=\"node7\" class=\"node\"><title>6</title>\r\n",
       "<polygon fill=\"#e58139\" stroke=\"black\" points=\"419,-149.5 328,-149.5 328,-96.5 419,-96.5 419,-149.5\"/>\r\n",
       "<text text-anchor=\"middle\" x=\"373.5\" y=\"-134.3\" font-family=\"Times New Roman,serif\" font-size=\"14.00\">gini = 0.0</text>\r\n",
       "<text text-anchor=\"middle\" x=\"373.5\" y=\"-119.3\" font-family=\"Times New Roman,serif\" font-size=\"14.00\">samples = 3</text>\r\n",
       "<text text-anchor=\"middle\" x=\"373.5\" y=\"-104.3\" font-family=\"Times New Roman,serif\" font-size=\"14.00\">value = [3, 0]</text>\r\n",
       "</g>\r\n",
       "<!-- 2&#45;&gt;6 -->\r\n",
       "<g id=\"edge6\" class=\"edge\"><title>2&#45;&gt;6</title>\r\n",
       "<path fill=\"none\" stroke=\"black\" d=\"M302.59,-192.884C314.591,-181.226 328.061,-168.141 340.012,-156.532\"/>\r\n",
       "<polygon fill=\"black\" stroke=\"black\" points=\"342.495,-158.998 347.229,-149.52 337.618,-153.977 342.495,-158.998\"/>\r\n",
       "</g>\r\n",
       "<!-- 4 -->\r\n",
       "<g id=\"node5\" class=\"node\"><title>4</title>\r\n",
       "<polygon fill=\"#399de5\" stroke=\"black\" points=\"155,-53 64,-53 64,-0 155,-0 155,-53\"/>\r\n",
       "<text text-anchor=\"middle\" x=\"109.5\" y=\"-37.8\" font-family=\"Times New Roman,serif\" font-size=\"14.00\">gini = 0.0</text>\r\n",
       "<text text-anchor=\"middle\" x=\"109.5\" y=\"-22.8\" font-family=\"Times New Roman,serif\" font-size=\"14.00\">samples = 2</text>\r\n",
       "<text text-anchor=\"middle\" x=\"109.5\" y=\"-7.8\" font-family=\"Times New Roman,serif\" font-size=\"14.00\">value = [0, 2]</text>\r\n",
       "</g>\r\n",
       "<!-- 3&#45;&gt;4 -->\r\n",
       "<g id=\"edge4\" class=\"edge\"><title>3&#45;&gt;4</title>\r\n",
       "<path fill=\"none\" stroke=\"black\" d=\"M144.613,-88.9485C139.647,-80.2579 134.278,-70.8608 129.267,-62.0917\"/>\r\n",
       "<polygon fill=\"black\" stroke=\"black\" points=\"132.207,-60.1826 124.207,-53.2367 126.129,-63.6557 132.207,-60.1826\"/>\r\n",
       "</g>\r\n",
       "<!-- 5 -->\r\n",
       "<g id=\"node6\" class=\"node\"><title>5</title>\r\n",
       "<polygon fill=\"#e58139\" stroke=\"black\" points=\"264,-53 173,-53 173,-0 264,-0 264,-53\"/>\r\n",
       "<text text-anchor=\"middle\" x=\"218.5\" y=\"-37.8\" font-family=\"Times New Roman,serif\" font-size=\"14.00\">gini = 0.0</text>\r\n",
       "<text text-anchor=\"middle\" x=\"218.5\" y=\"-22.8\" font-family=\"Times New Roman,serif\" font-size=\"14.00\">samples = 1</text>\r\n",
       "<text text-anchor=\"middle\" x=\"218.5\" y=\"-7.8\" font-family=\"Times New Roman,serif\" font-size=\"14.00\">value = [1, 0]</text>\r\n",
       "</g>\r\n",
       "<!-- 3&#45;&gt;5 -->\r\n",
       "<g id=\"edge5\" class=\"edge\"><title>3&#45;&gt;5</title>\r\n",
       "<path fill=\"none\" stroke=\"black\" d=\"M182.736,-88.9485C187.794,-80.2579 193.264,-70.8608 198.367,-62.0917\"/>\r\n",
       "<polygon fill=\"black\" stroke=\"black\" points=\"201.516,-63.6401 203.521,-53.2367 195.466,-60.1189 201.516,-63.6401\"/>\r\n",
       "</g>\r\n",
       "</g>\r\n",
       "</svg>\r\n"
      ],
      "text/plain": [
       "<graphviz.files.Source at 0x22584db74a8>"
      ]
     },
     "execution_count": 62,
     "metadata": {},
     "output_type": "execute_result"
    }
   ],
   "source": [
    "import graphviz\n",
    "from IPython.display import display\n",
    "with open(\"tree1.dot\") as f:\n",
    "    dot_graph = f.read()\n",
    "graphviz.Source(dot_graph)"
   ]
  },
  {
   "cell_type": "markdown",
   "metadata": {
    "collapsed": false
   },
   "source": [
    "Из-за того, что признаки записаны кириллицей, здесь деревья строятся в виде абракадабр. Graphviz Online построил нормальное дерево:"
   ]
  },
  {
   "cell_type": "markdown",
   "metadata": {},
   "source": [
    "<img src=\"tree1.png\" height=\"360\" width=\"355\">"
   ]
  },
  {
   "cell_type": "markdown",
   "metadata": {},
   "source": [
    "#### Задача 2"
   ]
  },
  {
   "cell_type": "code",
   "execution_count": 63,
   "metadata": {
    "collapsed": false
   },
   "outputs": [
    {
     "data": {
      "text/plain": [
       "array([0, 0, 0], dtype=int64)"
      ]
     },
     "execution_count": 63,
     "metadata": {},
     "output_type": "execute_result"
    }
   ],
   "source": [
    "tree2 = DecisionTreeClassifier(random_state = 17, max_depth=2, max_features=3)\n",
    "tree2.fit(df2_train, y_2)\n",
    "tree2_predictions = tree2.predict(df2_test)\n",
    "tree2_predictions"
   ]
  },
  {
   "cell_type": "code",
   "execution_count": 64,
   "metadata": {
    "collapsed": true
   },
   "outputs": [],
   "source": [
    "export_graphviz(tree2, 'tree2.dot', feature_names=df2_train.columns, filled=True)"
   ]
  },
  {
   "cell_type": "code",
   "execution_count": 54,
   "metadata": {
    "collapsed": false
   },
   "outputs": [],
   "source": [
    "# with open(\"tree2.dot\") as f:\n",
    "#     dot_graph = f.read()\n",
    "# graphviz.Source(dot_graph)"
   ]
  },
  {
   "cell_type": "markdown",
   "metadata": {
    "collapsed": false
   },
   "source": [
    "<img src=\"tree2.png\" height=\"700\" width=\"800\">"
   ]
  },
  {
   "cell_type": "markdown",
   "metadata": {},
   "source": [
    "#### Задача 3"
   ]
  },
  {
   "cell_type": "code",
   "execution_count": 65,
   "metadata": {
    "collapsed": false
   },
   "outputs": [
    {
     "data": {
      "text/plain": [
       "array([0, 1, 0], dtype=int64)"
      ]
     },
     "execution_count": 65,
     "metadata": {},
     "output_type": "execute_result"
    }
   ],
   "source": [
    "tree3 = DecisionTreeClassifier(random_state = 17, max_depth=2, max_features=4)\n",
    "tree3.fit(df3_train, y_3)\n",
    "tree3_predictions = tree3.predict(df3_test)\n",
    "tree3_predictions"
   ]
  },
  {
   "cell_type": "code",
   "execution_count": 66,
   "metadata": {
    "collapsed": false
   },
   "outputs": [],
   "source": [
    "export_graphviz(tree3, 'tree3.dot', feature_names=df3_train.columns, filled=True)"
   ]
  },
  {
   "cell_type": "code",
   "execution_count": 59,
   "metadata": {
    "collapsed": false
   },
   "outputs": [],
   "source": [
    "# with open(\"tree3.dot\") as f:\n",
    "#     dot_graph = f.read()\n",
    "# graphviz.Source(dot_graph)"
   ]
  },
  {
   "cell_type": "markdown",
   "metadata": {},
   "source": [
    "<img src=\"tree3.png\" height=\"500\" width=\"400\">"
   ]
  }
 ],
 "metadata": {
  "anaconda-cloud": {},
  "kernelspec": {
   "display_name": "Python 3",
   "language": "python",
   "name": "python3"
  },
  "language_info": {
   "codemirror_mode": {
    "name": "ipython",
    "version": 3
   },
   "file_extension": ".py",
   "mimetype": "text/x-python",
   "name": "python",
   "nbconvert_exporter": "python",
   "pygments_lexer": "ipython3",
   "version": "3.6.0"
  }
 },
 "nbformat": 4,
 "nbformat_minor": 0
}
